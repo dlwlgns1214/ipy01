{
 "cells": [
  {
   "cell_type": "markdown",
   "id": "df16353c-4684-4d42-a66d-02c78e39ade0",
   "metadata": {},
   "source": [
    "<div style=\"font-size:2em\">ML문법\n",
    "<hr/>\n",
    "\n",
    "[문자열 자료형](\"https://wikidocs.net/13\")\n",
    "<span style=\"color:red\">파이썬 학습 노트<span/>"
   ]
  },
  {
   "cell_type": "markdown",
   "id": "66034765-5904-4cc1-8636-94550763c317",
   "metadata": {},
   "source": [
    "# 수업시작"
   ]
  },
  {
   "cell_type": "markdown",
   "id": "f804143a-1cac-446f-8ee6-796c08b006e3",
   "metadata": {},
   "source": [
    "주피터랩 단축키<br>\n",
    "A : 위 삽입<br>\n",
    "B : 아래 삽입<br>\n",
    "Ctrl + Shift + 위 : 셀 위로 이동<br>\n",
    "Ctrl + Shift + 아래 : 셀 아래로 이동<br>\n",
    "Shift+Enter : 셀 실행<br>\n",
    "D 두번: 셀 삭제<br>\n",
    "X : 셀 잘라내기<br>\n",
    "C : 셀 복사<br>\n",
    "V : 셀 붙여넣기<br>\n",
    "Z : undo<br>\n",
    "Shift+zero : redo<br>\n"
   ]
  },
  {
   "cell_type": "code",
   "execution_count": 1,
   "id": "a6863a7e-26dc-4225-80a2-731ecd9e3c50",
   "metadata": {},
   "outputs": [
    {
     "data": {
      "text/plain": [
       "2"
      ]
     },
     "execution_count": 1,
     "metadata": {},
     "output_type": "execute_result"
    }
   ],
   "source": [
    "1+1"
   ]
  },
  {
   "cell_type": "code",
   "execution_count": 2,
   "id": "2a96f25f-d578-4f9c-888d-2df0da5199ee",
   "metadata": {},
   "outputs": [
    {
     "name": "stdout",
     "output_type": "stream",
     "text": [
      "안녕하세요\n"
     ]
    }
   ],
   "source": [
    "print('안녕하세요')"
   ]
  },
  {
   "cell_type": "code",
   "execution_count": 3,
   "id": "fb2c277a-bfd1-45e2-9711-60b284dd9207",
   "metadata": {},
   "outputs": [],
   "source": [
    "a='안녕'\n",
    "b='하세요'"
   ]
  },
  {
   "cell_type": "code",
   "execution_count": 7,
   "id": "5414ff08-12ef-4304-8ada-ba63fc6b9176",
   "metadata": {},
   "outputs": [
    {
     "name": "stdout",
     "output_type": "stream",
     "text": [
      "안녕이고하세요이다\n"
     ]
    }
   ],
   "source": [
    "#javascript 에서는 console.log(`${a}이고 ${b}이다.`)\n",
    "print(f'{a}이고{b}이다')"
   ]
  },
  {
   "cell_type": "code",
   "execution_count": 9,
   "id": "18e117fb-e113-4b91-8818-689757ea1070",
   "metadata": {},
   "outputs": [
    {
     "name": "stdout",
     "output_type": "stream",
     "text": [
      "12가 크다\n"
     ]
    }
   ],
   "source": [
    "if 12 > 5 : \n",
    "    print('12가 크다')"
   ]
  },
  {
   "cell_type": "markdown",
   "id": "9bb4bbf2-abaf-4c43-8064-fca9e9edd198",
   "metadata": {},
   "source": [
    "for v in [1,2,3,4,5]:\n",
    "    print(f'값은? {v}')"
   ]
  },
  {
   "cell_type": "code",
   "execution_count": 13,
   "id": "82c2c659-107f-44cf-8a87-ee39402bf819",
   "metadata": {},
   "outputs": [
    {
     "name": "stdout",
     "output_type": "stream",
     "text": [
      "1\n",
      "2\n",
      "3\n",
      "4\n",
      "5\n"
     ]
    }
   ],
   "source": [
    "i = 0\n",
    "while i < 5:\n",
    "    i+=1\n",
    "    print(i)"
   ]
  },
  {
   "cell_type": "code",
   "execution_count": 15,
   "id": "608f523e-91e8-439e-973b-56f4aad9ee89",
   "metadata": {},
   "outputs": [],
   "source": [
    "def add(a,b):\n",
    "    return a+b"
   ]
  },
  {
   "cell_type": "code",
   "execution_count": 16,
   "id": "94cb5f44-4180-4c97-91d6-c2e29239fa40",
   "metadata": {},
   "outputs": [
    {
     "data": {
      "text/plain": [
       "44"
      ]
     },
     "execution_count": 16,
     "metadata": {},
     "output_type": "execute_result"
    }
   ],
   "source": [
    "add(11,33)"
   ]
  },
  {
   "cell_type": "markdown",
   "id": "78aa2197-0cc6-4fef-88d6-dff6b5dc28d0",
   "metadata": {},
   "source": [
    "# 기초, 자료형(P.45)"
   ]
  },
  {
   "cell_type": "markdown",
   "id": "ea4d67cb-428a-4621-ae26-f7eba089b17e",
   "metadata": {},
   "source": [
    "## 숫자형"
   ]
  },
  {
   "cell_type": "markdown",
   "id": "ddd147de-a97c-409e-a9a6-e135c604463c",
   "metadata": {},
   "source": [
    "### 정수형"
   ]
  },
  {
   "cell_type": "code",
   "execution_count": 1,
   "id": "f6936af8-7c61-4a9c-b5c9-8d85545c359b",
   "metadata": {},
   "outputs": [],
   "source": [
    "a = 123\n",
    "b = -123\n",
    "c = 0 "
   ]
  },
  {
   "cell_type": "code",
   "execution_count": 2,
   "id": "9f4ae34e-d28c-44ef-92d1-8a98f06bf18b",
   "metadata": {},
   "outputs": [
    {
     "name": "stdout",
     "output_type": "stream",
     "text": [
      "123 -123 0\n"
     ]
    }
   ],
   "source": [
    "print(a, b, c)"
   ]
  },
  {
   "cell_type": "markdown",
   "id": "0761cfe5-e477-46e4-aee7-790f143215fe",
   "metadata": {},
   "source": [
    "### 실수형"
   ]
  },
  {
   "cell_type": "code",
   "execution_count": 9,
   "id": "70eaacb2-d50f-4dae-a946-0df427a3a0b0",
   "metadata": {},
   "outputs": [],
   "source": [
    "aa = 1.23\n",
    "bb = -3.1415\n",
    "cc = 3.14e2  #e는 10^ 즉, e2는 10의 2승이라는 뜻"
   ]
  },
  {
   "cell_type": "code",
   "execution_count": 8,
   "id": "81ea9fac-aaac-4ce8-9868-b2d7c23e4e6f",
   "metadata": {},
   "outputs": [
    {
     "name": "stdout",
     "output_type": "stream",
     "text": [
      "1.23 -3.1415 314.0\n"
     ]
    }
   ],
   "source": [
    "print(aa, bb, cc)"
   ]
  },
  {
   "cell_type": "markdown",
   "id": "a6784f45-9a15-44e2-8c5a-8a576263374d",
   "metadata": {},
   "source": [
    "### 8진수와 16진수\n",
    "    8진수 0o17, 16진수 0x17"
   ]
  },
  {
   "cell_type": "code",
   "execution_count": 11,
   "id": "9192e92b-8c27-4f20-9599-16ac41b776c3",
   "metadata": {},
   "outputs": [
    {
     "name": "stdout",
     "output_type": "stream",
     "text": [
      "15 23\n"
     ]
    }
   ],
   "source": [
    "a = 0o17\n",
    "b= 0x17\n",
    "print(a, b)"
   ]
  },
  {
   "cell_type": "markdown",
   "id": "c5a5396b-79c6-44b1-908c-22eb8ad4addc",
   "metadata": {},
   "source": [
    "### 숫자형을 활용하기 위한 연산자"
   ]
  },
  {
   "cell_type": "markdown",
   "id": "11d65a44-db2a-47aa-a384-fafdbfa2a602",
   "metadata": {},
   "source": [
    "#### 사칙연산"
   ]
  },
  {
   "cell_type": "code",
   "execution_count": 12,
   "id": "124b8b40-f481-4e70-b222-afe8bd9a8ebd",
   "metadata": {},
   "outputs": [
    {
     "name": "stdout",
     "output_type": "stream",
     "text": [
      "6912\n",
      "-4444\n",
      "7006652\n",
      "0.2173300457907714\n",
      "411.3333333333333\n",
      "411\n",
      "1522756 183056925752\n"
     ]
    }
   ],
   "source": [
    "a= 1234\n",
    "b= 5678\n",
    "print(a+b)\n",
    "print(a-b)\n",
    "print(a*b)\n",
    "print(a/b)\n",
    "print(a/3)\n",
    "print(a//3)\n",
    "print(a**2, b**3)"
   ]
  },
  {
   "cell_type": "markdown",
   "id": "dacb9547-f964-4ccc-a638-f7e84cc0b9bf",
   "metadata": {},
   "source": [
    "## 문자열 자료형(P.50)"
   ]
  },
  {
   "cell_type": "markdown",
   "id": "168d5eeb-373c-4235-b0b4-913ee17adbc6",
   "metadata": {},
   "source": [
    "### 문자열 만드는법"
   ]
  },
  {
   "cell_type": "markdown",
   "id": "f3ee9ef4-fbc7-4e96-a93e-b750c3bdf3e1",
   "metadata": {},
   "source": [
    "#### 큰 따옴표 양쪽으로 둘러싸기"
   ]
  },
  {
   "cell_type": "code",
   "execution_count": 13,
   "id": "9deb8966-e9dc-462d-b570-8f5b1f2bf456",
   "metadata": {},
   "outputs": [
    {
     "data": {
      "text/plain": [
       "'안녕'"
      ]
     },
     "execution_count": 13,
     "metadata": {},
     "output_type": "execute_result"
    }
   ],
   "source": [
    "\"안녕\""
   ]
  },
  {
   "cell_type": "markdown",
   "id": "89af0fdf-200a-4128-b77e-2d44c64d5dd9",
   "metadata": {},
   "source": [
    "#### 작은 따옴표 양쪽 둘러싸기"
   ]
  },
  {
   "cell_type": "code",
   "execution_count": 14,
   "id": "b6a46250-063e-4845-95eb-e3b1157ce51b",
   "metadata": {},
   "outputs": [
    {
     "data": {
      "text/plain": [
       "'반가워'"
      ]
     },
     "execution_count": 14,
     "metadata": {},
     "output_type": "execute_result"
    }
   ],
   "source": [
    "'반가워'"
   ]
  },
  {
   "cell_type": "markdown",
   "id": "b25e966c-b20c-49b8-937c-a4a23b2d3381",
   "metadata": {},
   "source": [
    "#### 큰 따옴표 3개를 연속으로 쓰기"
   ]
  },
  {
   "cell_type": "code",
   "execution_count": 15,
   "id": "eb1a8715-2cb7-4e99-b4d4-e60976ab2c95",
   "metadata": {},
   "outputs": [
    {
     "data": {
      "text/plain": [
       "'반갑다\\n친구야'"
      ]
     },
     "execution_count": 15,
     "metadata": {},
     "output_type": "execute_result"
    }
   ],
   "source": [
    "\"\"\"반갑다\n",
    "친구야\"\"\""
   ]
  },
  {
   "cell_type": "markdown",
   "id": "f41b7e06-ecaf-4cdf-907a-72aee77ef91e",
   "metadata": {},
   "source": [
    "#### 작은 따옴표 3개를 연속으로 쓰기"
   ]
  },
  {
   "cell_type": "code",
   "execution_count": 16,
   "id": "6db545ca-ce8e-444d-bd97-57384c306e6a",
   "metadata": {},
   "outputs": [
    {
     "data": {
      "text/plain": [
       "'고마워\\n친구야'"
      ]
     },
     "execution_count": 16,
     "metadata": {},
     "output_type": "execute_result"
    }
   ],
   "source": [
    "'''고마워\n",
    "친구야'''"
   ]
  },
  {
   "cell_type": "markdown",
   "id": "3cfa26e3-4d94-49cc-9738-ca4c5b330313",
   "metadata": {},
   "source": [
    "### 문자열 안에 작은 따옴표 또는 큰 따옴표"
   ]
  },
  {
   "cell_type": "markdown",
   "id": "33996c1f-2310-471e-a8f3-aad142e495e0",
   "metadata": {},
   "source": [
    "#### 문자열에 작은 따옴표 포함하기"
   ]
  },
  {
   "cell_type": "code",
   "execution_count": 37,
   "id": "6316c12e-987d-4fb4-b25a-126c0bde7d62",
   "metadata": {},
   "outputs": [
    {
     "name": "stdout",
     "output_type": "stream",
     "text": [
      "그가 '안녕하세요'라고 말했다\n"
     ]
    }
   ],
   "source": [
    "say = \"그가 '안녕하세요'라고 말했다\"\n",
    "print(say)"
   ]
  },
  {
   "cell_type": "markdown",
   "id": "78e23b4a-459e-4f1a-91c7-6256f13f838a",
   "metadata": {},
   "source": [
    "#### 문자열에 큰 따옴표 포함하기"
   ]
  },
  {
   "cell_type": "code",
   "execution_count": 22,
   "id": "e75d7820-9744-4159-8ba3-879496e9907c",
   "metadata": {},
   "outputs": [
    {
     "name": "stdout",
     "output_type": "stream",
     "text": [
      "그가 \"안녕하세요\" 라고 말했다\n"
     ]
    }
   ],
   "source": [
    "say = '그가 \"안녕하세요\" 라고 말했다'\n",
    "print(say)"
   ]
  },
  {
   "cell_type": "markdown",
   "id": "ecc89edf-ad0d-43ee-87ff-db4a233afc9a",
   "metadata": {},
   "source": [
    "#### 역슬래시로 이스캐이프 문자 표현"
   ]
  },
  {
   "cell_type": "code",
   "execution_count": 23,
   "id": "dd8d2521-6327-42f8-9db2-b84eeda679f6",
   "metadata": {},
   "outputs": [
    {
     "name": "stdout",
     "output_type": "stream",
     "text": [
      "그가 \"안녕하세요\"라고 말했다\n"
     ]
    }
   ],
   "source": [
    "say = \"그가 \\\"안녕하세요\\\"라고 말했다\"\n",
    "print(say)"
   ]
  },
  {
   "cell_type": "markdown",
   "id": "cb0726e7-12ae-4ea6-93b8-0fa24b528d23",
   "metadata": {},
   "source": [
    "### 여러 줄인 문자열을 변수에 대입하고 싶을 때"
   ]
  },
  {
   "cell_type": "markdown",
   "id": "9827426e-6f5a-4249-93d0-8c4f1beafe6c",
   "metadata": {},
   "source": [
    "### 문자열 연산하기"
   ]
  },
  {
   "cell_type": "markdown",
   "id": "3efd0eef-f9b6-4e05-8335-41c039b75ca4",
   "metadata": {},
   "source": [
    "#### 문자열 더하기"
   ]
  },
  {
   "cell_type": "code",
   "execution_count": 24,
   "id": "f198e549-abd4-44be-97e6-fbf1b6104798",
   "metadata": {},
   "outputs": [
    {
     "name": "stdout",
     "output_type": "stream",
     "text": [
      "파이썬은 재밌다\n"
     ]
    }
   ],
   "source": [
    "a= '파이썬은'\n",
    "b= ' 재밌다'\n",
    "print(a+b)"
   ]
  },
  {
   "cell_type": "markdown",
   "id": "0c743a38-32eb-4fc3-b0a3-62d5a67d861d",
   "metadata": {},
   "source": [
    "#### 문자열 곱하기"
   ]
  },
  {
   "cell_type": "code",
   "execution_count": 25,
   "id": "a4b57440-84ee-4cc3-8018-15c5e02e2641",
   "metadata": {},
   "outputs": [
    {
     "name": "stdout",
     "output_type": "stream",
     "text": [
      "배고파!! 배고파!! 배고파!! 배고파!! 배고파!! 배고파!! 배고파!! 배고파!! 배고파!! 배고파!! \n"
     ]
    }
   ],
   "source": [
    "aa= '배고파!! '\n",
    "print(aa * 10)"
   ]
  },
  {
   "cell_type": "markdown",
   "id": "a892646d-b571-41ca-9ec1-4ac1a341def5",
   "metadata": {},
   "source": [
    "#### 문자열 곱하기(응용)"
   ]
  },
  {
   "cell_type": "code",
   "execution_count": 26,
   "id": "3acb6770-f4e1-4e75-b7a1-5d92b0413e1b",
   "metadata": {},
   "outputs": [
    {
     "name": "stdout",
     "output_type": "stream",
     "text": [
      "==================================================\n",
      "나의 프로그램\n",
      "==================================================\n"
     ]
    }
   ],
   "source": [
    "print('='*50)\n",
    "print('나의 프로그램')\n",
    "print('='*50)"
   ]
  },
  {
   "cell_type": "markdown",
   "id": "049b325e-59dd-40b6-9eea-0beddcaa1fab",
   "metadata": {},
   "source": [
    "#### 문자열 길이 구하기 (중요)"
   ]
  },
  {
   "cell_type": "code",
   "execution_count": 27,
   "id": "90b224af-3c92-4f81-b514-44f6e4ad95ed",
   "metadata": {},
   "outputs": [
    {
     "data": {
      "text/plain": [
       "17"
      ]
     },
     "execution_count": 27,
     "metadata": {},
     "output_type": "execute_result"
    }
   ],
   "source": [
    "a = \"Life is too short\"\n",
    "len(a)"
   ]
  },
  {
   "cell_type": "markdown",
   "id": "a40a78bb-b25c-4f70-b873-65107d1ac462",
   "metadata": {},
   "source": [
    "### 문자열 인덱싱과 슬라이싱 (매우 중요, P.56)\n",
    "<hr/>"
   ]
  },
  {
   "cell_type": "markdown",
   "id": "22ee0218-e2ac-4a9f-af37-6519be91283e",
   "metadata": {},
   "source": [
    "#### 문자열 인덱싱"
   ]
  },
  {
   "attachments": {
    "afc25097-a11c-43ea-8f15-787618a4bbb7.png": {
     "image/png": "[encoded data removed]"
    }
   },
   "cell_type": "markdown",
   "id": "e5a92b93-705d-4d65-8e4b-746d0169b7d2",
   "metadata": {},
   "source": [
    "![image.png](attachment:afc25097-a11c-43ea-8f15-787618a4bbb7.png)"
   ]
  },
  {
   "cell_type": "code",
   "execution_count": 31,
   "id": "2f391893-a859-4e6c-b9fc-9c8f039d9b7d",
   "metadata": {},
   "outputs": [
    {
     "data": {
      "text/plain": [
       "'e'"
      ]
     },
     "execution_count": 31,
     "metadata": {},
     "output_type": "execute_result"
    }
   ],
   "source": [
    "a = \"Life is too short, You need Python\"\n",
    "a[3]"
   ]
  },
  {
   "cell_type": "markdown",
   "id": "35b8ef6a-8bff-4aaf-b937-e072c9c2008e",
   "metadata": {},
   "source": [
    "#### 문자열 인덱싱 활용하기"
   ]
  },
  {
   "cell_type": "code",
   "execution_count": 38,
   "id": "85738f02-dd2a-4829-a905-dd86dcff170a",
   "metadata": {},
   "outputs": [
    {
     "name": "stdout",
     "output_type": "stream",
     "text": [
      "L L\n",
      "s\n",
      "n o y\n"
     ]
    }
   ],
   "source": [
    "a = \"Life is too short, You need Python\"\n",
    "print(a[0], a[-0])\n",
    "print(a[12])\n",
    "print(a[-1], a[-2], a[-5])"
   ]
  },
  {
   "cell_type": "markdown",
   "id": "8356ae9c-c273-4cf3-9f96-e58d29209175",
   "metadata": {},
   "source": [
    "#### 문자열 슬라이싱"
   ]
  },
  {
   "cell_type": "code",
   "execution_count": 39,
   "id": "2a775fd0-c928-4f6c-b44c-2c0cda222a58",
   "metadata": {},
   "outputs": [
    {
     "name": "stdout",
     "output_type": "stream",
     "text": [
      "Life\n"
     ]
    }
   ],
   "source": [
    "a = \"Life is too short, You need Python\"\n",
    "b = a[0] + a[1] + a[2] + a[3]\n",
    "print(b)"
   ]
  },
  {
   "cell_type": "code",
   "execution_count": 43,
   "id": "ab81b7a1-5e0e-4366-86d8-d1a20c232322",
   "metadata": {},
   "outputs": [
    {
     "name": "stdout",
     "output_type": "stream",
     "text": [
      "Life\n"
     ]
    }
   ],
   "source": [
    "a = \"Life is too short, You need Python\"\n",
    "print(a[0:4]) \n",
    "# 형식 : a[시작번호 : 끝번호]\n",
    "#js의 예 : for (let i =0; i<10; i++) "
   ]
  },
  {
   "cell_type": "code",
   "execution_count": 53,
   "id": "82dbdc21-c0fa-47c8-9fd8-0fd4def9f1cd",
   "metadata": {},
   "outputs": [
    {
     "name": "stdout",
     "output_type": "stream",
     "text": [
      "is\n",
      "You need Python\n",
      "Life is too short\n",
      "Life is too short, You need Python\n",
      "You need\n"
     ]
    }
   ],
   "source": [
    "a = \"Life is too short, You need Python\"\n",
    "print(a[5:7]) \n",
    "print(a[19:]) \n",
    "print(a[:17])\n",
    "print(a[:])\n",
    "print(a[19:-7]) "
   ]
  },
  {
   "cell_type": "markdown",
   "id": "800aadc5-c066-4b39-ac3e-176bc3bc8528",
   "metadata": {},
   "source": [
    "#### 슬라이싱으로 문자나누기(생략)"
   ]
  },
  {
   "cell_type": "markdown",
   "id": "8894373f-72ee-45ab-9061-2b3daa582648",
   "metadata": {},
   "source": [
    "#### 슬라이싱과 대입"
   ]
  },
  {
   "cell_type": "code",
   "execution_count": 54,
   "id": "73be2f70-bd5d-4044-84c0-f61917800ad4",
   "metadata": {},
   "outputs": [
    {
     "data": {
      "text/plain": [
       "'p'"
      ]
     },
     "execution_count": 54,
     "metadata": {},
     "output_type": "execute_result"
    }
   ],
   "source": [
    "a = \"pithon\"\n",
    "a[:1]"
   ]
  },
  {
   "cell_type": "code",
   "execution_count": 60,
   "id": "109472cc-7002-4cbc-bba4-f44eaca66840",
   "metadata": {},
   "outputs": [
    {
     "name": "stdout",
     "output_type": "stream",
     "text": [
      "Pithon => Python\n"
     ]
    }
   ],
   "source": [
    "a = \"Pithon\"\n",
    "t = a[:1] + 'y' + a[2:]\n",
    "print (a,'=>',t)"
   ]
  },
  {
   "attachments": {
    "de401cd0-9a7f-4563-ad66-6abfe4ea7a11.png": {
     "image/png": "[encoded data removed]"
    }
   },
   "cell_type": "markdown",
   "id": "24b897f7-2b83-4a39-8577-863e46384192",
   "metadata": {},
   "source": [
    "![image.png](attachment:de401cd0-9a7f-4563-ad66-6abfe4ea7a11.png)"
   ]
  },
  {
   "cell_type": "markdown",
   "id": "f7f77722-c3ab-4a6c-8736-3617670d2b42",
   "metadata": {},
   "source": [
    "### 문자열 포매팅(P. 63)"
   ]
  },
  {
   "cell_type": "markdown",
   "id": "9ddae149-89fe-4405-8c65-36e41baa95ff",
   "metadata": {},
   "source": [
    "문자열 포맷코드<br/>\n",
    "<table style=\"float:left\">\n",
    "<thead>\n",
    "<tr>\n",
    "<th>코드</th>\n",
    "<th>설명</th>\n",
    "</tr>\n",
    "</thead>\n",
    "<tbody>\n",
    "<tr>\n",
    "<td>%s</td>\n",
    "<td>문자열(String)</td>\n",
    "</tr>\n",
    "<tr>\n",
    "<td>%c</td>\n",
    "<td>문자 1개(character)</td>\n",
    "</tr>\n",
    "<tr>\n",
    "<td>%d</td>\n",
    "<td>정수(Integer)</td>\n",
    "</tr>\n",
    "<tr>\n",
    "<td>%f</td>\n",
    "<td>부동소수(floating-point)</td>\n",
    "</tr>\n",
    "<tr>\n",
    "<td>%o</td>\n",
    "<td>8진수</td>\n",
    "</tr>\n",
    "<tr>\n",
    "<td>%x</td>\n",
    "<td>16진수</td>\n",
    "</tr>\n",
    "<tr>\n",
    "<td>%%</td>\n",
    "<td>Literal % (문자 <code>%</code> 자체)</td>\n",
    "</tr>\n",
    "</tbody>\n",
    "</table>"
   ]
  },
  {
   "cell_type": "markdown",
   "id": "c560ba71-2203-4bbc-8ab8-43d98e6370f1",
   "metadata": {},
   "source": [
    "#### 숫자 바로 대입"
   ]
  },
  {
   "cell_type": "code",
   "execution_count": 72,
   "id": "d6ef9bda-def6-4318-aef6-6b312cbf1d69",
   "metadata": {},
   "outputs": [
    {
     "name": "stdout",
     "output_type": "stream",
     "text": [
      "I eat 3 apples.\n",
      "I eat five apples.\n",
      "1234의 값은 8진수로 2322이고, 16진수는 4d2이다.\n",
      "%f는 3.141500처럼 소숫점을 담을 수 있는데, 단순히 %s는 3.1415 처럼 문자열로 바꾸어 대입하기 때문에 복잡하게 생각하지 않아도 된다. \n"
     ]
    }
   ],
   "source": [
    "print(\"I eat %d apples.\" % 3)\n",
    "print(\"I eat %s apples.\" % \"five\")\n",
    "num = 1234\n",
    "print(\"%d의 값은 8진수로 %o이고, 16진수는 %x이다.\" %(num,num,num))\n",
    "pi = 3.1415\n",
    "print(\"%%f는 %f처럼 소숫점을 담을 수 있는데, 단순히 %%s는 %s 처럼 문자열로 바꾸어 대입하기 때문에 복잡하게 생각하지 않아도 된다. \" %(pi,pi))"
   ]
  },
  {
   "cell_type": "markdown",
   "id": "20f6ca27-4777-45e6-9fa4-4f9efc0e7718",
   "metadata": {},
   "source": [
    "### 포맷코드와 숫자 함께 사용하기"
   ]
  },
  {
   "cell_type": "markdown",
   "id": "b1796946-b5bb-4ad9-8082-80e3000f6bfb",
   "metadata": {},
   "source": [
    "#### 정렬과 공백"
   ]
  },
  {
   "attachments": {
    "30be14bd-a98c-4cf1-8063-d45f944d829e.png": {
     "image/png": "[encoded data removed]"
    }
   },
   "cell_type": "markdown",
   "id": "2d1d866e-ce69-4456-8b22-ab862dea1019",
   "metadata": {},
   "source": [
    "오른쪽 정렬<br>\n",
    "![image.png](attachment:30be14bd-a98c-4cf1-8063-d45f944d829e.png)<br>"
   ]
  },
  {
   "cell_type": "code",
   "execution_count": 74,
   "id": "40e7e4a4-dbec-490a-b182-1b411a23d424",
   "metadata": {},
   "outputs": [
    {
     "name": "stdout",
     "output_type": "stream",
     "text": [
      "        hi\n"
     ]
    }
   ],
   "source": [
    "print(\"%10s\" % \"hi\")"
   ]
  },
  {
   "attachments": {
    "4b06d579-fcf5-46cd-b8f8-1ae2268f1727.png": {
     "image/png": "[encoded data removed]"
    }
   },
   "cell_type": "markdown",
   "id": "cfa1d92d-9baf-400f-aec7-ded13e8e32dd",
   "metadata": {},
   "source": [
    "왼쪽 정렬<br>\n",
    "![image.png](attachment:4b06d579-fcf5-46cd-b8f8-1ae2268f1727.png)\n",
    "<br>"
   ]
  },
  {
   "cell_type": "code",
   "execution_count": 75,
   "id": "640c1708-28c7-4912-aff9-0c10602f972b",
   "metadata": {},
   "outputs": [
    {
     "name": "stdout",
     "output_type": "stream",
     "text": [
      "hi        jane.\n"
     ]
    }
   ],
   "source": [
    "print(\"%-10sjane.\" % \"hi\")"
   ]
  },
  {
   "cell_type": "markdown",
   "id": "2dd2a6b3-3eee-4120-902a-3249bb59873f",
   "metadata": {},
   "source": [
    "#### 소수점 표현하기"
   ]
  },
  {
   "attachments": {
    "030dea1c-31b0-405b-bafd-1032c995eb2d.png": {
     "image/png": "[encoded data removed]"
    }
   },
   "cell_type": "markdown",
   "id": "8e53efa3-0e49-49e0-84bb-4b9a98c66ced",
   "metadata": {},
   "source": [
    "![image.png](attachment:030dea1c-31b0-405b-bafd-1032c995eb2d.png)"
   ]
  },
  {
   "cell_type": "code",
   "execution_count": 78,
   "id": "330cfda0-b86a-4856-9f2a-ea0c7e5fe702",
   "metadata": {},
   "outputs": [
    {
     "name": "stdout",
     "output_type": "stream",
     "text": [
      "3.1416\n",
      "    3.1416\n",
      "3.1416    kkkk\n"
     ]
    }
   ],
   "source": [
    "pi = 3.141592\n",
    "print(\"%0.4f\" % pi)\n",
    "print(\"%10.4f\" % pi)\n",
    "print(\"%-10.4fkkkk\" % pi)"
   ]
  },
  {
   "cell_type": "markdown",
   "id": "dc701aa2-d1e6-404e-87ea-adf104d27b01",
   "metadata": {},
   "source": [
    "### format 함수를 사용한 포메팅"
   ]
  },
  {
   "cell_type": "markdown",
   "id": "b5c8daa7-baef-447a-9f0a-07a312b87aed",
   "metadata": {},
   "source": [
    "#### 숫자 바로 대입하기"
   ]
  },
  {
   "cell_type": "code",
   "execution_count": 4,
   "id": "4531fc5e-6d1f-4d21-9721-e8ea2d0f5d3f",
   "metadata": {},
   "outputs": [
    {
     "name": "stdout",
     "output_type": "stream",
     "text": [
      "I eat 1004's 777EA apples\n"
     ]
    }
   ],
   "source": [
    "a = \"I eat {0}'s {1}EA apples\".format(1004,777)\n",
    "print(a)"
   ]
  },
  {
   "cell_type": "markdown",
   "id": "d63beda7-f92f-4600-804f-48e5906f9c26",
   "metadata": {},
   "source": [
    "#### 숫자 값을 가진 변수로 대입하기"
   ]
  },
  {
   "cell_type": "code",
   "execution_count": 5,
   "id": "d40c226f-46b8-4350-af01-60ffb91573ba",
   "metadata": {},
   "outputs": [
    {
     "name": "stdout",
     "output_type": "stream",
     "text": [
      "I eat 1004's 777EA apples\n"
     ]
    }
   ],
   "source": [
    "a = 1004\n",
    "b = 777\n",
    "c = \"I eat {0}'s {1}EA apples\".format(a,b)\n",
    "print(c)"
   ]
  },
  {
   "cell_type": "markdown",
   "id": "60419afe-70d8-4478-b9b8-314d60b30ce2",
   "metadata": {},
   "source": [
    "#### 2개 이상의 값 넣기"
   ]
  },
  {
   "cell_type": "code",
   "execution_count": 8,
   "id": "f0f325bd-e901-45e8-be3a-564f137ae3d7",
   "metadata": {},
   "outputs": [
    {
     "data": {
      "text/plain": [
       "'I ate 10 apples. so I was sick for three days.'"
      ]
     },
     "execution_count": 8,
     "metadata": {},
     "output_type": "execute_result"
    }
   ],
   "source": [
    "number = 10\n",
    "day = 'three'\n",
    "\"I ate {0} apples. so I was sick for {1} days.\".format(number, day)"
   ]
  },
  {
   "cell_type": "markdown",
   "id": "58628cac-13be-4aac-b87e-112308d45a58",
   "metadata": {},
   "source": [
    "#### 이름으로 넣기"
   ]
  },
  {
   "cell_type": "code",
   "execution_count": 10,
   "id": "f0441f4b-40e0-44d7-9fee-90c945f96a39",
   "metadata": {},
   "outputs": [
    {
     "name": "stdout",
     "output_type": "stream",
     "text": [
      "I ate 10 apples. so I was sick for 3 days.\n"
     ]
    }
   ],
   "source": [
    "a = \"I ate {number} apples. so I was sick for {day} days.\".format(number = 10, day = 3)\n",
    "print(a)"
   ]
  },
  {
   "cell_type": "markdown",
   "id": "1d5d63a6-1545-4ce1-a1c1-bc2c0d6be2ad",
   "metadata": {},
   "source": [
    "#### 인덱스와 이름 혼용해서 넣기"
   ]
  },
  {
   "cell_type": "code",
   "execution_count": 11,
   "id": "0c1655b7-62dd-4115-915c-e3254b7635eb",
   "metadata": {},
   "outputs": [
    {
     "name": "stdout",
     "output_type": "stream",
     "text": [
      "I ate 10 apples. so I was sick for 3 days.\n"
     ]
    }
   ],
   "source": [
    "a = \"I ate {0} apples. so I was sick for {day} days.\".format(10, day = 3)\n",
    "print(a)"
   ]
  },
  {
   "cell_type": "markdown",
   "id": "b5c67a03-59c8-40af-b720-13f168bf76d8",
   "metadata": {},
   "source": [
    "#### 왼쪽 정렬"
   ]
  },
  {
   "cell_type": "code",
   "execution_count": 14,
   "id": "7c1079ab-e30c-4e5a-8de2-093ab6927824",
   "metadata": {},
   "outputs": [
    {
     "name": "stdout",
     "output_type": "stream",
     "text": [
      "hi        kkkk\n"
     ]
    }
   ],
   "source": [
    "a = \"{0:<10}kkkk\".format(\"hi\")\n",
    "print(a)"
   ]
  },
  {
   "cell_type": "markdown",
   "id": "7c05d2eb-a134-4263-85b1-76bc46f2e68d",
   "metadata": {},
   "source": [
    "#### 가운데 정렬"
   ]
  },
  {
   "cell_type": "code",
   "execution_count": 15,
   "id": "bfb4c7aa-ff41-446b-a496-983c8cb6e9da",
   "metadata": {},
   "outputs": [
    {
     "name": "stdout",
     "output_type": "stream",
     "text": [
      "    hi    kkkk\n"
     ]
    }
   ],
   "source": [
    "a = \"{0:^10}kkkk\".format(\"hi\")\n",
    "print(a)"
   ]
  },
  {
   "cell_type": "markdown",
   "id": "516a707e-1180-4cc7-96c2-b232dbb6e23c",
   "metadata": {},
   "source": [
    "#### 공백 채우기"
   ]
  },
  {
   "cell_type": "code",
   "execution_count": 18,
   "id": "f689f5ca-d5e1-489d-a702-b914d519f83d",
   "metadata": {},
   "outputs": [
    {
     "name": "stdout",
     "output_type": "stream",
     "text": [
      "====hi====kkkk\n",
      "hi!!!!!!!!kkkk\n"
     ]
    }
   ],
   "source": [
    "a = \"{0:=^10}kkkk\".format(\"hi\")\n",
    "b = \"{0:!<10}kkkk\".format(\"hi\")\n",
    "print(a)\n",
    "print(b)"
   ]
  },
  {
   "cell_type": "markdown",
   "id": "2be0ae5e-ec3c-4e0b-b302-ffc7de41b0a4",
   "metadata": {},
   "source": [
    "#### 소수점 표현하기"
   ]
  },
  {
   "cell_type": "code",
   "execution_count": 23,
   "id": "20f04137-30a3-4f8d-95a2-d016409de1c9",
   "metadata": {},
   "outputs": [
    {
     "name": "stdout",
     "output_type": "stream",
     "text": [
      "xxxx3.1416\n"
     ]
    }
   ],
   "source": [
    "a = 3.141592\n",
    "b = \"{0:x>10.4f}\".format(a)\n",
    "print(b)"
   ]
  },
  {
   "cell_type": "markdown",
   "id": "6df9ecc9-f563-4f70-a90c-445f9ba0051d",
   "metadata": {},
   "source": [
    "#### {또는} 문자 표현하기"
   ]
  },
  {
   "cell_type": "code",
   "execution_count": 24,
   "id": "7bd97fe5-019d-4815-a71c-3080744aa08f",
   "metadata": {},
   "outputs": [
    {
     "name": "stdout",
     "output_type": "stream",
     "text": [
      "{and}\n"
     ]
    }
   ],
   "source": [
    "a = \"{{and}}\".format()\n",
    "print(a)"
   ]
  },
  {
   "cell_type": "markdown",
   "id": "2df85f19-f0ee-424b-9f4d-e662f84a5ca1",
   "metadata": {},
   "source": [
    "### f문자열 포매팅"
   ]
  },
  {
   "cell_type": "raw",
   "id": "53bcb691-cf54-499f-8539-eafac46c43b8",
   "metadata": {},
   "source": [
    "- 3.6버전 이상만 가능"
   ]
  },
  {
   "cell_type": "code",
   "execution_count": 42,
   "id": "23c14888-5de1-46f0-8267-561c332d3860",
   "metadata": {
    "jp-MarkdownHeadingCollapsed": true
   },
   "outputs": [
    {
     "name": "stdout",
     "output_type": "stream",
     "text": [
      "나의 이름은 홍길동 입니다. 나이는 30입니다.\n",
      "나의 이름은 홍길동 입니다. 나이는 31입니다.\n",
      "나의 이름은 슈퍼맨 입니다. 나이는 300입니다.\n",
      "====hi====\n",
      "===홍길동====\n",
      "xxxx3.1416\n",
      "{ and }\n"
     ]
    }
   ],
   "source": [
    "name = '홍길동'\n",
    "age = 30\n",
    "dic = {'name' : '슈퍼맨', 'age' : 300}\n",
    "\n",
    "print(f'나의 이름은 {name} 입니다. 나이는 {age}입니다.')\n",
    "print(f'나의 이름은 {name} 입니다. 나이는 {age + 1}입니다.')\n",
    "print(f'나의 이름은 {dic[\"name\"]} 입니다. 나이는 {dic[\"age\"]}입니다.')\n",
    "print(f'{\"hi\":=^10}')\n",
    "print(f'{name:=^10}')\n",
    "a = 3.141592\n",
    "b = \"{ and }\"\n",
    "c = f'{a:x>10.4f}'\n",
    "d = f'{b}'\n",
    "print(c)\n",
    "print(d)"
   ]
  },
  {
   "cell_type": "markdown",
   "id": "564d0aed-9d06-4cb8-8b7c-aa0a419d8b56",
   "metadata": {},
   "source": [
    "### 문자열 관련 함수들"
   ]
  },
  {
   "cell_type": "markdown",
   "id": "92b7eb1b-3cde-4ee5-8755-6b3b00db54a2",
   "metadata": {},
   "source": [
    "#### 문자 개수 세기 - count"
   ]
  },
  {
   "cell_type": "code",
   "execution_count": null,
   "id": "251d58ef-b9ea-4683-9574-0038fa925817",
   "metadata": {
    "scrolled": true
   },
   "outputs": [],
   "source": [
    "dir(str())"
   ]
  },
  {
   "cell_type": "code",
   "execution_count": 52,
   "id": "26d8eb47-c91f-4b07-9263-ef0bc9d6e03a",
   "metadata": {},
   "outputs": [
    {
     "name": "stdout",
     "output_type": "stream",
     "text": [
      "2\n"
     ]
    }
   ],
   "source": [
    "a = 'coffee'\n",
    "print(a.count('f'))"
   ]
  },
  {
   "cell_type": "markdown",
   "id": "ab0fbb2a-a045-4706-a323-e0c35ce4a020",
   "metadata": {},
   "source": [
    "#### 2.2.10.2. 위치 알려주기1 - find"
   ]
  },
  {
   "cell_type": "code",
   "execution_count": 58,
   "id": "34d76a95-7e0a-440f-9948-c5af09b99e4d",
   "metadata": {},
   "outputs": [
    {
     "name": "stdout",
     "output_type": "stream",
     "text": [
      "20\n",
      "-1\n"
     ]
    }
   ],
   "source": [
    "a = 'IceAmericano is the best choice in winter'\n",
    "print(a.find('b'))\n",
    "print(a.find('k'))"
   ]
  },
  {
   "cell_type": "code",
   "execution_count": 62,
   "id": "98fc1f5f-fc0a-4602-9adb-131a7c9a0268",
   "metadata": {},
   "outputs": [
    {
     "name": "stdin",
     "output_type": "stream",
     "text": [
      " b\n"
     ]
    },
    {
     "name": "stdout",
     "output_type": "stream",
     "text": [
      "있어! 20 번째\n"
     ]
    }
   ],
   "source": [
    "say = input()\n",
    "if not a.find(say) == -1:\n",
    "    print('있어!', a.find(say),'번째')\n",
    "else: \n",
    "    print('없어!')"
   ]
  },
  {
   "cell_type": "code",
   "execution_count": null,
   "id": "bec17f98-70b9-4437-a5e5-3dff0b0ba7ab",
   "metadata": {},
   "outputs": [],
   "source": []
  },
  {
   "cell_type": "markdown",
   "id": "3094d181-b9a6-4374-a61d-2c1896c17056",
   "metadata": {},
   "source": [
    "#### 2.2.10.3. 위치 알려주기2 - index\n",
    "- 문자열 이외에 리스트 와 튜플 자료형에도 사용 가능하다. (단, 딕셔너리는 안됨)"
   ]
  },
  {
   "cell_type": "code",
   "execution_count": 66,
   "id": "18c146b5-ac43-4abd-b39d-16d6f0d4dca7",
   "metadata": {},
   "outputs": [
    {
     "name": "stdout",
     "output_type": "stream",
     "text": [
      "20\n"
     ]
    }
   ],
   "source": [
    "a = 'IceAmericano is the best choice in winter'\n",
    "print(a.index('b'))\n",
    "# print(a.index('k'))"
   ]
  },
  {
   "cell_type": "markdown",
   "id": "0d2fd4e4-1254-40e5-9f0f-2d2662539d8b",
   "metadata": {},
   "source": [
    "#### 2.2.10.4. 문자열 삽입 - join (중요!)"
   ]
  },
  {
   "cell_type": "code",
   "execution_count": 68,
   "id": "40de2856-620a-4467-9e9c-65d4f6c43870",
   "metadata": {},
   "outputs": [
    {
     "name": "stdout",
     "output_type": "stream",
     "text": [
      "a,b,c,d,e,f,g\n",
      "apple-orange-kiwi-melon-pear-banana\n"
     ]
    }
   ],
   "source": [
    "str = \"abcdefg\"\n",
    "arr = ['apple','orange','kiwi','melon','pear','banana']\n",
    "result = \",\".join(str)\n",
    "result2 = \"-\".join(arr)\n",
    "print(result)\n",
    "print(result2)"
   ]
  },
  {
   "cell_type": "markdown",
   "id": "a8f5a635-2d74-4db6-aad6-88318e2074a5",
   "metadata": {},
   "source": [
    "#### 2.2.10.5. 소문자를 대문자로 바꾸기 - upper"
   ]
  },
  {
   "cell_type": "code",
   "execution_count": 70,
   "id": "5c7d6f45-b5c1-460c-959f-e737f5983bf2",
   "metadata": {},
   "outputs": [
    {
     "name": "stdout",
     "output_type": "stream",
     "text": [
      "BANANA\n"
     ]
    }
   ],
   "source": [
    "a = 'BaNaNa'\n",
    "print(a.upper())"
   ]
  },
  {
   "cell_type": "markdown",
   "id": "8480c330-8424-4b1f-95a1-bce0a68f2e03",
   "metadata": {},
   "source": [
    "#### 2.2.10.6. 대문자를 소문자로 바꾸기 - lower"
   ]
  },
  {
   "cell_type": "code",
   "execution_count": 71,
   "id": "0be9ef57-9198-48c3-80a0-a1b9709c9e36",
   "metadata": {},
   "outputs": [
    {
     "name": "stdout",
     "output_type": "stream",
     "text": [
      "banana\n"
     ]
    }
   ],
   "source": [
    "a = 'BaNaNa'\n",
    "print(a.lower())"
   ]
  },
  {
   "cell_type": "markdown",
   "id": "873ac05b-5162-45d1-8c76-51e018ef979a",
   "metadata": {},
   "source": [
    "#### 2.2.10.7. 왼쪽 공백 지우기 - lstrip"
   ]
  },
  {
   "cell_type": "code",
   "execution_count": 74,
   "id": "ca550131-3bb9-4933-83bb-17c7cf75d257",
   "metadata": {},
   "outputs": [
    {
     "name": "stdout",
     "output_type": "stream",
     "text": [
      "         hi         \n",
      "hi         \n"
     ]
    }
   ],
   "source": [
    "a = f'{\"hi\":^20}'\n",
    "print(a)\n",
    "print(a.lstrip())"
   ]
  },
  {
   "cell_type": "markdown",
   "id": "6ee1b487-2155-4555-91a8-96100fa03578",
   "metadata": {},
   "source": [
    "#### 2.2.10.8. 오른쪽 공백 지우기 - rstrip"
   ]
  },
  {
   "cell_type": "code",
   "execution_count": 78,
   "id": "7aeb6bd7-86c6-472d-99c4-66559d31b4cf",
   "metadata": {},
   "outputs": [
    {
     "name": "stdout",
     "output_type": "stream",
     "text": [
      "              hi              \n",
      "              hi\n"
     ]
    }
   ],
   "source": [
    "b = f'{\"hi\":^30}'\n",
    "print(b)\n",
    "print(b.rstrip())"
   ]
  },
  {
   "cell_type": "markdown",
   "id": "35640db5-da57-44bd-8660-db2ae6cffce1",
   "metadata": {},
   "source": [
    "#### 2.2.10.9. 양쪽 공백 지우기 - strip(중요!)"
   ]
  },
  {
   "cell_type": "code",
   "execution_count": 92,
   "id": "8c21f7a1-f9a8-404d-b358-10d7b9f238ea",
   "metadata": {},
   "outputs": [
    {
     "name": "stdout",
     "output_type": "stream",
     "text": [
      "                   hi                   \n",
      "hi\n",
      "xxxxxxxxxxxxxxhixxxxxxxxxxxxxx\n",
      "hi\n"
     ]
    }
   ],
   "source": [
    "c = f'{\"hi\":^40}'\n",
    "print(c)\n",
    "print(c.strip())\n",
    "d = f'{\"hi\":x^30}'\n",
    "print(d)\n",
    "print(d.strip('x'))"
   ]
  },
  {
   "cell_type": "markdown",
   "id": "411ba774-c91c-4659-8e17-f6f033acf863",
   "metadata": {},
   "source": [
    "#### 2.2.10.10. 문자열 바꾸기 - replace (매우 중요!)"
   ]
  },
  {
   "cell_type": "code",
   "execution_count": 84,
   "id": "dd3d4905-fe30-4428-abaf-9b89adbedea3",
   "metadata": {},
   "outputs": [
    {
     "name": "stdout",
     "output_type": "stream",
     "text": [
      "Life is too short\n",
      "Your leg is too short\n"
     ]
    }
   ],
   "source": [
    "a = \"Life is too short\"\n",
    "print(a)\n",
    "b = a.replace(\"Life\", \"Your leg\")\n",
    "print(b)"
   ]
  },
  {
   "cell_type": "markdown",
   "id": "81385ae1-119c-4c73-ae54-fd13031057df",
   "metadata": {},
   "source": [
    "#### 2.2.10.11. 문자열 나누기 - split(☆매우 중요☆)\n",
    "- 문자열을 배열로 변경할 수 있음(☆)"
   ]
  },
  {
   "cell_type": "code",
   "execution_count": 97,
   "id": "c8981df2-ae9a-4ab9-808d-480d1dd2493f",
   "metadata": {},
   "outputs": [
    {
     "name": "stdout",
     "output_type": "stream",
     "text": [
      "['Life', 'is', 'too', 'short']\n",
      "['Life', 'is', 'too', 'short']\n",
      "I*c*e*A*m*e*r*i*c*a*n*o* *i*s* *t*h*e* *b*e*s*t* *c*h*o*i*c*e* *i*n* *w*i*n*t*e*r\n",
      "IceAmericano is the best choice in winter\n",
      "['IceAmericano', 'is', 'the', 'best', 'choice', 'in', 'winter']\n"
     ]
    }
   ],
   "source": [
    "a = \"Life is too short\"\n",
    "print(a.split())\n",
    "b = \"Life/is/too/short\"\n",
    "print(b.split(\"/\"))\n",
    "str = 'IceAmericano is the best choice in winter'\n",
    "j = \"*\".join(str)\n",
    "print(j)\n",
    "t = j.replace('*','')\n",
    "print(t)\n",
    "s = t.split(' ')\n",
    "print(s)"
   ]
  },
  {
   "cell_type": "markdown",
   "id": "614f27c9-6e74-4255-b633-1314688114db",
   "metadata": {},
   "source": [
    "## 2.3 리스트 자료형"
   ]
  },
  {
   "cell_type": "markdown",
   "id": "7fcd611c-3bd8-4c02-b39b-00cc4ae05a83",
   "metadata": {},
   "source": [
    "### 2.3.1. 리스트 표현"
   ]
  },
  {
   "cell_type": "code",
   "execution_count": 99,
   "id": "3d03e1b3-4226-4efd-9350-1ac9f7c2c812",
   "metadata": {},
   "outputs": [],
   "source": [
    "odd = [1,3,5,7,9]\n",
    "even = [2,4,6,8,10]"
   ]
  },
  {
   "cell_type": "markdown",
   "id": "9e2ce1e4-3432-46c4-b845-8e78bb9fc4a8",
   "metadata": {},
   "source": [
    "### 2.3.2. 리스트의 인덱싱과 슬라이싱"
   ]
  },
  {
   "cell_type": "markdown",
   "id": "70245cbf-3f3c-4c83-b05f-64232c0c15d6",
   "metadata": {},
   "source": [
    "#### 2.3.2.1. 리스트의 인덱싱"
   ]
  },
  {
   "cell_type": "code",
   "execution_count": null,
   "id": "f9ac50d9-9f53-4a3d-92ef-8c67166d6871",
   "metadata": {},
   "outputs": [],
   "source": [
    "a = [1,2,3,['a','b','c']]\n",
    "print(a[0])\n",
    "print(a[-1])\n",
    "print(a[-1][1])"
   ]
  },
  {
   "cell_type": "markdown",
   "id": "20b8fc81-82be-4180-9d0b-7c719e758b05",
   "metadata": {},
   "source": [
    "#### 2.3.2.2. 리스트의 슬라이싱(중요!)"
   ]
  },
  {
   "cell_type": "code",
   "execution_count": 107,
   "id": "1271e171-10c4-46ad-84b8-d8533091fcce",
   "metadata": {},
   "outputs": [
    {
     "name": "stdout",
     "output_type": "stream",
     "text": [
      "[1, 2, 3, 4, 5, 6, 7, 8, 9]\n",
      "[1, 2, 3, 4, 5, 6, 7, 8, 9]\n",
      "[1, 2, 3]\n",
      "[4, 5, 6, 7, 8, 9]\n"
     ]
    }
   ],
   "source": [
    "a = [1,2,3,4,5,6,7,8,9]\n",
    "print(a)\n",
    "\n",
    "print(a[:]) #전체\n",
    "print(a[:3])\n",
    "print(a[3:])"
   ]
  },
  {
   "cell_type": "code",
   "execution_count": 108,
   "id": "65b8463d-6309-4d82-8927-06d7b110ab6a",
   "metadata": {},
   "outputs": [
    {
     "name": "stdout",
     "output_type": "stream",
     "text": [
      "[3, ['a', 'b', 'c'], 4]\n",
      "['a', 'b']\n"
     ]
    }
   ],
   "source": [
    "b = [1,2,3,['a','b','c'],4,5]\n",
    "print(b[2:5])\n",
    "print(b[3][:2])"
   ]
  },
  {
   "cell_type": "markdown",
   "id": "39961aa3-7a41-453d-92b6-31c9daf35cb9",
   "metadata": {},
   "source": [
    "### 2.3.3. 리스트 연산하기"
   ]
  },
  {
   "cell_type": "markdown",
   "id": "a5d02583-d7bb-44aa-a216-7ef872bd57a4",
   "metadata": {},
   "source": [
    "#### 2.3.3.1. 리스트 더하기(+)"
   ]
  },
  {
   "cell_type": "code",
   "execution_count": 110,
   "id": "e7c79ef7-2670-4032-a025-44cca1840c2d",
   "metadata": {},
   "outputs": [
    {
     "name": "stdout",
     "output_type": "stream",
     "text": [
      "[1, 2, 3, 4, 5, 6]\n"
     ]
    }
   ],
   "source": [
    "a = [1,2,3]\n",
    "b = [4,5,6]\n",
    "c = a+b\n",
    "print(c)"
   ]
  },
  {
   "cell_type": "markdown",
   "id": "0a246c34-5384-4622-a386-6bac4fca6b19",
   "metadata": {},
   "source": [
    "#### 2.3.3.2. 리스트 반복하기(*) "
   ]
  },
  {
   "cell_type": "code",
   "execution_count": 111,
   "id": "1e6eebab-0541-40a8-8eb9-119f2ea3ec35",
   "metadata": {},
   "outputs": [
    {
     "name": "stdout",
     "output_type": "stream",
     "text": [
      "[1, 2, 3, 1, 2, 3, 1, 2, 3, 1, 2, 3, 1, 2, 3]\n"
     ]
    }
   ],
   "source": [
    "a = [1,2,3]\n",
    "b = a * 5\n",
    "print(b)"
   ]
  },
  {
   "cell_type": "markdown",
   "id": "842f267e-baa3-4080-9511-b5edcd3d7748",
   "metadata": {},
   "source": [
    "#### 2.3.3.3. 리스트 길이 구하기"
   ]
  },
  {
   "cell_type": "code",
   "execution_count": 2,
   "id": "2c28523f-2abc-474b-b0a4-17c10755b242",
   "metadata": {},
   "outputs": [
    {
     "name": "stdout",
     "output_type": "stream",
     "text": [
      "7 91\n",
      "4개\n",
      "4개\n"
     ]
    }
   ],
   "source": [
    "a = [1,2,3,4,5,6,7]\n",
    "b = a * 13\n",
    "print(len(a),len(b))\n",
    "print(f'{a[3]}개')\n",
    "print(str(a[3]) + '개')"
   ]
  },
  {
   "cell_type": "markdown",
   "id": "f833cb4e-ec20-4cf8-bb73-a9fb756bcb41",
   "metadata": {},
   "source": [
    "### 2.3.4. 리스트의 수정과 삭제"
   ]
  },
  {
   "cell_type": "markdown",
   "id": "844d54c9-e1fb-4070-881d-3c818c1e1b30",
   "metadata": {},
   "source": [
    "#### 2.3.4.1. 리스트의 수정"
   ]
  },
  {
   "cell_type": "code",
   "execution_count": 3,
   "id": "10603862-251d-4db9-8dea-c298449416ed",
   "metadata": {},
   "outputs": [
    {
     "name": "stdout",
     "output_type": "stream",
     "text": [
      "[1, 2, 4]\n"
     ]
    }
   ],
   "source": [
    "a = [1,2,3]\n",
    "a[2] = 4\n",
    "print(a)"
   ]
  },
  {
   "cell_type": "markdown",
   "id": "b2e5ab8d-7dcc-4128-9009-ac3b441aafbe",
   "metadata": {},
   "source": [
    "#### 2.3.4.2. del 리스트 요소 삭제"
   ]
  },
  {
   "cell_type": "code",
   "execution_count": 5,
   "id": "51c8a116-36d0-4824-8f8a-b1c58c2df044",
   "metadata": {},
   "outputs": [
    {
     "name": "stdout",
     "output_type": "stream",
     "text": [
      "[1]\n"
     ]
    }
   ],
   "source": [
    "a = [1,2,3,4,5]\n",
    "del a [2:]\n",
    "del a[-1]\n",
    "print(a)"
   ]
  },
  {
   "cell_type": "markdown",
   "id": "bde78b9f-6d59-4436-9eaf-bda02b7312e6",
   "metadata": {},
   "source": [
    "### 2.3.5. 리스트 관련 함수(☆매우 중요☆)"
   ]
  },
  {
   "cell_type": "markdown",
   "id": "835212eb-162f-4b2f-89c6-395e93b57b2d",
   "metadata": {},
   "source": [
    "#### 2.3.5.1. 요소 추가 append"
   ]
  },
  {
   "cell_type": "code",
   "execution_count": 8,
   "id": "5a572c02-5fb7-4ed1-b569-7655d835a298",
   "metadata": {},
   "outputs": [
    {
     "name": "stdout",
     "output_type": "stream",
     "text": [
      "[1, 2, 3, 4]\n",
      "[1, 2, 3, 4, [11, 22, 33]]\n"
     ]
    }
   ],
   "source": [
    "a = [1,2,3]\n",
    "a.append(4)\n",
    "print(a)\n",
    "a.append([11,22,33])\n",
    "print(a)"
   ]
  },
  {
   "cell_type": "markdown",
   "id": "410aeb71-2ed1-4165-ac89-7eccc2bcf949",
   "metadata": {},
   "source": [
    "#### 2.3.5.2. 정렬 sort"
   ]
  },
  {
   "cell_type": "code",
   "execution_count": 14,
   "id": "a620e0da-aa9c-4f53-bef8-665d73fc71ab",
   "metadata": {},
   "outputs": [
    {
     "name": "stdout",
     "output_type": "stream",
     "text": [
      "[2, 7, 3, 8, 4, 23, 8, 12, 'b', 'z', 'a', 'e']\n",
      "[2, 3, 4, 7, 8, 8, 12, 23]\n",
      "['a', 'b', 'e', 'z']\n",
      "[2, 7, 3, 8, 4, 23, 8, 12, 'b', 'z', 'a', 'e']\n"
     ]
    }
   ],
   "source": [
    "a = [2,7,3,8,4,23,8,12]\n",
    "b = ['b','z','a','e']\n",
    "c = a + b\n",
    "print(c)\n",
    "a.sort()\n",
    "b.sort()\n",
    "#c.sort : 리스트 내 요소 타입이 다를 경우 sort에러가 발생\n",
    "print(a)\n",
    "print(b)\n",
    "print(c)"
   ]
  },
  {
   "cell_type": "markdown",
   "id": "5da38ae3-2f70-4b8c-805b-b4923b90b3f3",
   "metadata": {},
   "source": [
    "#### 2.3.5.3. 뒤집기 reverse\n",
    "- 순서랑 상관업시 있는 그대로 뒤집기"
   ]
  },
  {
   "cell_type": "code",
   "execution_count": 16,
   "id": "87e441be-7059-45ba-a9e9-f88f672ce2d6",
   "metadata": {},
   "outputs": [
    {
     "name": "stdout",
     "output_type": "stream",
     "text": [
      "[2, 7, 3, 8, 4, 23, 8, 12, 'b', 'z', 'a', 'e']\n",
      "[12, 8, 23, 4, 8, 3, 7, 2]\n",
      "['e', 'a', 'z', 'b']\n",
      "[2, 7, 3, 8, 4, 23, 8, 12, 'b', 'z', 'a', 'e']\n"
     ]
    }
   ],
   "source": [
    "a = [2,7,3,8,4,23,8,12]\n",
    "b = ['b','z','a','e']\n",
    "c = a + b\n",
    "print(c)\n",
    "# a.sort : 역순 필요 시 sort와 reverse 같이 사용할 것\n",
    "a.reverse()\n",
    "b.reverse()\n",
    "#c.reverse : 리스트 내 요소 타입이 다를 경우 reverse에러가 발생\n",
    "print(a)\n",
    "print(b)\n",
    "print(c)"
   ]
  },
  {
   "cell_type": "markdown",
   "id": "f05c00a9-f9b7-4e1e-ac0f-66580c512410",
   "metadata": {},
   "source": [
    "#### 2.3.5.4. 반환 index"
   ]
  },
  {
   "cell_type": "code",
   "execution_count": 22,
   "id": "0a08b38e-85f5-4793-976b-fb72d3873a73",
   "metadata": {},
   "outputs": [
    {
     "name": "stdout",
     "output_type": "stream",
     "text": [
      "2\n",
      "1\n"
     ]
    }
   ],
   "source": [
    "a = [1,2,3,4,5]\n",
    "b = ['b','z','a','e']\n",
    "aa = a.index(3)\n",
    "print(aa)\n",
    "#ab = a.index(7) : 없으면 오류가 남\n",
    "#print(ab)\n",
    "bb = b.index('z')\n",
    "print(bb)"
   ]
  },
  {
   "attachments": {
    "0b5a0769-19c2-4838-a893-5ed9f485f952.png": {
     "image/png": "[encoded data removed]"
    }
   },
   "cell_type": "markdown",
   "id": "469cfd8c-69de-40cb-a589-7b83e0eb51fc",
   "metadata": {},
   "source": [
    "![image.png](attachment:0b5a0769-19c2-4838-a893-5ed9f485f952.png)"
   ]
  },
  {
   "cell_type": "markdown",
   "id": "82022d7f-2f84-405c-a9d1-80c4123c51a3",
   "metadata": {},
   "source": [
    "#### 2.3.5.5. 요소 삽입 insert(중요!)"
   ]
  },
  {
   "cell_type": "code",
   "execution_count": 24,
   "id": "a631e3ab-8fdc-4045-b7ed-f8f56f9300f4",
   "metadata": {},
   "outputs": [
    {
     "name": "stdout",
     "output_type": "stream",
     "text": [
      "[4, 1, 2, 5, 3]\n"
     ]
    }
   ],
   "source": [
    "a = [1,2,3]\n",
    "a.insert(0,4)\n",
    "a.insert(3,5)\n",
    "print(a)"
   ]
  },
  {
   "cell_type": "markdown",
   "id": "adc3b1bd-bd7f-4a07-9166-4ea1e3913ff0",
   "metadata": {},
   "source": [
    "#### 2.3.5.6. 요소 제거 remove"
   ]
  },
  {
   "cell_type": "code",
   "execution_count": 27,
   "id": "eedc3c69-35de-4010-8594-91150c6533ca",
   "metadata": {},
   "outputs": [
    {
     "name": "stdout",
     "output_type": "stream",
     "text": [
      "[1, 2, 3, 1, 2, 3, 1, 2, 3]\n",
      "[1, 2, 1, 2, 3, 1, 2, 3]\n",
      "[1, 2, 1, 2, 1, 2, 3]\n",
      "[1, 2, 1, 2, 1, 2]\n"
     ]
    }
   ],
   "source": [
    "a = [1,2,3]\n",
    "aa = a * 3\n",
    "print(aa)\n",
    "aa.remove(3)\n",
    "print(aa)\n",
    "aa.remove(3)\n",
    "print(aa)\n",
    "aa.remove(3)\n",
    "print(aa)\n",
    "\n",
    "#find, remove 등의 오류를 모아서 잘 처리하면 좋을 듯."
   ]
  },
  {
   "cell_type": "markdown",
   "id": "ebef1184-ed48-47f4-8b40-dc60904ef844",
   "metadata": {},
   "source": [
    "#### 2.3.5.7. 요소 꺼내기 - pop(중요!)"
   ]
  },
  {
   "cell_type": "code",
   "execution_count": 29,
   "id": "3818809f-391f-467f-bc25-76df62e38432",
   "metadata": {},
   "outputs": [
    {
     "name": "stdout",
     "output_type": "stream",
     "text": [
      "[1, 2, 3, 4]\n",
      "[1, 2, 3]\n",
      "[1, 2]\n",
      "[1]\n",
      "[]\n"
     ]
    }
   ],
   "source": [
    "a = [1,2,3,4,5]\n",
    "a.pop()\n",
    "print(a)\n",
    "a.pop()\n",
    "print(a)\n",
    "a.pop()\n",
    "print(a)\n",
    "a.pop()\n",
    "print(a)\n",
    "a.pop()\n",
    "print(a)"
   ]
  },
  {
   "cell_type": "code",
   "execution_count": 10,
   "id": "fd3b90d7-8516-4313-8329-9131367af1b2",
   "metadata": {},
   "outputs": [
    {
     "name": "stdin",
     "output_type": "stream",
     "text": [
      "[1, 2, 3, 4, 5] 중에 제거할 숫자의 인덱스를 입력하시오. 1\n"
     ]
    },
    {
     "name": "stdout",
     "output_type": "stream",
     "text": [
      "1\n",
      "2 를 꺼내면 [1, 3, 4, 5]가 된다.\n"
     ]
    }
   ],
   "source": [
    "a = [1,2,3,4,5]\n",
    "ch = input(f'{a} 중에 제거할 숫자의 인덱스를 입력하시오.')\n",
    "print(ch)\n",
    "b = a.pop(int(ch))\n",
    "print(f'{b} 를 꺼내면 {a}가 된다.')"
   ]
  },
  {
   "cell_type": "markdown",
   "id": "19d7ce3d-b6b2-45ed-b9c0-16628d0251ee",
   "metadata": {},
   "source": [
    "#### 2.3.5.8. 요소X의 개수 세기 - count"
   ]
  },
  {
   "cell_type": "code",
   "execution_count": 2,
   "id": "3be5ae14-9cd4-4fee-8ccc-2ea4e472c536",
   "metadata": {},
   "outputs": [
    {
     "data": {
      "text/plain": [
       "1"
      ]
     },
     "execution_count": 2,
     "metadata": {},
     "output_type": "execute_result"
    }
   ],
   "source": [
    "a = [1,2,3,4,5]\n",
    "a.count(1)"
   ]
  },
  {
   "cell_type": "markdown",
   "id": "7dac9ec0-73be-4a31-877a-2e229d2088e2",
   "metadata": {},
   "source": [
    "#### 2.3.5.9. 확장 - extend"
   ]
  },
  {
   "cell_type": "code",
   "execution_count": 5,
   "id": "cc181849-2407-42bc-a1f4-bf1b77480452",
   "metadata": {},
   "outputs": [
    {
     "name": "stdout",
     "output_type": "stream",
     "text": [
      "[1, 2, 3, 4, 5, 6, 7]\n",
      "[1, 2, 3, 4, 5, 6, 7, 8, 9]\n"
     ]
    }
   ],
   "source": [
    "a = [1,2,3,4,5]\n",
    "b = [8,9]\n",
    "a.extend([6,7])\n",
    "print(a)\n",
    "a.extend(b)\n",
    "print(a)"
   ]
  },
  {
   "cell_type": "markdown",
   "id": "83214097-d2ee-41b9-90e1-82e4fa34f0b9",
   "metadata": {},
   "source": [
    "##### - 리스트 확장에서 문자 + 숫자 리스트 도전해보기"
   ]
  },
  {
   "cell_type": "code",
   "execution_count": 7,
   "id": "3f83bde1-013c-4d38-be86-105e88357b87",
   "metadata": {},
   "outputs": [
    {
     "name": "stdout",
     "output_type": "stream",
     "text": [
      "[1, 2, 3, 4, 5, 'a', 'b', 'c']\n",
      "[1, 2, 3, 4, 5, 'a', 'b', 'c', 11, 22, 33, 44]\n"
     ]
    }
   ],
   "source": [
    "a = [1,2,3,4,5]\n",
    "b = ['a','b','c']\n",
    "c= [11,22,33,44]\n",
    "a.extend(b)\n",
    "print(a)\n",
    "a += c # a = a+c ; extend와 기능이 같다.\n",
    "print(a)"
   ]
  },
  {
   "cell_type": "markdown",
   "id": "fae2d808-f9a8-4a36-b6c6-e87020a4d925",
   "metadata": {},
   "source": [
    "## 2.4. 튜플 자료형"
   ]
  },
  {
   "cell_type": "markdown",
   "id": "f01dcfd0-3cb8-4ed2-b8b6-db02e0acffb3",
   "metadata": {},
   "source": [
    "### 2.4.1. 튜플 형식"
   ]
  },
  {
   "cell_type": "code",
   "execution_count": 9,
   "id": "146317c8-a28e-4aae-871c-dcc372dd5b03",
   "metadata": {},
   "outputs": [],
   "source": [
    "t1 = ()\n",
    "t2 = (1,) #*\n",
    "t3 = (1,2,3)\n",
    "t4 = 1,2,3 #*\n",
    "t5 = ('a','b',('ab,'cd'))"
   ]
  },
  {
   "cell_type": "markdown",
   "id": "e00f3849-06dd-4838-bb95-77ff9c0dbfa5",
   "metadata": {},
   "source": [
    "### 2.4.2 튜플 요소를 삭제하거나 변경하면?"
   ]
  },
  {
   "cell_type": "markdown",
   "id": "eb80fa3e-771b-4c2f-b68b-4f2e5ebbf9e1",
   "metadata": {},
   "source": [
    "#### 2.4.2.1. 튜플 요소값 삭제? (안됨)"
   ]
  },
  {
   "cell_type": "code",
   "execution_count": null,
   "id": "bced2003-b9fa-46c6-8dcf-fd85c6b5a561",
   "metadata": {},
   "outputs": [],
   "source": [
    "t1 = (1,2,'a','b')\n",
    "del t1[0]"
   ]
  },
  {
   "attachments": {
    "73d59717-462c-48b9-bc5f-a211d426d132.png": {
     "image/png": "[encoded data removed]"
    }
   },
   "cell_type": "markdown",
   "id": "a25bec10-2f46-415e-aaee-97370a02fb6f",
   "metadata": {},
   "source": [
    "![image.png](attachment:73d59717-462c-48b9-bc5f-a211d426d132.png)"
   ]
  },
  {
   "cell_type": "markdown",
   "id": "e73968b9-bb34-4578-ae11-2dad61a63503",
   "metadata": {},
   "source": [
    "#### 2.4.2.2. 튜플 요소값 변경? (안됨)"
   ]
  },
  {
   "cell_type": "code",
   "execution_count": null,
   "id": "185a6093-4c11-4605-a5a1-8c247e926543",
   "metadata": {},
   "outputs": [],
   "source": [
    "t1 = (1,2,'a','b')\n",
    "t1[0] = 'c'"
   ]
  },
  {
   "attachments": {
    "2382171d-d122-4959-b972-5b619d735fc3.png": {
     "image/png": "[encoded data removed]"
    }
   },
   "cell_type": "markdown",
   "id": "e936e505-e5fa-4e54-8c8c-2706c0f5967d",
   "metadata": {},
   "source": [
    "![image.png](attachment:2382171d-d122-4959-b972-5b619d735fc3.png)"
   ]
  },
  {
   "cell_type": "markdown",
   "id": "240c2c5c-9dd9-48ac-afe8-0bcfa91dad2e",
   "metadata": {},
   "source": [
    "### 2.4.3. 튜플 다루기"
   ]
  },
  {
   "cell_type": "markdown",
   "id": "b62a9c5a-8039-4212-b565-74d21048ba3d",
   "metadata": {},
   "source": [
    "#### 2.4.3.1. 인덱싱하기"
   ]
  },
  {
   "cell_type": "code",
   "execution_count": 5,
   "id": "f797d8a5-43fe-4e79-91b4-8edfeed80873",
   "metadata": {},
   "outputs": [
    {
     "name": "stdout",
     "output_type": "stream",
     "text": [
      "1\n",
      "b\n"
     ]
    }
   ],
   "source": [
    "t1 = (1,2,'a','b')\n",
    "print(t1[0])\n",
    "print(t1[3])"
   ]
  },
  {
   "cell_type": "markdown",
   "id": "5e0d5b03-77cd-47ef-9ad8-d14b37acd3ef",
   "metadata": {},
   "source": [
    "#### 2.4.3.2. 슬라이싱하기"
   ]
  },
  {
   "cell_type": "code",
   "execution_count": 6,
   "id": "5936c7ab-ff7e-4212-a019-25663df757f3",
   "metadata": {},
   "outputs": [
    {
     "name": "stdout",
     "output_type": "stream",
     "text": [
      "(2, 'a', 'b')\n"
     ]
    }
   ],
   "source": [
    "t1 = (1,2,'a','b')\n",
    "print(t1[1:])"
   ]
  },
  {
   "cell_type": "markdown",
   "id": "ac7d1d47-995c-49e3-9689-ec8f6de6a267",
   "metadata": {},
   "source": [
    "#### 2.4.3.3. 튜플 더하기"
   ]
  },
  {
   "cell_type": "code",
   "execution_count": 7,
   "id": "7013e9e2-9bda-479a-aa1d-6cbdf1013584",
   "metadata": {},
   "outputs": [
    {
     "name": "stdout",
     "output_type": "stream",
     "text": [
      "(1, 2, 'a', 'b', 3, 4)\n"
     ]
    }
   ],
   "source": [
    "t1 = (1,2,'a','b')\n",
    "t2 = (3,4)\n",
    "t3 = t1 + t2\n",
    "print(t3)"
   ]
  },
  {
   "cell_type": "markdown",
   "id": "7d73b5b9-e5a5-45c0-8a78-b41ccd65c783",
   "metadata": {},
   "source": [
    "#### 2.4.3.4. 튜플 곱하기"
   ]
  },
  {
   "cell_type": "code",
   "execution_count": 8,
   "id": "e570cc04-d595-4bac-beff-758c676a87c6",
   "metadata": {},
   "outputs": [
    {
     "name": "stdout",
     "output_type": "stream",
     "text": [
      "(3, 4, 3, 4, 3, 4)\n"
     ]
    }
   ],
   "source": [
    "t2 = (3,4)\n",
    "t3 = t2 * 3\n",
    "print(t3)"
   ]
  },
  {
   "cell_type": "markdown",
   "id": "c370ae26-187d-4b8c-a3fd-1f89bd0a77f6",
   "metadata": {},
   "source": [
    "#### 2.4.3.5. 튜플 길이 구하기"
   ]
  },
  {
   "cell_type": "code",
   "execution_count": 9,
   "id": "c9d03d5d-d7e8-44b6-896c-1907fe1a1cda",
   "metadata": {},
   "outputs": [
    {
     "name": "stdout",
     "output_type": "stream",
     "text": [
      "6\n"
     ]
    }
   ],
   "source": [
    "t1 = (1,2,'a','b')\n",
    "t2 = (3,4)\n",
    "t3 = t1 + t2\n",
    "print(len(t3))"
   ]
  },
  {
   "cell_type": "markdown",
   "id": "69f81388-7e8a-492b-95dd-c5ffb8f86353",
   "metadata": {},
   "source": [
    "##### + 1분코딩(P.92)\n",
    "- (1,2,3)이라는 튜플에 값 4를 추가하여 (1,2,3,4)라는 새로운 튜플을 출력하시오"
   ]
  },
  {
   "cell_type": "code",
   "execution_count": 11,
   "id": "7d7dc75f-e415-4db8-86b2-8cd8bd467f10",
   "metadata": {},
   "outputs": [
    {
     "data": {
      "text/plain": [
       "(1, 2, 3, 4)"
      ]
     },
     "execution_count": 11,
     "metadata": {},
     "output_type": "execute_result"
    }
   ],
   "source": [
    "a = (1,2,3)\n",
    "a+(4,)"
   ]
  },
  {
   "cell_type": "markdown",
   "id": "aa659417-15f9-40b6-8284-9b0281ea3a40",
   "metadata": {},
   "source": [
    "## 2.5. 딕셔너리 자료형"
   ]
  },
  {
   "cell_type": "markdown",
   "id": "6c624f23-7b1e-46de-9577-75d3643457a2",
   "metadata": {},
   "source": [
    "### 2.5.1. 딕셔너리"
   ]
  },
  {
   "cell_type": "code",
   "execution_count": 15,
   "id": "e8fc7d03-e58b-4fbf-8e7c-be8b497c7502",
   "metadata": {},
   "outputs": [
    {
     "name": "stdout",
     "output_type": "stream",
     "text": [
      "{'name': 'pey', 'phone': '010-999-1234', 'birth': 1118}\n",
      "pey\n",
      "{0: 'ok', 1: 'hi'}\n",
      "ok\n",
      "{'a': [1, 2, 3, 4]}\n",
      "[1, 2, 3, 4]\n",
      "<class 'dict'>\n",
      "<class 'list'>\n"
     ]
    }
   ],
   "source": [
    "dic = {'name':'pey','phone':'010-999-1234','birth':1118}\n",
    "a = {0:'ok',1:'hi'}\n",
    "b = {'a':[1,2,3,4]}\n",
    "print(dic)\n",
    "print(dic['name'])\n",
    "print(a)\n",
    "print(a[0])\n",
    "print(b)\n",
    "print(b['a'])\n",
    "print(type(b))\n",
    "print(type(b['a']))"
   ]
  },
  {
   "cell_type": "markdown",
   "id": "e06c3942-9c26-430b-b617-64239cad6d06",
   "metadata": {},
   "source": [
    "### 2.5.2. 딕셔너리 쌍 추가, 삭제하기"
   ]
  },
  {
   "cell_type": "markdown",
   "id": "26f9f662-9672-4cbf-ae2c-dd535ede372c",
   "metadata": {},
   "source": [
    "#### 2.5.2.1. 딕셔너리 쌍 추가하기"
   ]
  },
  {
   "cell_type": "code",
   "execution_count": 17,
   "id": "d0a350ad-ed43-44af-a5fc-7d373478df45",
   "metadata": {},
   "outputs": [
    {
     "data": {
      "text/plain": [
       "{1: 'a', 2: 'b', 'name': 'pey', 'arr': [1, 2, 3, 4]}"
      ]
     },
     "execution_count": 17,
     "metadata": {},
     "output_type": "execute_result"
    }
   ],
   "source": [
    "a = {1:'a'}\n",
    "a[2] = 'b'\n",
    "a['name'] = 'pey'\n",
    "a['arr'] = [1,2,3,4]\n",
    "a"
   ]
  },
  {
   "cell_type": "markdown",
   "id": "0b201bcc-6ce6-4a12-aae1-207ea92bfb90",
   "metadata": {},
   "source": [
    "#### 2.5.2.2. 딕셔너리 요소 삭제하기"
   ]
  },
  {
   "cell_type": "code",
   "execution_count": 18,
   "id": "e9f72a96-5538-426d-a802-1f648d159373",
   "metadata": {},
   "outputs": [
    {
     "name": "stdout",
     "output_type": "stream",
     "text": [
      "{1: 'a', 2: 'b', 'arr': [1, 2, 3, 4]}\n"
     ]
    }
   ],
   "source": [
    "aa = {1:'a', 2:'b', 'name' : 'pey', 'arr':[1,2,3,4]}\n",
    "del aa['name']\n",
    "print(aa)"
   ]
  },
  {
   "cell_type": "markdown",
   "id": "05eb9fe5-2a8b-4932-b7a5-9f082b257f47",
   "metadata": {},
   "source": [
    "### 2.5.3. 딕셔너리 사용법"
   ]
  },
  {
   "cell_type": "raw",
   "id": "ffb92f37-2fee-4e7d-ae65-1b4fd4bab050",
   "metadata": {},
   "source": [
    "딕셔너리 만들 때 주의사항(P.97)\n",
    "딕셔너리에서는 Key는 고유한 값이므로 중복되는 Key 값을 설정해 놓으면 하나를 제외한 나머지 것들이 모두 무시된다는 점에 주의해야 한다.\n",
    "다음 예에서 볼 수 있듯이 동일한 Key가 2개 존재할 경우, 1:'a'쌍이 무시된다."
   ]
  },
  {
   "cell_type": "code",
   "execution_count": 20,
   "id": "bd41b519-4930-404e-bd0a-28c6c6bf909c",
   "metadata": {},
   "outputs": [
    {
     "data": {
      "text/plain": [
       "{1: 'b'}"
      ]
     },
     "execution_count": 20,
     "metadata": {},
     "output_type": "execute_result"
    }
   ],
   "source": [
    "a = {1:'a', 1:'b'} # 1이라는 Key값이 중복사용\n",
    "a #1:'a'쌍이 무시됨."
   ]
  },
  {
   "cell_type": "raw",
   "id": "2ce23b50-579a-485c-96a9-4983c617c029",
   "metadata": {},
   "source": [
    "이렇게 Key가 중복되었을 때 1개를 제외한 나머지 Key:Value값이 모두 무시되는 이유는 Key를 통해서 Value를 얻는 딕셔너리의 특징 떄문이다.\n",
    "즉, 딕셔너리에는 동일한 Key가 중복으로 존재할 수 없다."
   ]
  },
  {
   "cell_type": "markdown",
   "id": "c424f855-ee32-4f3b-8ac9-7f327bec359e",
   "metadata": {},
   "source": [
    "####  2.5.3.1. 딕셔너리에서 Key를 사용해 Value 얻기"
   ]
  },
  {
   "cell_type": "code",
   "execution_count": 33,
   "id": "872af04b-e0e1-436a-9788-db0f52c575ed",
   "metadata": {},
   "outputs": [
    {
     "name": "stdout",
     "output_type": "stream",
     "text": [
      "10 99\n",
      "pey\n",
      "010-9999-1234\n",
      "1118\n"
     ]
    }
   ],
   "source": [
    "grade = {'pey':10, 'julliet':99}\n",
    "dic = {'name':'pey', 'phone':'010-9999-1234','birth':1118}\n",
    "print(grade['pey'],grade['julliet'])\n",
    "print(dic['name'])\n",
    "print(dic['phone'])\n",
    "print(dic['birth'])"
   ]
  },
  {
   "cell_type": "markdown",
   "id": "c44d3a25-defb-4a09-86e3-81374db614e4",
   "metadata": {},
   "source": [
    "#### 2.5.3.2. 딕셔너리 만들 때 주의할 사항\n",
    "- 중복되지 말 것 : a = {1:'a', 1:'b'} # 1이라는 Key값이 중복사용되면 그 결과 중 1:'a'쌍이 무시됨\n",
    "- 키 값을 리스트로 하지 말 것 : a = {[1,2]:'hi'} 리스트를 키로 사용하면 오류 발생"
   ]
  },
  {
   "cell_type": "markdown",
   "id": "96f3c75f-7457-4789-9cae-bb51f3ca0539",
   "metadata": {},
   "source": [
    "#### 2.5.3.3. 딕셔너리를 사용하는 방법"
   ]
  },
  {
   "cell_type": "code",
   "execution_count": 35,
   "id": "b46bd4fc-07f7-44a6-8e43-33ad54a066b7",
   "metadata": {},
   "outputs": [
    {
     "data": {
      "text/plain": [
       "{'김연아': '피겨스케이팅', '류현진': '야구', '손흥민': '축구', '귀도': '파이썬'}"
      ]
     },
     "execution_count": 35,
     "metadata": {},
     "output_type": "execute_result"
    }
   ],
   "source": [
    "{\"김연아\":\"피겨스케이팅\", \"류현진\":\"야구\", \"손흥민\":\"축구\",\"귀도\":\"파이썬\"}"
   ]
  },
  {
   "cell_type": "markdown",
   "id": "29171368-0336-4a74-a6ae-b756b70cfe34",
   "metadata": {},
   "source": [
    "### 2.5.4. 딕셔너리 관련 함수(중요!)"
   ]
  },
  {
   "cell_type": "markdown",
   "id": "0f676bb6-e545-4d3c-a8c5-c109e33d645c",
   "metadata": {},
   "source": [
    "#### 2.5.4.1. Key 리스트 만들기 - keys (중요)"
   ]
  },
  {
   "cell_type": "code",
   "execution_count": 40,
   "id": "a164b97b-94dc-48ef-8b34-c4bd80f90d6b",
   "metadata": {},
   "outputs": [
    {
     "name": "stdout",
     "output_type": "stream",
     "text": [
      "name\n",
      "phone\n",
      "birth\n"
     ]
    }
   ],
   "source": [
    "''' dict_keys 객체는 리스트를 사용하는 것과 별 차이는 없지만, 리스트 고유의 append, insert, pop, remove, sort 함수는 수행할 수 없다.'''\n",
    "for k in a.keys():\n",
    "    print(k)"
   ]
  },
  {
   "cell_type": "code",
   "execution_count": 41,
   "id": "af36b33c-6bfd-49e0-915a-874a7979b9ab",
   "metadata": {},
   "outputs": [
    {
     "name": "stdout",
     "output_type": "stream",
     "text": [
      "1: dict_values(['pey', '010-9999-1234', 1118]) <class 'dict_values'>\n",
      "2: ['pey', '010-9999-1234', 1118] <class 'list'>\n",
      "3: ('pey', '010-9999-1234', 1118) <class 'tuple'>\n"
     ]
    }
   ],
   "source": [
    "a = {'name':'pey','phone':'010-9999-1234','birth':1118}\n",
    "print('1:',a.values(),type(a.values()))\n",
    "\n",
    "list_values = list(a.values())\n",
    "print('2:',list_values,type(list_values))\n",
    "      \n",
    "t_values = tuple(list_values)\n",
    "print('3:',t_values, type(t_values))"
   ]
  },
  {
   "cell_type": "markdown",
   "id": "5d794676-8bc9-4e97-a816-cace4d9c3adc",
   "metadata": {},
   "source": [
    "#### 2.5.4.2. Values 리스트 만들기 - values(dict_values) 중요!"
   ]
  },
  {
   "cell_type": "code",
   "execution_count": 43,
   "id": "0258d94f-ff62-4738-9123-2fe305573ef6",
   "metadata": {},
   "outputs": [
    {
     "name": "stdout",
     "output_type": "stream",
     "text": [
      "1: dict_values(['pey', '010-9999-1234', 1118]) <class 'dict_values'>\n",
      "2: ['pey', '010-9999-1234', 1118] <class 'list'>\n",
      "3: ('pey', '010-9999-1234', 1118) <class 'tuple'>\n"
     ]
    }
   ],
   "source": [
    "a = {'name':'pey','phone':'010-9999-1234','birth':1118}\n",
    "print('1:',a.values(),type(a.values()))\n",
    "\n",
    "list_values = list(a.values())\n",
    "print('2:',list_values,type(list_values))\n",
    "      \n",
    "t_values = tuple(list_values)\n",
    "print('3:',t_values, type(t_values))"
   ]
  },
  {
   "cell_type": "markdown",
   "id": "a4698093-0db9-4406-ae37-2f3547144432",
   "metadata": {},
   "source": [
    "#### 2.5.4.3. Key, Value 쌍 얻기 - items(dict_items)"
   ]
  },
  {
   "cell_type": "code",
   "execution_count": 47,
   "id": "fa2b1f0e-7436-45b2-9533-4a42adc7e441",
   "metadata": {},
   "outputs": [
    {
     "name": "stdout",
     "output_type": "stream",
     "text": [
      "1: dict_items([('name', 'pey'), ('phone', '010-9999-1234'), ('birth', 1118)]) <class 'dict_items'>\n",
      "2: [('name', 'pey'), ('phone', '010-9999-1234'), ('birth', 1118)] <class 'list'>\n",
      "3: (('name', 'pey'), ('phone', '010-9999-1234'), ('birth', 1118)) <class 'tuple'>\n"
     ]
    }
   ],
   "source": [
    "a = {'name':'pey','phone':'010-9999-1234','birth':1118}\n",
    "print('1:',a.items(),type(a.items()))\n",
    "\n",
    "list_items = list(a.items())\n",
    "print('2:',list_items,type(list_items))\n",
    "      \n",
    "t_items = tuple(list_items)\n",
    "print('3:',t_items, type(t_items))"
   ]
  },
  {
   "cell_type": "markdown",
   "id": "e6da3fab-9a7f-412c-9aa0-24dd49449c4a",
   "metadata": {},
   "source": [
    "#### 2.5.4.4. Key, Value 쌍 모두 지우기 - clear(중요!)"
   ]
  },
  {
   "cell_type": "code",
   "execution_count": 49,
   "id": "b12a3cbd-a944-43f1-853d-c8c031db214e",
   "metadata": {},
   "outputs": [
    {
     "name": "stdout",
     "output_type": "stream",
     "text": [
      "전 :  {'name': 'pey', 'phone': '010-9999-1234', 'birth': 1118}\n",
      "후 :  {}\n",
      "전 :  {'name': 'pey', 'phone': '010-9999-1234', 'birth': 1118}\n",
      "후 :  {}\n"
     ]
    }
   ],
   "source": [
    "a = {'name':'pey','phone':'010-9999-1234','birth':1118}\n",
    "print('전 : ',a)\n",
    "a = {}\n",
    "print('후 : ',a)\n",
    "b = {'name':'pey','phone':'010-9999-1234','birth':1118}\n",
    "print('전 : ',b)\n",
    "b.clear()\n",
    "print('후 : ',b)"
   ]
  },
  {
   "cell_type": "markdown",
   "id": "3c303591-9182-47cf-8dc1-7466346a9c4d",
   "metadata": {},
   "source": [
    "#### 2.5.4.5. Key로 Value 얻기 - get(중요!)"
   ]
  },
  {
   "cell_type": "code",
   "execution_count": 52,
   "id": "57dac1ce-59fe-45a8-b6f4-12e3d656ecd8",
   "metadata": {},
   "outputs": [
    {
     "name": "stdout",
     "output_type": "stream",
     "text": [
      "None\n",
      "없어요!\n"
     ]
    }
   ],
   "source": [
    "a = {(1,2,3):'pey','phone':'010-9999-1234','birth':1118}\n",
    "# print(a['hi']) #에러\n",
    "print(a.get('hi'))\n",
    "if a.get('hi') == None :\n",
    "    print('없어요!')"
   ]
  },
  {
   "attachments": {
    "116d1a46-62a8-46a4-a215-81f022e28eb4.png": {
     "image/png": "[encoded data removed]"
    }
   },
   "cell_type": "markdown",
   "id": "423ec9b3-738f-493e-b439-db8e6a0b7856",
   "metadata": {},
   "source": [
    "![image.png](attachment:116d1a46-62a8-46a4-a215-81f022e28eb4.png)"
   ]
  },
  {
   "cell_type": "code",
   "execution_count": 56,
   "id": "0387623c-72d9-4be6-a11e-6294bfe75231",
   "metadata": {},
   "outputs": [
    {
     "name": "stdin",
     "output_type": "stream",
     "text": [
      "원하는 값을 찾을 키를 입력하세요. phone\n"
     ]
    },
    {
     "name": "stdout",
     "output_type": "stream",
     "text": [
      "010-9999-1234\n"
     ]
    }
   ],
   "source": [
    "a = {(1,2,3):'pey','phone':'010-9999-1234','birth':1118}\n",
    "key = input('원하는 값을 찾을 키를 입력하세요.')\n",
    "if not a.get(key):\n",
    "    print('찾는 키가 없어요!')\n",
    "else :\n",
    "    print(a[key])"
   ]
  },
  {
   "cell_type": "markdown",
   "id": "768f514d-c9ce-49d0-b26b-00e372b88cf6",
   "metadata": {},
   "source": [
    "- 응용"
   ]
  },
  {
   "cell_type": "code",
   "execution_count": 57,
   "id": "424a652c-5422-48c6-baeb-41c2d6873895",
   "metadata": {},
   "outputs": [
    {
     "name": "stdin",
     "output_type": "stream",
     "text": [
      "원하는 값을 찾을 키를 입력하세요. birth\n"
     ]
    },
    {
     "name": "stdout",
     "output_type": "stream",
     "text": [
      "1118\n"
     ]
    }
   ],
   "source": [
    "a = {(1,2,3):'pey','phone':'010-9999-1234','birth':1118}\n",
    "key = input('원하는 값을 찾을 키를 입력하세요.')\n",
    "if a.get(key, 'code77') == 'code77':\n",
    "    print('찾는 키가 없어요!')\n",
    "else :\n",
    "    print(a[key])"
   ]
  },
  {
   "cell_type": "markdown",
   "id": "ba6f241c-51a1-4858-9697-98a931465d7e",
   "metadata": {},
   "source": [
    "#### 2.5.4.6. 해당 Key가 딕셔너리 안에 있는지 조사하기 - in (중요!)"
   ]
  },
  {
   "cell_type": "code",
   "execution_count": 58,
   "id": "d11bc794-b850-420d-af62-97fd939ca3f1",
   "metadata": {},
   "outputs": [
    {
     "name": "stdout",
     "output_type": "stream",
     "text": [
      "True\n",
      "False\n"
     ]
    }
   ],
   "source": [
    "a = {(1,2,3):'pey','phone':'010-9999-1234','birth':1118}\n",
    "print((1,2,3) in a)\n",
    "print('hi' in a)"
   ]
  },
  {
   "cell_type": "markdown",
   "id": "80407b0a-f179-46f4-a1df-e36c1f8fea99",
   "metadata": {},
   "source": [
    "## 2.6. 집합 자료형(☆중요☆)"
   ]
  },
  {
   "cell_type": "markdown",
   "id": "dff02cd3-7a6a-4194-a2b3-b11fd05f63ac",
   "metadata": {},
   "source": [
    "### 2.6.1. 집합자료형 set"
   ]
  },
  {
   "cell_type": "code",
   "execution_count": 63,
   "id": "e0d667de-6e22-4a16-a2d8-3bd71539e137",
   "metadata": {},
   "outputs": [
    {
     "name": "stdout",
     "output_type": "stream",
     "text": [
      "{1, 2, 3, 4, 5}\n",
      "{'C', 'f', 'e', 'o'}\n"
     ]
    }
   ],
   "source": [
    "s1 = set([5,1,2,3,3,2,1,4])\n",
    "s2 = set('Coffee')\n",
    "print(s1)\n",
    "print(s2)"
   ]
  },
  {
   "cell_type": "markdown",
   "id": "7faab4ba-409e-4932-af57-669dfa6a1fb1",
   "metadata": {},
   "source": [
    "### 2.6.2 집합자료형의 특징\n",
    "- 중복을 허용하지 않는다.\n",
    "- 순서가 없다(unordered)\n",
    "- 필터로 사용 가능\n",
    "- 리스트나 튜플로 사용하면 요소에 접근 가능"
   ]
  },
  {
   "cell_type": "code",
   "execution_count": 65,
   "id": "ec8b78c7-0445-413e-a128-96d8405c11da",
   "metadata": {},
   "outputs": [
    {
     "name": "stdout",
     "output_type": "stream",
     "text": [
      "원본 : {1, 2, 3, 4, 5}\n",
      "중복제거SET :  {1, 2, 3, 4, 5}\n",
      "리스트변환 : [1, 2, 3, 4, 5] 인덱스2 : 3\n",
      "튜플변환 : (1, 2, 3, 4, 5) 인덱스2 : 3\n"
     ]
    }
   ],
   "source": [
    "s = set([5,1,2,3,3,2,1,4])\n",
    "s1 = set(s)\n",
    "l1 = list(s1)\n",
    "t1 = tuple(s1)\n",
    "print('원본 :', s)\n",
    "print('중복제거SET : ', s)\n",
    "print('리스트변환 :', l1, '인덱스2 :', l1[2])\n",
    "print('튜플변환 :', t1, '인덱스2 :', t1[2])"
   ]
  },
  {
   "cell_type": "markdown",
   "id": "41093a29-07b7-4b90-8a15-78b190611af2",
   "metadata": {},
   "source": [
    "### 2.6.3. 교집합, 합집합, 차집합 구하기"
   ]
  },
  {
   "cell_type": "code",
   "execution_count": 66,
   "id": "6d63ebf7-731c-49f7-a111-c8f33d646c1e",
   "metadata": {},
   "outputs": [],
   "source": [
    "s1 = set([1,2,3,4,5,6])\n",
    "s2 = set([4,5,6,7,8,9])"
   ]
  },
  {
   "cell_type": "markdown",
   "id": "7eb8259c-b8e3-4fea-b84d-6bf2c6dbe289",
   "metadata": {},
   "source": [
    "#### 2.6.3.1. 교집합 구하기"
   ]
  },
  {
   "cell_type": "code",
   "execution_count": 67,
   "id": "223860b9-d44d-49d7-a34c-86a6729d4c05",
   "metadata": {},
   "outputs": [
    {
     "name": "stdout",
     "output_type": "stream",
     "text": [
      "{4, 5, 6} <class 'set'>\n"
     ]
    }
   ],
   "source": [
    "s3 = s1 & s2\n",
    "print(s3,type(s3))"
   ]
  },
  {
   "cell_type": "markdown",
   "id": "f339294c-838d-443f-84f4-48e534c36a83",
   "metadata": {},
   "source": [
    "#### 2.6.3.2. 합집합 구하기"
   ]
  },
  {
   "cell_type": "code",
   "execution_count": 68,
   "id": "f9920e7c-86de-41b8-a011-999e7afcb737",
   "metadata": {},
   "outputs": [
    {
     "name": "stdout",
     "output_type": "stream",
     "text": [
      "{1, 2, 3, 4, 5, 6, 7, 8, 9} <class 'set'>\n"
     ]
    }
   ],
   "source": [
    "s4 = s1|s2 #다음과 같은 기능 s4 = s1.union(s2)\n",
    "print(s4,type(s4))"
   ]
  },
  {
   "cell_type": "markdown",
   "id": "890ad10e-ad95-4f55-bf61-2a85548d669f",
   "metadata": {},
   "source": [
    "#### 2.6.3.3. 차집합 구하기"
   ]
  },
  {
   "cell_type": "code",
   "execution_count": 70,
   "id": "1a0c8711-7b4b-46d1-af84-38ae24fd627d",
   "metadata": {},
   "outputs": [
    {
     "name": "stdout",
     "output_type": "stream",
     "text": [
      "{1, 2, 3}\n",
      "{8, 9, 7}\n"
     ]
    }
   ],
   "source": [
    "s5 = s1 - s2 #다음과 같은 기능 s5 = s1.difference(s2)\n",
    "s6 = s2 - s1 #다음과 같은 기능 s6 = s1.difference(s1)\n",
    "print(s5)\n",
    "print(s6)"
   ]
  },
  {
   "cell_type": "markdown",
   "id": "357cf584-6d11-4ad2-b3c4-b62d602f26fb",
   "metadata": {},
   "source": [
    "###  2.6.4. 집합 자료형 관련함수"
   ]
  },
  {
   "cell_type": "markdown",
   "id": "2b4bbc05-9fd4-4b8e-a800-8358dc5fcd64",
   "metadata": {},
   "source": [
    "#### 2.6.4.1. 값 1개 추가하기 - add"
   ]
  },
  {
   "cell_type": "code",
   "execution_count": 74,
   "id": "7b01bebf-fc52-44e5-b83b-464f0e11d9be",
   "metadata": {},
   "outputs": [
    {
     "name": "stdout",
     "output_type": "stream",
     "text": [
      "{1, 2, 3, 4} <class 'set'>\n"
     ]
    }
   ],
   "source": [
    "s1 = set([1,2,3])\n",
    "s1.add(4)\n",
    "print(s1, type(s1))"
   ]
  },
  {
   "cell_type": "markdown",
   "id": "605f826c-b361-42be-be75-33f5b62a07bf",
   "metadata": {},
   "source": [
    "#### 2.6.4.2. 값 여러개 추가하기 - update"
   ]
  },
  {
   "cell_type": "code",
   "execution_count": 73,
   "id": "49613305-aa74-4ed8-9d80-6f9e6baa2249",
   "metadata": {},
   "outputs": [
    {
     "name": "stdout",
     "output_type": "stream",
     "text": [
      "{1, 2, 3, 4, 5, 6} <class 'set'>\n"
     ]
    }
   ],
   "source": [
    "s1 = set([1,2,3])\n",
    "s1.update([4,5,6])\n",
    "print(s1, type(s1))"
   ]
  },
  {
   "cell_type": "markdown",
   "id": "6f4d362c-c2c7-486b-8c55-ca8c55387fa7",
   "metadata": {},
   "source": [
    "#### 2.6.4.3. 특정 값 제거하기 - remove(☆)"
   ]
  },
  {
   "cell_type": "code",
   "execution_count": 75,
   "id": "7c4147b0-a944-4a47-8ad6-8a0edd5b6a1d",
   "metadata": {},
   "outputs": [
    {
     "name": "stdout",
     "output_type": "stream",
     "text": [
      "{1, 3} <class 'set'>\n"
     ]
    }
   ],
   "source": [
    "s1 = set([1,2,3])\n",
    "s1.remove(2)\n",
    "print(s1, type(s1))"
   ]
  },
  {
   "cell_type": "markdown",
   "id": "34db4da7-c5e9-4ab4-bf9c-faa2b8109bb3",
   "metadata": {},
   "source": [
    "## 2.7. 불 자료형"
   ]
  },
  {
   "cell_type": "markdown",
   "id": "517d7f68-f783-4a70-8aca-ef63120af42d",
   "metadata": {},
   "source": [
    "### 2.7.1. 불 자료형(True, False)"
   ]
  },
  {
   "cell_type": "code",
   "execution_count": 81,
   "id": "fc5948f4-e1ad-4719-884c-2e264b14511a",
   "metadata": {},
   "outputs": [
    {
     "name": "stdout",
     "output_type": "stream",
     "text": [
      "True <class 'bool'>\n",
      "True <class 'bool'>\n",
      "False <class 'bool'>\n",
      "True <class 'bool'>\n",
      "True <class 'bool'>\n",
      "True <class 'bool'>\n"
     ]
    }
   ],
   "source": [
    "b1 = 1 == 1\n",
    "b2 = 2 > 1\n",
    "b3 = 2 < 1\n",
    "b4 = bool((1,)) # 비었을 땐 false\n",
    "b5 = bool([1,2,3]) # 비었을 땐 false\n",
    "b6 = bool({1:2}) # 비었을 땐 false\n",
    "print(b1, type(2<1))\n",
    "print(b2, type(2<1))\n",
    "print(b3, type(2<1))\n",
    "print(b4, type(b4))\n",
    "print(b5, type(b5))\n",
    "print(b6, type(b6))"
   ]
  },
  {
   "cell_type": "markdown",
   "id": "e0bec2aa-ae0d-4ba9-9bfb-f0ab8f73f892",
   "metadata": {},
   "source": [
    "### 2.7.2. 자료형의 참과 거짓"
   ]
  },
  {
   "cell_type": "code",
   "execution_count": 82,
   "id": "ac57e55b-bfb5-4dfe-8885-ee6588cd91d3",
   "metadata": {},
   "outputs": [
    {
     "name": "stdout",
     "output_type": "stream",
     "text": [
      "[1, 2, 3, 4] 5\n",
      "a가 비었습니다.\n",
      "[1, 2, 3] 4\n",
      "a가 비었습니다.\n",
      "[1, 2] 3\n",
      "a가 비었습니다.\n",
      "[1] 2\n",
      "a가 비었습니다.\n",
      "[] 1\n",
      "a가 비었습니다.\n"
     ]
    }
   ],
   "source": [
    "a = [1,2,3,4,5]\n",
    "while a : \n",
    "    print(a, a.pop())\n",
    "    print('a가 비었습니다.')"
   ]
  },
  {
   "cell_type": "markdown",
   "id": "fd82279b-6b36-44b6-bd6b-92413300c35d",
   "metadata": {},
   "source": [
    "### 2.7.3. 불 연산"
   ]
  },
  {
   "cell_type": "code",
   "execution_count": 86,
   "id": "50746f01-e108-48c7-9d4d-3b15132b01b4",
   "metadata": {},
   "outputs": [
    {
     "name": "stdout",
     "output_type": "stream",
     "text": [
      "bool([1,2,3]) : True\n",
      "bool([]):{False}\n",
      "bool(0) : False\n",
      "bool(3) :  True\n"
     ]
    }
   ],
   "source": [
    "b1 = bool([1,2,3])\n",
    "b2 = bool([])\n",
    "b3 = bool(0)\n",
    "b4 = bool(3)\n",
    "print('bool([1,2,3]) : {0}'.format(b1))\n",
    "print('bool([]):%s' %{b2})\n",
    "print(f'bool(0) : {b3}')\n",
    "print('bool(3) : ', bool(3))"
   ]
  },
  {
   "cell_type": "markdown",
   "id": "2284dcce-961e-4971-b1f0-f9ccbc9d314f",
   "metadata": {},
   "source": [
    "## 2.8. 자료형의 값을 저장하는 공간, 변수"
   ]
  },
  {
   "cell_type": "markdown",
   "id": "e0e14535-a9e3-4d0c-8042-d62c28d0f74a",
   "metadata": {},
   "source": [
    "### 2.8.1. 변수 variable\n",
    "- 변수 이름 = 변수에 저장할 값"
   ]
  },
  {
   "cell_type": "markdown",
   "id": "0f063ff0-943e-4b4a-ad45-c0a91a49001c",
   "metadata": {},
   "source": [
    "### 2.8.2. 변수란?"
   ]
  },
  {
   "cell_type": "code",
   "execution_count": 100,
   "id": "e4d69521-0d35-4c43-88e2-96238e8e0362",
   "metadata": {},
   "outputs": [
    {
     "name": "stdout",
     "output_type": "stream",
     "text": [
      "4037922344\n"
     ]
    }
   ],
   "source": [
    "a = [1,2,3] \n",
    "print(id(a))"
   ]
  },
  {
   "cell_type": "markdown",
   "id": "4a066cc5-8021-45e5-904c-a3883580cf0d",
   "metadata": {},
   "source": [
    "### 2.8.3. 리스트를 복사하고자 할 때"
   ]
  },
  {
   "cell_type": "code",
   "execution_count": 15,
   "id": "0fe2767f-7182-4eea-94b6-c12dfca4e14e",
   "metadata": {},
   "outputs": [
    {
     "name": "stdout",
     "output_type": "stream",
     "text": [
      "True\n",
      "True\n",
      "[1, 4, 3]\n",
      "[1, 4, 3]\n"
     ]
    }
   ],
   "source": [
    "a = [1,2,3] \n",
    "# 얕은 복사 \n",
    "b = a\n",
    "print(a is b)\n",
    "print(a == b) # 원본을 수정한 것이라 같은것이 맞음\n",
    "b[1] = 4\n",
    "print(a)\n",
    "print(b)"
   ]
  },
  {
   "cell_type": "markdown",
   "id": "f56d80b7-b78a-4ef0-970c-cedd6a1b0232",
   "metadata": {},
   "source": [
    "#### 2.8.3.1. [:] 이용하기(☆)"
   ]
  },
  {
   "cell_type": "code",
   "execution_count": 16,
   "id": "b7e8acb1-3820-4078-8c29-3f4b95995f5f",
   "metadata": {},
   "outputs": [
    {
     "name": "stdout",
     "output_type": "stream",
     "text": [
      "[1, 2, 7]\n",
      "[1, 2, 3]\n",
      "False\n",
      "False\n"
     ]
    }
   ],
   "source": [
    "a = [1,2,3] \n",
    "# 깊은 복사\n",
    "c = a[:]\n",
    "a[2] = 7\n",
    "print(a)\n",
    "print(c)\n",
    "print(a is c)\n",
    "print(a == c)"
   ]
  },
  {
   "cell_type": "markdown",
   "id": "afee0e9d-0366-47d6-afda-618dba9f3471",
   "metadata": {},
   "source": [
    "#### 2.8.3.2. copy 모듈 이용하기"
   ]
  },
  {
   "cell_type": "code",
   "execution_count": 20,
   "id": "6a3fb8d7-66c3-49a5-9818-9bcf85275378",
   "metadata": {},
   "outputs": [
    {
     "name": "stdout",
     "output_type": "stream",
     "text": [
      "[1, 2, 3]\n",
      "4089245960\n",
      "4089236488\n",
      "False\n",
      "True\n"
     ]
    }
   ],
   "source": [
    "# 모듈 기능을 가져오기\n",
    "from copy import copy\n",
    "a = [1,2,3]\n",
    "b = copy(a)\n",
    "print(b)\n",
    "print(id(a))\n",
    "print(id(b))\n",
    "print(a is b) # 값과 저장공간도 같은지 확인, 속도가 좀 더 빠름\n",
    "print(a == b) # 값만 같은지 확인"
   ]
  },
  {
   "cell_type": "code",
   "execution_count": 19,
   "id": "6e27b124-45d6-47cd-97f2-3e08e8a47efa",
   "metadata": {},
   "outputs": [
    {
     "name": "stdout",
     "output_type": "stream",
     "text": [
      "[1, 2, 3]\n",
      "4089357128\n",
      "4089358856\n",
      "False\n",
      "True\n"
     ]
    }
   ],
   "source": [
    "# 내장함수를 사용하는 방법\n",
    "aa = [1,2,3]\n",
    "bb = aa.copy()\n",
    "print(bb)\n",
    "print(id(aa))\n",
    "print(id(bb))\n",
    "print(aa is bb)\n",
    "print(aa == bb)"
   ]
  },
  {
   "cell_type": "code",
   "execution_count": 21,
   "id": "396c4a5c-e8e3-4625-a825-ca1fe4dfa232",
   "metadata": {},
   "outputs": [
    {
     "name": "stdout",
     "output_type": "stream",
     "text": [
      "4115834592\n",
      "4115834592\n",
      "4115834592\n"
     ]
    }
   ],
   "source": [
    "# 모듈 기능 가져오기(String 복사 테스트)\n",
    "from copy import copy\n",
    "s1 = '감사합니다'\n",
    "s2 = s1\n",
    "print(id(s1))\n",
    "print(id(s2))\n",
    "s3 = copy(s1)\n",
    "print(id(s3))"
   ]
  },
  {
   "cell_type": "code",
   "execution_count": 26,
   "id": "7efd4732-0132-4bf4-994c-e1b3433f09bc",
   "metadata": {},
   "outputs": [
    {
     "name": "stdout",
     "output_type": "stream",
     "text": [
      "4089360504\n",
      "4089360504\n",
      "4089360504\n",
      "True\n",
      "True\n"
     ]
    }
   ],
   "source": [
    "# 모듈 기능 가져오기(tuple 복사 테스트)\n",
    "from copy import copy\n",
    "t1 = (1,2,3,4)\n",
    "t2 = t1\n",
    "print(id(t1))\n",
    "print(id(t2))\n",
    "t3 = copy(t1) # 튜플 깊은 복사를 해도 아이디는 변하지 않음\n",
    "print(id(t3))\n",
    "print(t1 is t2) # 값과 저장공간도 같은지 확인, 속도가 좀 더 빠름\n",
    "print(t1 == t2) # 값만 같은지 확인"
   ]
  },
  {
   "cell_type": "markdown",
   "id": "9068eff8-e713-4980-8215-4e800e313cc5",
   "metadata": {},
   "source": [
    "### 2.8.4. 변수를 만드는 여러가지 방법"
   ]
  },
  {
   "cell_type": "code",
   "execution_count": 28,
   "id": "3eb4dc8c-f9eb-4828-951f-d11e4c60e4c3",
   "metadata": {},
   "outputs": [
    {
     "name": "stdout",
     "output_type": "stream",
     "text": [
      "python life\n",
      "python life\n",
      "python life\n"
     ]
    }
   ],
   "source": [
    "# tuple은 괄호 생략 가능\n",
    "a1, b1 = 'python', 'life'\n",
    "a2, b2 = ('python', 'life')\n",
    "(a3, b3) = 'python', 'life'\n",
    "print(a1, b1)\n",
    "print(a2, b2)\n",
    "print(a3, b3)"
   ]
  },
  {
   "cell_type": "code",
   "execution_count": 30,
   "id": "0a861df1-c5ed-4397-bf56-0dce024747a1",
   "metadata": {},
   "outputs": [
    {
     "name": "stdout",
     "output_type": "stream",
     "text": [
      "python life\n",
      "python life\n",
      "python life\n",
      "python life\n"
     ]
    }
   ],
   "source": [
    "#리스트 복사 예제\n",
    "a0, b0 = ['python', 'life']\n",
    "[a1, b1] = ['python', 'life']\n",
    "[a2, b2] = 'python', 'life'\n",
    "[a3, b3] = ('python', 'life')\n",
    "print(a0, b0)\n",
    "print(a1, b1)\n",
    "print(a2, b2)\n",
    "print(a3, b3)"
   ]
  },
  {
   "cell_type": "code",
   "execution_count": 32,
   "id": "64f8a736-28ed-4325-a753-6acb6b2932ba",
   "metadata": {},
   "outputs": [
    {
     "name": "stdout",
     "output_type": "stream",
     "text": [
      "python python python python\n",
      "python\n"
     ]
    }
   ],
   "source": [
    "# 여러 개의 변수값 대입\n",
    "a = b = c = ㅋ = 'python'\n",
    "print(a,b,c,ㅋ)\n",
    "print(ㅋ)"
   ]
  },
  {
   "cell_type": "code",
   "execution_count": 36,
   "id": "5647c7ea-4cc1-4845-b9a9-d13b8d0a54e7",
   "metadata": {},
   "outputs": [
    {
     "name": "stdout",
     "output_type": "stream",
     "text": [
      "a:3 b:5\n",
      "a:5 b:3\n",
      "a:5 b:3\n"
     ]
    }
   ],
   "source": [
    "a = 3\n",
    "b = 5\n",
    "print('a:%d b:%d'%(a,b)) # 방법1\n",
    "a, b = b, a\n",
    "print('a:{0} b:{1}'.format(a, b)) # 방법2\n",
    "print(f'a:{a} b:{b}') # 방법3"
   ]
  },
  {
   "cell_type": "markdown",
   "id": "008e9ee3-f36b-4d9c-946a-a92569dd8a12",
   "metadata": {},
   "source": [
    "# 3. 제어문(매우 중요!)"
   ]
  },
  {
   "cell_type": "markdown",
   "id": "46d1f70a-1628-4b76-ab19-8ad5aaf8479d",
   "metadata": {},
   "source": [
    "## 3.1.  if문"
   ]
  },
  {
   "cell_type": "markdown",
   "id": "e9abb5a4-7a25-47f8-915b-f851bb004f6f",
   "metadata": {},
   "source": [
    "### 3.1.1. 조건문이란?"
   ]
  },
  {
   "cell_type": "code",
   "execution_count": 37,
   "id": "a1d15e56-1bbf-465f-8ac9-a998cbc62c83",
   "metadata": {},
   "outputs": [
    {
     "name": "stdout",
     "output_type": "stream",
     "text": [
      "조건문 가동\n"
     ]
    }
   ],
   "source": [
    "if True : \n",
    "    print('조건문 가동')"
   ]
  },
  {
   "cell_type": "markdown",
   "id": "e7b7db07-bad4-45f5-a145-d2dee8901c45",
   "metadata": {},
   "source": [
    "#### 3.1.1.1. 비교연산자"
   ]
  },
  {
   "cell_type": "code",
   "execution_count": 39,
   "id": "6814c28b-219f-48f8-8c5b-e7f5e196ea65",
   "metadata": {},
   "outputs": [
    {
     "name": "stdout",
     "output_type": "stream",
     "text": [
      "x=3 y=2 일때\n",
      "x<y :  False\n",
      "x>y :  True\n",
      "x==y :  False\n",
      "x!=y :  True\n",
      "x>=y :  True\n",
      "x<=y :  False\n"
     ]
    }
   ],
   "source": [
    "x, y = 3, 2\n",
    "print(f'x={x} y={y} 일때')\n",
    "print('x<y : ', x<y)\n",
    "print('x>y : ', x>y)\n",
    "print('x==y : ', x==y)\n",
    "print('x!=y : ', x!=y)\n",
    "print('x>=y : ', x>=y)\n",
    "print('x<=y : ', x<=y)"
   ]
  },
  {
   "cell_type": "code",
   "execution_count": 42,
   "id": "4ae17d7f-25c6-4700-899c-69757a809f69",
   "metadata": {},
   "outputs": [
    {
     "name": "stdin",
     "output_type": "stream",
     "text": [
      "얼마 가지고 있어? \n"
     ]
    },
    {
     "name": "stdout",
     "output_type": "stream",
     "text": [
      "걸어가라\n"
     ]
    }
   ],
   "source": [
    "# 만약 3000원 이상의 돈을 가지고 있다면 택시를 타고 가고, 그렇지 않으면 걸어가라\n",
    "money = int(input('얼마 가지고 있어?') or 2000)\n",
    "if money >= 3000 : \n",
    "    print('택시타고 가라')\n",
    "else :\n",
    "    print('걸어가라')"
   ]
  },
  {
   "cell_type": "markdown",
   "id": "1aef5265-d680-4b9b-9628-97910cb31e95",
   "metadata": {},
   "source": [
    "#### 3.1.1.2. and, or, not"
   ]
  },
  {
   "cell_type": "code",
   "execution_count": 49,
   "id": "536f6c21-645f-4113-a452-cc9fd4532c4b",
   "metadata": {},
   "outputs": [
    {
     "name": "stdout",
     "output_type": "stream",
     "text": [
      "걸어갈 리가 없지만 걸어가\n"
     ]
    }
   ],
   "source": [
    "money = 2000\n",
    "card = True\n",
    "girlFriend = True\n",
    "if (money >= 30000  and girlFriend) or not card: #무조건 실행됨\n",
    "    print(\"택시타고 가세요.\")\n",
    "else : \n",
    "    print(\"걸어갈 리가 없지만 걸어가\")"
   ]
  },
  {
   "cell_type": "markdown",
   "id": "66964ba3-0a2a-4e29-8ede-24f64120b8ea",
   "metadata": {},
   "source": [
    "#### 3.1.1.3. in, not in(☆)"
   ]
  },
  {
   "cell_type": "code",
   "execution_count": 51,
   "id": "648d094a-787f-482a-aa06-37d7997ffc99",
   "metadata": {},
   "outputs": [
    {
     "name": "stdout",
     "output_type": "stream",
     "text": [
      "True\n",
      "False\n",
      "True\n",
      "True\n"
     ]
    }
   ],
   "source": [
    "print(1 in [1,2,3,4,5])\n",
    "print(1 not in [1,2,3,4,5])\n",
    "print('a' in ('a', 'b', 'c'))\n",
    "print('j' not in 'python')"
   ]
  },
  {
   "cell_type": "code",
   "execution_count": 65,
   "id": "c4de7087-d4b6-456f-aa6e-04fa5c33194c",
   "metadata": {},
   "outputs": [
    {
     "name": "stdout",
     "output_type": "stream",
     "text": [
      "택시타고가\n"
     ]
    }
   ],
   "source": [
    "pocket = 'paper', 'cellphone', 'money'\n",
    "if 'money' in pocket : \n",
    "    print(\"택시타고가\")\n",
    "else :\n",
    "    print(\"걸어가\")"
   ]
  },
  {
   "cell_type": "code",
   "execution_count": 67,
   "id": "51d55173-70d3-4e67-81e9-cb1b476ae424",
   "metadata": {},
   "outputs": [],
   "source": [
    "pocket = 'paper', 'cellphone', 'money'\n",
    "if 'money' in pocket : \n",
    "    pass\n",
    "else :\n",
    "    print(\"카드 꺼내!\")\n",
    "\n",
    "# pass가 수행되고 아무런 결과값이 나오지 않는다"
   ]
  },
  {
   "cell_type": "code",
   "execution_count": 70,
   "id": "534ddc8c-8f5d-4f93-ae81-5e471c4b96bb",
   "metadata": {},
   "outputs": [
    {
     "name": "stdout",
     "output_type": "stream",
     "text": [
      "택시 타고 가\n"
     ]
    }
   ],
   "source": [
    "# pocket = ['paper', 'cellphone']\n",
    "mypocket = {'paper' : '영수증', 'cellphone' : '할부남음', 'key' : '집열쇠'}\n",
    "pocket = mypocket.keys() #dict_keys 형태로 나옴\n",
    "card = True\n",
    "if 'money' in pocket : \n",
    "    print('택시 타고 가라')\n",
    "if card : \n",
    "    print(\"택시 타고 가\")\n",
    "else : \n",
    "    print(\"걸어가\")"
   ]
  },
  {
   "cell_type": "code",
   "execution_count": 71,
   "id": "fe5cb0e0-62c3-4a55-bb8d-cee599cad76b",
   "metadata": {},
   "outputs": [
    {
     "name": "stdout",
     "output_type": "stream",
     "text": [
      "카드꺼내라\n"
     ]
    }
   ],
   "source": [
    "pocket = ['paper', 'cellphone', 'money']\n",
    "if 'money' not in pocket : pass\n",
    "else : print(\"카드꺼내라\")"
   ]
  },
  {
   "cell_type": "markdown",
   "id": "b58d7516-f477-4f9d-bcf3-d3de0342a4f9",
   "metadata": {},
   "source": [
    "### 3.1.2. 조건부 표현식(☆)"
   ]
  },
  {
   "cell_type": "code",
   "execution_count": 75,
   "id": "a0459dbb-07ad-4aa8-9484-2eaac9698575",
   "metadata": {},
   "outputs": [
    {
     "name": "stdin",
     "output_type": "stream",
     "text": [
      "점수를 입력하시오 74\n"
     ]
    },
    {
     "name": "stdout",
     "output_type": "stream",
     "text": [
      "success\n"
     ]
    }
   ],
   "source": [
    "'''\n",
    "if score >= 60 :\n",
    "    message = \"success\"\n",
    "else : \n",
    "    message = \"failure\"\n",
    "'''\n",
    "\n",
    "# 조건부 표현식으로 변경\n",
    "score = int(input('점수를 입력하시오'))\n",
    "message = \"success\" if score >=60 else \"failure\"\n",
    "print(message)"
   ]
  },
  {
   "cell_type": "markdown",
   "id": "1e6383f0-faa7-4fa6-b37a-c418e29f31ce",
   "metadata": {},
   "source": [
    "## 3.2. While문"
   ]
  },
  {
   "cell_type": "markdown",
   "id": "96cd9e48-815e-4891-b094-b152e55df81c",
   "metadata": {},
   "source": [
    "### 3.2.1. While 문의 기본 구조"
   ]
  },
  {
   "cell_type": "code",
   "execution_count": 76,
   "id": "aafe0e04-e8cc-4c4a-baad-1a263668474b",
   "metadata": {},
   "outputs": [
    {
     "name": "stdout",
     "output_type": "stream",
     "text": [
      "나무를 1번 찍었습니다\n",
      "나무를 2번 찍었습니다\n",
      "나무를 3번 찍었습니다\n",
      "나무를 4번 찍었습니다\n",
      "나무를 5번 찍었습니다\n",
      "나무를 6번 찍었습니다\n",
      "나무를 7번 찍었습니다\n",
      "나무를 8번 찍었습니다\n",
      "나무를 9번 찍었습니다\n",
      "나무를 10번 찍었습니다\n",
      "나무가 넘어갑니다.\n"
     ]
    }
   ],
   "source": [
    "treeHit = 0\n",
    "while treeHit < 10:\n",
    "    treeHit += 1\n",
    "    print(\"나무를 {0}번 찍었습니다\".format(treeHit))\n",
    "    if treeHit == 10:\n",
    "        print(\"나무가 넘어갑니다.\")"
   ]
  },
  {
   "cell_type": "markdown",
   "id": "64781418-757c-477b-bdc8-305a5996683e",
   "metadata": {},
   "source": [
    "### 3.2.2. While 문 만들기"
   ]
  },
  {
   "cell_type": "code",
   "execution_count": null,
   "id": "9c20c085-0deb-490d-aea3-8286b41d2049",
   "metadata": {},
   "outputs": [
    {
     "name": "stdout",
     "output_type": "stream",
     "text": [
      "\n",
      "1. Add\n",
      "2. Del\n",
      "3. List\n",
      "4. Quit\n",
      "\n",
      "Enter number : \n",
      "\n"
     ]
    },
    {
     "name": "stdin",
     "output_type": "stream",
     "text": [
      " 3\n"
     ]
    },
    {
     "name": "stdout",
     "output_type": "stream",
     "text": [
      "입력하신 숫자는 3입니다.\n",
      "\n",
      "1. Add\n",
      "2. Del\n",
      "3. List\n",
      "4. Quit\n",
      "\n",
      "Enter number : \n",
      "\n"
     ]
    }
   ],
   "source": [
    "prompt = \"\"\"\n",
    "1. Add\n",
    "2. Del\n",
    "3. List\n",
    "4. Quit\n",
    "\n",
    "Enter number : \n",
    "\"\"\"\n",
    "number = 0\n",
    "while number != 4:\n",
    "    print(prompt)\n",
    "    number = int(input())\n",
    "    print(f'입력하신 숫자는 {number}입니다.')"
   ]
  },
  {
   "cell_type": "markdown",
   "id": "abfe9f89-8487-4c25-987c-3b9633bd0e80",
   "metadata": {},
   "source": [
    "### 3.2.3. while 문 강제로 빠져나가기"
   ]
  },
  {
   "cell_type": "code",
   "execution_count": null,
   "id": "beba828d-749e-494d-8422-1279acc8dec3",
   "metadata": {},
   "outputs": [
    {
     "name": "stdin",
     "output_type": "stream",
     "text": [
      "돈 주세요:  350\n"
     ]
    },
    {
     "name": "stdout",
     "output_type": "stream",
     "text": [
      "달라는대로 줄 것이지... 아닙니다. 거스름돈 50를 드릴게요. 남은 커피 개수 :9\n"
     ]
    },
    {
     "name": "stdin",
     "output_type": "stream",
     "text": [
      "돈 주세요:  250\n"
     ]
    },
    {
     "name": "stdout",
     "output_type": "stream",
     "text": [
      "나를 뭘로보고... 돈을 다시 돌려드리고 커피는 안되요.\n",
      "남은 커피개수:9\n"
     ]
    },
    {
     "name": "stdin",
     "output_type": "stream",
     "text": [
      "돈 주세요:  300\n"
     ]
    },
    {
     "name": "stdout",
     "output_type": "stream",
     "text": [
      "커피드릴게요. 남은 커피 개수:8\n"
     ]
    }
   ],
   "source": [
    "coffee = 10\n",
    "while 1: \n",
    "    money = int(input('돈 주세요: '))\n",
    "    if money == 300 :\n",
    "        coffee -= 1\n",
    "        print(f'커피드릴게요. 남은 커피 개수:{coffee}')\n",
    "    elif money > 300:\n",
    "        coffee -= 1\n",
    "        print('달라는대로 줄 것이지... 아닙니다. 거스름돈 %d를 드릴게요. 남은 커피 개수 :%d'%(money-300,coffee))\n",
    "    else: \n",
    "        print('나를 뭘로보고... 돈을 다시 돌려드리고 커피는 안되요.')\n",
    "        print('남은 커피개수:{num}'.format(num=coffee))\n",
    "   \n",
    "    if not coffee:\n",
    "        print('커피가 없어요. 없다니까요... 사람 불러주세요')\n",
    "        break"
   ]
  },
  {
   "cell_type": "markdown",
   "id": "26207563-d722-4e94-9e4b-859f9247631e",
   "metadata": {},
   "source": [
    "### 3.2.4. while 문 continue"
   ]
  },
  {
   "cell_type": "code",
   "execution_count": 1,
   "id": "d0a7b654-84f1-421f-8556-c7ca7b238bad",
   "metadata": {},
   "outputs": [
    {
     "name": "stdout",
     "output_type": "stream",
     "text": [
      "1\n",
      " ..라고 말하고 싶었는데...\n",
      "3\n",
      " ..라고 말하고 싶었는데...\n",
      "5\n",
      " ..라고 말하고 싶었는데...\n",
      "7\n",
      " ..라고 말하고 싶었는데...\n",
      "9\n",
      " ..라고 말하고 싶었는데...\n"
     ]
    }
   ],
   "source": [
    "a=0\n",
    "while a < 10:\n",
    "    a += 1\n",
    "    if a % 2  == 0:\n",
    "        print(f' ..라고 말하고 싶었는데...')\n",
    "        continue\n",
    "    print(a)"
   ]
  },
  {
   "cell_type": "markdown",
   "id": "c8c6e11c-a29f-4244-994a-4af0e11baf4d",
   "metadata": {},
   "source": [
    "### 3.2.5. 무한루프"
   ]
  },
  {
   "cell_type": "code",
   "execution_count": 4,
   "id": "80245045-8fc2-41e0-90bd-58c315add9ca",
   "metadata": {},
   "outputs": [],
   "source": [
    "# while '계속 돌릴 거에요':\n",
    "    # print(\"Ctrl+C를 눌러야 while 문을 빠져나갈 수 있습니다.\")"
   ]
  },
  {
   "cell_type": "markdown",
   "id": "6fa6f7e5-b38e-4f90-9ac4-fca8ccf30971",
   "metadata": {},
   "source": [
    "## 3.3. for 문"
   ]
  },
  {
   "cell_type": "markdown",
   "id": "d155a350-c64b-41d8-bfbc-aae8dc7d8dd5",
   "metadata": {},
   "source": [
    "### 3.3.1 for 구문\n",
    "- <span style=\"color:red\">for</span><b>변수<b><span style=\"color:pink\">in</span><mark>리스트(또는 튜플, 문자열)</mark>"
   ]
  },
  {
   "cell_type": "markdown",
   "id": "dc569f9e-649d-496e-8ac9-46aaf607a2e8",
   "metadata": {},
   "source": [
    "#### 3.3.1.1. 전형적인 for 문"
   ]
  },
  {
   "cell_type": "code",
   "execution_count": 6,
   "id": "1c96200c-d149-4c5c-8d18-70a8caa7f39f",
   "metadata": {},
   "outputs": [
    {
     "name": "stdout",
     "output_type": "stream",
     "text": [
      "1\n",
      "2\n",
      "3\n",
      "4\n",
      "5\n",
      "6\n",
      "7\n",
      "8\n",
      "9\n"
     ]
    }
   ],
   "source": [
    "'''\n",
    "자바스크립트의 경우 for of와 유사\n",
    "for (const i of [1,2,3,4,5,6,7,8,9]){\n",
    "    console.log(i)\n",
    "}\n",
    "'''\n",
    "for i in [1,2,3,4,5,6,7,8,9]:\n",
    "    print(i)"
   ]
  },
  {
   "cell_type": "markdown",
   "id": "6b36a579-c30b-46ec-9ac2-eb5ee68ae0d2",
   "metadata": {},
   "source": [
    "#### 3.3.1.2. 다양한 for 문의 사용"
   ]
  },
  {
   "cell_type": "code",
   "execution_count": 7,
   "id": "5c584d05-ba90-4323-81d4-25620e3de880",
   "metadata": {},
   "outputs": [
    {
     "name": "stdout",
     "output_type": "stream",
     "text": [
      "1 + 2 = 3\n",
      "3 + 4 = 7\n",
      "5 + 6 = 11\n"
     ]
    }
   ],
   "source": [
    "a = [(1,2),(3,4),(5,6)]\n",
    "for (f,r) in a:\n",
    "    print(f'{f} + {r} = {f+r}') # r:rear(후반)"
   ]
  },
  {
   "cell_type": "markdown",
   "id": "3517f706-58f0-425c-8fa1-3e5448b9736c",
   "metadata": {},
   "source": [
    "#### 3.3.1.3. for문의 응용(☆)"
   ]
  },
  {
   "cell_type": "code",
   "execution_count": 13,
   "id": "21d23140-53e3-49e6-9ac3-b0952002af6a",
   "metadata": {},
   "outputs": [
    {
     "name": "stdout",
     "output_type": "stream",
     "text": [
      "1 + 11 = 12\n",
      "2 + 22 = 24\n",
      "3 + 33 = 36\n",
      "4 + 44 = 48\n",
      "5 + 55 = 60\n",
      "6 + 66 = 72\n",
      "7 + 77 = 84\n",
      "8 + 88 = 96\n",
      "9 + 99 = 108\n",
      "==================\n",
      "1 + 11 = 12 / 9\n",
      "2 + 22 = 24 / 8\n",
      "3 + 33 = 36 / 7\n",
      "4 + 44 = 48 / 6\n",
      "5 + 55 = 60 / 5\n",
      "6 + 66 = 72 / 4\n",
      "7 + 77 = 84 / 3\n",
      "8 + 88 = 96 / 2\n",
      "9 + 99 = 108 / 1\n"
     ]
    }
   ],
   "source": [
    "a = [1,2,3,4,5,6,7,8,9]\n",
    "b = [11,22,33,44,55,66,77,88,99]\n",
    "c = [9,8,7,6,5,4,3,2,1]\n",
    "for (i, j) in zip(a, b):\n",
    "    print(f'{i} + {j} = {i + j}')\n",
    "print('==================')\n",
    "for (i, j, k) in zip(a, b, c):\n",
    "    print(f'{i} + {j} = {i + j} / {k}')"
   ]
  },
  {
   "attachments": {
    "24f17389-2b16-42b5-a005-2c33b07d86df.png": {
     "image/png": "[encoded data removed]"
    },
    "e399d3ab-31fb-4786-a4c2-10ef7e8b810f.png": {
     "image/png": "[encoded data removed]"
    }
   },
   "cell_type": "markdown",
   "id": "722755f9-7069-4c63-9720-beb46274992c",
   "metadata": {},
   "source": [
    "![image.png](attachment:24f17389-2b16-42b5-a005-2c33b07d86df.png)![image.png](attachment:e399d3ab-31fb-4786-a4c2-10ef7e8b810f.png)"
   ]
  },
  {
   "cell_type": "code",
   "execution_count": 1,
   "id": "e7a15a74-31df-42ad-b0d0-9e89c820afa7",
   "metadata": {},
   "outputs": [
    {
     "name": "stdout",
     "output_type": "stream",
     "text": [
      "1번 학생은 합격입니다.\n",
      "2번 학생은 불합격입니다.\n",
      "3번 학생은 합격입니다.\n",
      "4번 학생은 불합격입니다.\n",
      "5번 학생은 합격입니다.\n"
     ]
    }
   ],
   "source": [
    "# 학생들의 점수를 검사해서 합불여부를 통보해주는 프로그램을 만들어보시오.\n",
    "# marks1.py\n",
    "marks = [90, 25, 67, 45, 80]   # 학생들의 시험 점수 리스트\n",
    "\n",
    "number = 0   # 학생에게 붙여 줄 번호\n",
    "for mark in marks:   # 90, 25, 67, 45, 80을 순서대로 mark에 대입\n",
    "    number = number +1 \n",
    "    if mark >= 60: \n",
    "        print(\"%d번 학생은 합격입니다.\" % number)\n",
    "    else: \n",
    "        print(\"%d번 학생은 불합격입니다.\" % number)"
   ]
  },
  {
   "cell_type": "markdown",
   "id": "9793387d-1080-413d-85be-90e218df3532",
   "metadata": {},
   "source": [
    "### 3.3.2. for문과 continue문(☆)"
   ]
  },
  {
   "cell_type": "code",
   "execution_count": 23,
   "id": "04b97cdc-c4a5-45a4-a93b-f3a96ae51929",
   "metadata": {},
   "outputs": [
    {
     "name": "stdout",
     "output_type": "stream",
     "text": [
      "1번 학생은 90 점으로 합격입니다. 축하합니다.\n",
      "3번 학생은 67 점으로 합격입니다. 축하합니다.\n",
      "5번 학생은 80 점으로 합격입니다. 축하합니다.\n"
     ]
    }
   ],
   "source": [
    "marks = [90, 25, 67, 45, 80]   \n",
    "\n",
    "number = 0   # 학생에게 붙여 줄 번호\n",
    "for mark in marks:   # 90, 25, 67, 45, 80을 순서대로 mark에 대입\n",
    "    number = number +1 \n",
    "    if mark < 60: \n",
    "        continue\n",
    "    print(\"%d번 학생은 %d 점으로 합격입니다. 축하합니다.\" % (number, mark))\n",
    "     # if조건과 print 들여쓰기 맞춰주기"
   ]
  },
  {
   "cell_type": "markdown",
   "id": "568fc30b-5135-45a2-9e12-3222d611352e",
   "metadata": {},
   "source": [
    "### 3.3.3. for과 range 함수(☆☆)"
   ]
  },
  {
   "cell_type": "code",
   "execution_count": 14,
   "id": "03a4d948-2cd0-48ea-a031-5d0bb5d5a5cd",
   "metadata": {},
   "outputs": [
    {
     "name": "stdout",
     "output_type": "stream",
     "text": [
      "[0, 1, 2, 3, 4, 5, 6, 7, 8, 9]\n",
      "(0, 1, 2, 3, 4, 5, 6, 7, 8, 9)\n",
      "{0, 1, 2, 3, 4, 5, 6, 7, 8, 9}\n"
     ]
    }
   ],
   "source": [
    "a = range(10) # 0 <= a <10 , for(let i =0 ; i<10 ; i++ )과 동일한 의미 / range는 단독으로는 의미 없음. for과 합쳐져야함.\n",
    "print(list(a))\n",
    "print(tuple(a))\n",
    "print(set(a))"
   ]
  },
  {
   "cell_type": "markdown",
   "id": "ac1ba808-d01c-4d79-8800-58b2de1917f9",
   "metadata": {},
   "source": [
    "#### 3.3.3.1. range함수의 예시 보기"
   ]
  },
  {
   "cell_type": "code",
   "execution_count": 17,
   "id": "b18ae5b6-d36b-4190-8233-9db385d12092",
   "metadata": {},
   "outputs": [
    {
     "name": "stdout",
     "output_type": "stream",
     "text": [
      "55\n"
     ]
    }
   ],
   "source": [
    "add = 0\n",
    "for i in range(1,11):\n",
    "    add = add + i\n",
    "print(add)"
   ]
  },
  {
   "cell_type": "code",
   "execution_count": 29,
   "id": "6ba78197-e966-48a3-a46b-586ccfae2e9a",
   "metadata": {},
   "outputs": [
    {
     "name": "stdout",
     "output_type": "stream",
     "text": [
      "5번 학생은 90 점으로 합격입니다. 축하합니다.\n",
      "5번 학생은 67 점으로 합격입니다. 축하합니다.\n",
      "5번 학생은 80 점으로 합격입니다. 축하합니다.\n"
     ]
    }
   ],
   "source": [
    "# range 응용1 : index 와 value 구하기\n",
    "marks = [90, 25, 67, 45, 80]   \n",
    "\n",
    "for index in range(len(marks)):   # 90, 25, 67, 45, 80을 순서대로 mark에 대입\n",
    "    if marks[index] < 60: \n",
    "        continue\n",
    "    print(\"%d번 학생은 %d 점으로 합격입니다. 축하합니다.\" % (number, marks[index]))\n",
    "    # if조건과 print 들여쓰기 맞춰주기"
   ]
  },
  {
   "cell_type": "code",
   "execution_count": 40,
   "id": "422a07e9-4d0c-4ed8-86e5-cf6773dcfde5",
   "metadata": {},
   "outputs": [
    {
     "name": "stdout",
     "output_type": "stream",
     "text": [
      "[0, 1, 2, 3, 4, 5, 6, 7, 8, 9]\n",
      "[0, 1, 2, 3, 4, 5, 6, 7, 8, 9]\n",
      "True\n",
      "[4, 6, 8, 10, 12, 14, 16, 18]\n",
      "[10, 9, 8, 7, 6, 5, 4, 3, 2, 1]\n"
     ]
    }
   ],
   "source": [
    "# range\n",
    "a = range(0,10,1)\n",
    "b = range(10)\n",
    "print(list(a))\n",
    "print(list(b))\n",
    "print(a==b)\n",
    "print(list(range(4,20,2))) # 4부터 20까지 2단위로 건너뛰어라\n",
    "print(list(range(10,0,-1)))"
   ]
  },
  {
   "cell_type": "code",
   "execution_count": 37,
   "id": "8d0c1d93-0288-417e-bfab-13352769abfc",
   "metadata": {},
   "outputs": [
    {
     "name": "stdout",
     "output_type": "stream",
     "text": [
      "0 90\n",
      "1 25\n",
      "2 67\n",
      "3 45\n",
      "4 80\n"
     ]
    }
   ],
   "source": [
    "# 예제2 : index 와 value 구하기\n",
    "\n",
    "marks = [90, 25, 67, 45, 80]   \n",
    "for i , v in enumerate(marks):\n",
    "    print(i, v)"
   ]
  },
  {
   "cell_type": "markdown",
   "id": "9c4c62a9-f8c0-4dd4-a94b-50ec13dc5b7b",
   "metadata": {
    "jp-MarkdownHeadingCollapsed": true
   },
   "source": [
    "#### 3.3.3.2. for과 range를 이용한 구구단"
   ]
  },
  {
   "cell_type": "code",
   "execution_count": 57,
   "id": "45fdd88c-ee01-4889-81e5-48b07de4beb0",
   "metadata": {},
   "outputs": [
    {
     "name": "stdout",
     "output_type": "stream",
     "text": [
      "====2단====\n",
      "2 x 1 = 2\n",
      "2 x 2 = 4\n",
      "2 x 3 = 6\n",
      "2 x 4 = 8\n",
      "2 x 5 = 10\n",
      "2 x 6 = 12\n",
      "2 x 7 = 14\n",
      "2 x 8 = 16\n",
      "2 x 9 = 18\n",
      "          \n",
      "====3단====\n",
      "3 x 1 = 3\n",
      "3 x 2 = 6\n",
      "3 x 3 = 9\n",
      "3 x 4 = 12\n",
      "3 x 5 = 15\n",
      "3 x 6 = 18\n",
      "3 x 7 = 21\n",
      "3 x 8 = 24\n",
      "3 x 9 = 27\n",
      "          \n",
      "====4단====\n",
      "4 x 1 = 4\n",
      "4 x 2 = 8\n",
      "4 x 3 = 12\n",
      "4 x 4 = 16\n",
      "4 x 5 = 20\n",
      "4 x 6 = 24\n",
      "4 x 7 = 28\n",
      "4 x 8 = 32\n",
      "4 x 9 = 36\n",
      "          \n",
      "====5단====\n",
      "5 x 1 = 5\n",
      "5 x 2 = 10\n",
      "5 x 3 = 15\n",
      "5 x 4 = 20\n",
      "5 x 5 = 25\n",
      "5 x 6 = 30\n",
      "5 x 7 = 35\n",
      "5 x 8 = 40\n",
      "5 x 9 = 45\n",
      "          \n",
      "====6단====\n",
      "6 x 1 = 6\n",
      "6 x 2 = 12\n",
      "6 x 3 = 18\n",
      "6 x 4 = 24\n",
      "6 x 5 = 30\n",
      "6 x 6 = 36\n",
      "6 x 7 = 42\n",
      "6 x 8 = 48\n",
      "6 x 9 = 54\n",
      "          \n",
      "====7단====\n",
      "7 x 1 = 7\n",
      "7 x 2 = 14\n",
      "7 x 3 = 21\n",
      "7 x 4 = 28\n",
      "7 x 5 = 35\n",
      "7 x 6 = 42\n",
      "7 x 7 = 49\n",
      "7 x 8 = 56\n",
      "7 x 9 = 63\n",
      "          \n",
      "====8단====\n",
      "8 x 1 = 8\n",
      "8 x 2 = 16\n",
      "8 x 3 = 24\n",
      "8 x 4 = 32\n",
      "8 x 5 = 40\n",
      "8 x 6 = 48\n",
      "8 x 7 = 56\n",
      "8 x 8 = 64\n",
      "8 x 9 = 72\n",
      "          \n",
      "====9단====\n",
      "9 x 1 = 9\n",
      "9 x 2 = 18\n",
      "9 x 3 = 27\n",
      "9 x 4 = 36\n",
      "9 x 5 = 45\n",
      "9 x 6 = 54\n",
      "9 x 7 = 63\n",
      "9 x 8 = 72\n",
      "9 x 9 = 81\n",
      "          \n"
     ]
    }
   ],
   "source": [
    "for i in range(2,10): \n",
    "    print(f'{str(i) + \"단\":=^10}') # 단 표시\n",
    "    for j in range(1,10):\n",
    "        # print(i, '*', j, '=', i * j)\n",
    "        print('%d x %d = %d' %(i,j,i*j)) # 구구단\n",
    "    print('{0:10}'.format('')) # 여백"
   ]
  },
  {
   "cell_type": "markdown",
   "id": "f5202ab1-813e-4ff5-a998-62684e184c3c",
   "metadata": {},
   "source": [
    "### 3.3.4. 리스트 커프리헨션(☆☆)"
   ]
  },
  {
   "cell_type": "code",
   "execution_count": 58,
   "id": "a111f8bb-dd43-4f08-9720-ce69668e34e8",
   "metadata": {},
   "outputs": [
    {
     "name": "stdout",
     "output_type": "stream",
     "text": [
      "[3, 6, 9, 12, 15]\n"
     ]
    }
   ],
   "source": [
    "# 일반적\n",
    "a = [1,2,3,4,5]\n",
    "result = []\n",
    "for num in a:\n",
    "    result.append(num*3)\n",
    "print(result)"
   ]
  },
  {
   "cell_type": "code",
   "execution_count": 60,
   "id": "3917c745-761a-416d-a234-7c8200caa626",
   "metadata": {},
   "outputs": [
    {
     "name": "stdout",
     "output_type": "stream",
     "text": [
      "[3, 6, 9, 12, 15]\n"
     ]
    }
   ],
   "source": [
    "# 리스트 컴프리헨션(기본)\n",
    "a = [1,2,3,4,5] \n",
    "result = [num*3 for num in a]\n",
    "print(result)"
   ]
  },
  {
   "cell_type": "code",
   "execution_count": 61,
   "id": "22705179-0550-4ea2-901b-1739eca0f1ae",
   "metadata": {},
   "outputs": [
    {
     "name": "stdout",
     "output_type": "stream",
     "text": [
      "[6, 12]\n"
     ]
    }
   ],
   "source": [
    "# 리스트 컴프리헨션(if와 사용할 때)\n",
    "a = [1,2,3,4,5] \n",
    "result = [num*3 for num in a if num%2 == 0] #기억할 것\n",
    "print(result)"
   ]
  },
  {
   "cell_type": "code",
   "execution_count": 62,
   "id": "58af8bd8-31d2-44ce-82a8-17d53b9ae351",
   "metadata": {},
   "outputs": [
    {
     "name": "stdout",
     "output_type": "stream",
     "text": [
      "[2, 4, 6, 8, 10, 12, 14, 16, 18, 3, 6, 9, 12, 15, 18, 21, 24, 27, 4, 8, 12, 16, 20, 24, 28, 32, 36, 5, 10, 15, 20, 25, 30, 35, 40, 45, 6, 12, 18, 24, 30, 36, 42, 48, 54, 7, 14, 21, 28, 35, 42, 49, 56, 63, 8, 16, 24, 32, 40, 48, 56, 64, 72, 9, 18, 27, 36, 45, 54, 63, 72, 81]\n"
     ]
    }
   ],
   "source": [
    "result = [i*j for i in range(2,10)\n",
    "              for j in range(1,10)]\n",
    "\n",
    "    # print(f'{str(i) + \"단\":=^10}') \n",
    "    # print('{0:10}'.format('')) \n",
    "\n",
    "print(result)"
   ]
  },
  {
   "cell_type": "markdown",
   "id": "fe3f6417-d583-4115-8d18-fa6dea7c1ed3",
   "metadata": {},
   "source": [
    "#### + 풀이해보기\n",
    "1. 자판기를 만들어보기\n",
    "2. a 물건 값을 입력받고, b지불할 돈을 입력하면\n",
    "3. 거스름돈을 계산해준다. 단, 1000원짜리 몇장 500원짜리 몇개 등으로 잔돈을 구비하여 출력한다.\n",
    "4. 예) 물건값 : 3200원, 지불한 돈 : 10000원 이면,\n",
    "       - 5000원 x 1개\n",
    "       - 1000원 x 1개\n",
    "       - 500원 x 1개\n",
    "       - 100원 x 3개\n",
    "       - 50원 x 0개\n",
    "       - 10원 x 0개\n",
    "5. 등의 표현으로 출력되게 하라"
   ]
  },
  {
   "cell_type": "code",
   "execution_count": 94,
   "id": "07a94c7f-d71e-408d-97b1-bd1d39908d7f",
   "metadata": {},
   "outputs": [
    {
     "name": "stdin",
     "output_type": "stream",
     "text": [
      " 3200\n"
     ]
    },
    {
     "name": "stdout",
     "output_type": "stream",
     "text": [
      "거스름 돈 :  6800 원\n",
      "만원 :  0 장\n",
      "오천원 :  1 장\n",
      "천원 :  1 장\n",
      "오백원 :  1 개\n",
      "백원 :  3 개\n",
      "오십원 :  0 개\n",
      "십원 :  0 개\n"
     ]
    }
   ],
   "source": [
    "M = (10000 - int(input())) # 거스름 돈\n",
    "man = M // 10000\n",
    "ocheon = (M % 10000)//5000\n",
    "cheon = ((M % 10000) % 5000)//1000\n",
    "obaek = (((M % 10000) % 5000) % 1000)//500\n",
    "baek = ((((M % 10000) % 5000) % 1000) % 500)//100\n",
    "osip = (((((M % 10000) % 5000) % 1000) % 500) % 100)//50\n",
    "sip = ((((((M % 10000) % 5000) % 1000) % 500) % 100) % 50)//10\n",
    "\n",
    "print(\"거스름 돈 : \", M, \"원\")\n",
    "print(\"만원 : \" , man, \"장\")\n",
    "print(\"오천원 : \" , ocheon, \"장\")\n",
    "print(\"천원 : \" , cheon, \"장\")\n",
    "print(\"오백원 : \" , obaek, \"개\")\n",
    "print(\"백원 : \" , baek, \"개\")\n",
    "print(\"오십원 : \" , osip, \"개\")\n",
    "print(\"십원 : \" , sip, \"개\")"
   ]
  },
  {
   "cell_type": "markdown",
   "id": "a2fcf0a3-5327-4463-bfd6-8350dcd36ba4",
   "metadata": {},
   "source": [
    "# 4. 파이썬의 입출력"
   ]
  },
  {
   "cell_type": "markdown",
   "id": "5ab4aae9-eb3c-4643-8132-3a439593e037",
   "metadata": {},
   "source": [
    "## 함수"
   ]
  },
  {
   "cell_type": "markdown",
   "id": "e9640ada-f11e-4faf-ba6d-33175fc7907d",
   "metadata": {},
   "source": [
    "### 4.1.1. 파이썬 함수"
   ]
  },
  {
   "cell_type": "code",
   "execution_count": 7,
   "id": "8d2cc266-cfde-4ef1-a58e-7a600405a2cd",
   "metadata": {},
   "outputs": [],
   "source": [
    "def add(a,b):\n",
    "    print('입력하신{0}과 {1}을 더하면 {2}입니다.'.format(a,b,a+b))\n",
    "    return a+b"
   ]
  },
  {
   "cell_type": "code",
   "execution_count": 8,
   "id": "4c2cc8a1-898e-4769-a7da-9afd958dfb3b",
   "metadata": {},
   "outputs": [
    {
     "name": "stdout",
     "output_type": "stream",
     "text": [
      "입력하신3과 4을 더하면 7입니다.\n"
     ]
    },
    {
     "data": {
      "text/plain": [
       "7"
      ]
     },
     "execution_count": 8,
     "metadata": {},
     "output_type": "execute_result"
    }
   ],
   "source": [
    "add(3,4)"
   ]
  },
  {
   "cell_type": "markdown",
   "id": "6dba8d7b-9e66-43d3-9703-05516d9c2268",
   "metadata": {},
   "source": [
    "### 3.4.2. 매개변수와 인수\n",
    "- 매개변수(parameter)와 인수(arguments)는 혼용해서 사용하는 용어\n",
    "- 매개변수는 함수에 입력으로 전달된 값을 받는 변수, 인수는 함수를 호출할 때 전달하는 입력값을 의미한다."
   ]
  },
  {
   "attachments": {
    "4f1396d9-ba91-43c3-8cd3-2f3fa84335be.png": {
     "image/png": "[encoded data removed]"
    }
   },
   "cell_type": "markdown",
   "id": "6b1de868-59e6-4407-b998-7e0e57129fd3",
   "metadata": {},
   "source": [
    "![image.png](attachment:4f1396d9-ba91-43c3-8cd3-2f3fa84335be.png)"
   ]
  },
  {
   "cell_type": "markdown",
   "id": "42283ae9-41e8-483f-8828-fbf907385aab",
   "metadata": {},
   "source": [
    "#### 3.4.2.1. 일반적인 함수"
   ]
  },
  {
   "cell_type": "code",
   "execution_count": 12,
   "id": "7018cec2-9d68-4967-b3ba-8611721be469",
   "metadata": {},
   "outputs": [],
   "source": [
    "def mul(a,b):\n",
    "    return a*b"
   ]
  },
  {
   "cell_type": "raw",
   "id": "4a04f5b3-64bd-45c3-a5c9-c55332371089",
   "metadata": {},
   "source": [
    "입력값이 없는 함수"
   ]
  },
  {
   "cell_type": "code",
   "execution_count": 14,
   "id": "b30d85ec-4619-470e-b0a4-0db8696cb1ce",
   "metadata": {},
   "outputs": [],
   "source": [
    "def say():\n",
    "    print('Hi 라고 말할 겁니다.')\n",
    "    return 'Hi'"
   ]
  },
  {
   "cell_type": "code",
   "execution_count": 19,
   "id": "e460d62a-e02f-4c41-bb91-a66205ce318c",
   "metadata": {},
   "outputs": [
    {
     "name": "stdout",
     "output_type": "stream",
     "text": [
      "Hi 라고 말할 겁니다.\n"
     ]
    }
   ],
   "source": [
    "a = say()\n",
    "# 함수의 복사, 실행x"
   ]
  },
  {
   "cell_type": "code",
   "execution_count": 18,
   "id": "00be927f-2926-4a8f-be31-38a0510e565f",
   "metadata": {},
   "outputs": [
    {
     "name": "stdout",
     "output_type": "stream",
     "text": [
      "Hi\n"
     ]
    }
   ],
   "source": [
    "print(a)"
   ]
  },
  {
   "cell_type": "code",
   "execution_count": null,
   "id": "b8b9d828-9dd6-420a-9732-829d11bd2e03",
   "metadata": {},
   "outputs": [],
   "source": [
    "def add(a,b):\n",
    "    print(\"%d와, %d의 합은 %d입니다.\" % (a, b, ())"
   ]
  },
  {
   "cell_type": "markdown",
   "id": "22b5c366-3d00-4b61-9a25-e3b5278a59f8",
   "metadata": {},
   "source": [
    " #### 3.4.3.4. 입력값도 리턴값도 없는 함수"
   ]
  },
  {
   "cell_type": "code",
   "execution_count": 21,
   "id": "93d58086-0bfb-4fb8-90f5-4bcca6424903",
   "metadata": {},
   "outputs": [],
   "source": [
    "def say():\n",
    "    print('Hi')\n",
    "    #return 없음"
   ]
  },
  {
   "cell_type": "code",
   "execution_count": 22,
   "id": "fb2abe8d-7e6c-4316-9c10-3ee6ade0160b",
   "metadata": {},
   "outputs": [
    {
     "name": "stdout",
     "output_type": "stream",
     "text": [
      "Hi\n"
     ]
    }
   ],
   "source": [
    "say()"
   ]
  },
  {
   "cell_type": "markdown",
   "id": "80fa7765-ea23-497c-8096-5acef252639a",
   "metadata": {},
   "source": [
    "### 3.4.4. 매개변수를 지정하여 호출하기(초기값) "
   ]
  },
  {
   "cell_type": "code",
   "execution_count": 24,
   "id": "8d71b61d-775b-4435-b96f-b1ba1f0c21e8",
   "metadata": {},
   "outputs": [],
   "source": [
    "def sub(a=7, b=3):\n",
    "    return a - b"
   ]
  },
  {
   "cell_type": "code",
   "execution_count": 25,
   "id": "cc6c619e-ffc4-4ada-8c4d-57907818585d",
   "metadata": {},
   "outputs": [
    {
     "name": "stdout",
     "output_type": "stream",
     "text": [
      "4\n"
     ]
    },
    {
     "data": {
      "text/plain": [
       "'Hi'"
      ]
     },
     "execution_count": 25,
     "metadata": {},
     "output_type": "execute_result"
    }
   ],
   "source": [
    "result = sub()\n",
    "print(result)\n",
    "a"
   ]
  },
  {
   "cell_type": "markdown",
   "id": "46838cfa-3c94-4d61-b674-51fb35f15d0d",
   "metadata": {},
   "source": [
    "#### 3.4.5. 입력값이 몇 개가 될지 모를 때"
   ]
  },
  {
   "cell_type": "markdown",
   "id": "b403f265-5782-4249-afa2-9d3839493982",
   "metadata": {},
   "source": [
    "#### 3.4.5.1. 여러 개의 입력값을 받는 함수 만들기"
   ]
  },
  {
   "cell_type": "code",
   "execution_count": 30,
   "id": "2b641f81-cbbb-44cc-a4ba-f4a9e6b308f1",
   "metadata": {},
   "outputs": [],
   "source": [
    "def add_many(*args):\n",
    "    result = 0\n",
    "    print(type(args),args)\n",
    "    for i in args:\n",
    "        result += i\n",
    "    return result"
   ]
  },
  {
   "cell_type": "code",
   "execution_count": 31,
   "id": "f87d67cb-d43f-4738-9c28-acba0de1c198",
   "metadata": {},
   "outputs": [
    {
     "name": "stdout",
     "output_type": "stream",
     "text": [
      "<class 'tuple'> (1, 2, 3, 4, 5, 6, 7, 8, 9, 10)\n",
      "55\n"
     ]
    }
   ],
   "source": [
    "result = add_many(1,2,3,4,5,6,7,8,9,10)\n",
    "print(result)"
   ]
  },
  {
   "cell_type": "code",
   "execution_count": 32,
   "id": "ff1ad03e-c805-40fc-8972-7dabca5de80d",
   "metadata": {},
   "outputs": [],
   "source": [
    "def add_mul(choice, *args): \n",
    "...     if choice == \"add\":   # 매개변수 choice에 \"add\"를 입력받았을 때\n",
    "...         result = 0 \n",
    "...         for i in args: \n",
    "...             result = result + i \n",
    "...     elif choice == \"mul\":   # 매개변수 choice에 \"mul\"을 입력받았을 때\n",
    "...         result = 1 \n",
    "...         for i in args: \n",
    "...             result = result * i \n",
    "...     return result "
   ]
  },
  {
   "cell_type": "code",
   "execution_count": 33,
   "id": "714a74c9-1ccb-4d0e-acc2-4451f3977488",
   "metadata": {},
   "outputs": [
    {
     "name": "stdout",
     "output_type": "stream",
     "text": [
      "15\n",
      "120\n"
     ]
    }
   ],
   "source": [
    "result = add_mul('add',1,2,3,4,5)\n",
    "result2 = add_mul('mul',1,2,3,4,5)\n",
    "print(result)\n",
    "print(result2)"
   ]
  },
  {
   "cell_type": "markdown",
   "id": "25f7ac8c-5592-4612-a52f-fc74fc902cf1",
   "metadata": {},
   "source": [
    "- 응용1 : 변수에 튜플을 담고 변수에 *붙임"
   ]
  },
  {
   "cell_type": "code",
   "execution_count": 39,
   "id": "15951f33-1272-46a1-906a-2aab649f58ce",
   "metadata": {},
   "outputs": [
    {
     "name": "stdout",
     "output_type": "stream",
     "text": [
      "45\n",
      "55\n"
     ]
    }
   ],
   "source": [
    "rp = 1,2,3,4,5,6,7,8,9\n",
    "lt = [1,2,3,4,5,6,7,8,9,10]\n",
    "result3 = add_mul('add',*rp)\n",
    "result4 = add_mul('add',*lt)\n",
    "print(result3)\n",
    "print(result4)"
   ]
  },
  {
   "cell_type": "markdown",
   "id": "c841a3d0-b460-4302-a578-d51680d1cc95",
   "metadata": {},
   "source": [
    "- 응용2 : args의 요소에 접근하기"
   ]
  },
  {
   "cell_type": "code",
   "execution_count": 27,
   "id": "4f57b554-0634-4b82-a7e1-38e1b7e32731",
   "metadata": {},
   "outputs": [],
   "source": [
    "def add_new(*args): \n",
    "    if args[0][0] == \"add\":  \n",
    "        result = 0 \n",
    "        arr = args[0][1:]\n",
    "        for i in arr: \n",
    "            result += i \n",
    "    elif args[0][0] == \"mul\": \n",
    "        result = 1 \n",
    "        for i in arr: \n",
    "            result *= i \n",
    "    return result "
   ]
  },
  {
   "cell_type": "code",
   "execution_count": 28,
   "id": "709ed40c-99b1-4a33-b6f1-19c445aac350",
   "metadata": {},
   "outputs": [
    {
     "data": {
      "text/plain": [
       "45"
      ]
     },
     "execution_count": 28,
     "metadata": {},
     "output_type": "execute_result"
    }
   ],
   "source": [
    "ar = 'add',1,2,3,4,5,6,7,8,9\n",
    "add_new(ar)"
   ]
  },
  {
   "cell_type": "markdown",
   "id": "debbeed9-f701-4f9d-87cc-07bc4a0e1f4e",
   "metadata": {},
   "source": [
    "#### 3.4.5.2. 키워드 매개변수, kwargs(☆)"
   ]
  },
  {
   "cell_type": "code",
   "execution_count": 22,
   "id": "620097af-5c66-41d4-b22a-b7b33a3089de",
   "metadata": {},
   "outputs": [
    {
     "name": "stdout",
     "output_type": "stream",
     "text": [
      "{'a': 1, 'b': 2}로 딕셔너리 형태로 출력\n",
      "{'a': 1, 'b': 2}\n"
     ]
    }
   ],
   "source": [
    "def dic_maker(**kwargs):\n",
    "    print(f'{kwargs}로 딕셔너리 형태로 출력')\n",
    "    return kwargs\n",
    "print(dic_maker(a=1,b=2))"
   ]
  },
  {
   "cell_type": "markdown",
   "id": "68f3b380-2e38-43e2-b154-0af6a9ec8e39",
   "metadata": {},
   "source": [
    "### 3.4.6. 함수의 리턴값은 언제나 하나이다.(☆☆)"
   ]
  },
  {
   "cell_type": "code",
   "execution_count": 31,
   "id": "98675ce7-da2d-4bae-8c03-34425f2e7002",
   "metadata": {},
   "outputs": [],
   "source": [
    "def add2(a,b):\n",
    "    print(f'{a+b},{a*b}의 결과')\n",
    "    return a+b, a*b"
   ]
  },
  {
   "cell_type": "code",
   "execution_count": 33,
   "id": "5d627ab6-0bfc-43f5-8f95-8e6c93028b97",
   "metadata": {},
   "outputs": [
    {
     "name": "stdout",
     "output_type": "stream",
     "text": [
      "7,12의 결과\n",
      "(7, 12) <class 'tuple'>\n"
     ]
    }
   ],
   "source": [
    "result = add2(3,4)\n",
    "print(result,type(result))"
   ]
  },
  {
   "cell_type": "code",
   "execution_count": 40,
   "id": "fbd201bb-65ba-412e-a87f-e060f0bea149",
   "metadata": {},
   "outputs": [],
   "source": [
    "def add3(a,b):\n",
    "    if a == 0:return # 고의적으로 return을 넣어서 상황 종료 시키는 경우도 있다.\n",
    "    print(f'1:{a+b},{a*b}의 결과')\n",
    "    return a+b\n",
    "    print(f'2:{a*b}의 결과')\n",
    "    return a*b\n",
    "    print(f'3:{a*b}의 결과')"
   ]
  },
  {
   "cell_type": "code",
   "execution_count": 39,
   "id": "b6644bce-fab3-44ba-a449-b268f02c0589",
   "metadata": {},
   "outputs": [
    {
     "name": "stdout",
     "output_type": "stream",
     "text": [
      "1:7,12의 결과\n",
      "7\n",
      "None\n"
     ]
    }
   ],
   "source": [
    "result = add3(3,4)\n",
    "print(result)\n",
    "result2 = add3(0,12434)\n",
    "print(result2)"
   ]
  },
  {
   "cell_type": "markdown",
   "id": "4ac090a0-4aa7-408c-b93a-ff6472fb308e",
   "metadata": {},
   "source": [
    "### 3.4.7. 매개변수에 초깃값 미리 설정하기"
   ]
  },
  {
   "cell_type": "code",
   "execution_count": 42,
   "id": "cffa3c6d-c31b-4abe-8a9f-51bb64700b57",
   "metadata": {},
   "outputs": [],
   "source": [
    "def say_myself(name, age, man=True): #초기값은 마지막에 설정해야 한다.\n",
    "    print(\"나의 이름은 %s 입니다\" % name)\n",
    "    print(\"나의 나이는 %d살 입니다\" % age)\n",
    "    if man : \n",
    "        print(\"남자입니다.\")\n",
    "    else: \n",
    "        print(\"여자입니다.\")"
   ]
  },
  {
   "cell_type": "code",
   "execution_count": 45,
   "id": "4dc94b9f-a288-40b6-a729-7b6b32585039",
   "metadata": {},
   "outputs": [
    {
     "name": "stdout",
     "output_type": "stream",
     "text": [
      "나의 이름은 박응용 입니다\n",
      "나의 나이는 27살 입니다\n",
      "남자입니다.\n",
      "나의 이름은 박응용 입니다\n",
      "나의 나이는 27살 입니다\n",
      "남자입니다.\n"
     ]
    }
   ],
   "source": [
    "    say_myself(\"박응용\", 27)\n",
    "    say_myself(\"박응용\", 27, True)"
   ]
  },
  {
   "cell_type": "markdown",
   "id": "684caf49-29d6-4436-8e5c-7a501c63886f",
   "metadata": {},
   "source": [
    "### 3.4.8. 함수 안에서 선언한 변수의 효력 범위 (☆☆)"
   ]
  },
  {
   "cell_type": "code",
   "execution_count": 48,
   "id": "bb2e0acd-d444-440e-a17d-58b49e92a5d2",
   "metadata": {},
   "outputs": [
    {
     "name": "stdout",
     "output_type": "stream",
     "text": [
      "2\n",
      "1\n"
     ]
    }
   ],
   "source": [
    "a = 1\n",
    "def vartest(a):\n",
    "    a = a+1\n",
    "    print(a)\n",
    "vartest(a)\n",
    "print(a)"
   ]
  },
  {
   "cell_type": "markdown",
   "id": "ad94f8d2-d1a2-452e-8fe0-d7a69de29b71",
   "metadata": {},
   "source": [
    "### 3.4.9. 함수 안에서 함수 밖의 변수를 변경하는 방법(☆)"
   ]
  },
  {
   "cell_type": "markdown",
   "id": "9e629b07-2d72-4602-891f-3bff948b46b1",
   "metadata": {},
   "source": [
    "#### 3.4.9.1. return 사용하기"
   ]
  },
  {
   "cell_type": "code",
   "execution_count": 49,
   "id": "4d1d6025-8fe5-4a10-9fc6-93c36af433ed",
   "metadata": {},
   "outputs": [
    {
     "name": "stdout",
     "output_type": "stream",
     "text": [
      "2\n"
     ]
    }
   ],
   "source": [
    "a = 1\n",
    "def vartest(a):\n",
    "    a = a+1\n",
    "    return a\n",
    "a = vartest(a)\n",
    "print(a)"
   ]
  },
  {
   "cell_type": "markdown",
   "id": "5d2a713f-1aef-421b-86ef-59962eafa9dc",
   "metadata": {},
   "source": [
    "#### 3.4.9.2. global 명령어 사용하기"
   ]
  },
  {
   "cell_type": "code",
   "execution_count": 53,
   "id": "743c0b81-f832-4a21-916c-3736e83bc9a5",
   "metadata": {},
   "outputs": [
    {
     "name": "stdout",
     "output_type": "stream",
     "text": [
      "2\n",
      "2\n"
     ]
    }
   ],
   "source": [
    "a = 1\n",
    "def vartest():\n",
    "    '''\n",
    "    global 함수는 자제하고 return 값으로 대체할 것!\n",
    "    '''\n",
    "    global a\n",
    "    a = a + 1\n",
    "    print(a)\n",
    "vartest()\n",
    "print(a)"
   ]
  },
  {
   "cell_type": "code",
   "execution_count": 57,
   "id": "0464a113-53bf-4c9d-a9f1-a74b97ce444f",
   "metadata": {},
   "outputs": [
    {
     "data": {
      "text/plain": [
       "'\\n    global 함수는 자제하고 \\n    return 값으로 대체할 것!\\n    '"
      ]
     },
     "execution_count": 57,
     "metadata": {},
     "output_type": "execute_result"
    }
   ],
   "source": [
    "vartest.__doc__"
   ]
  },
  {
   "cell_type": "markdown",
   "id": "20b3b58d-cd79-43cc-b9f3-2d36440bfba9",
   "metadata": {},
   "source": [
    "### 3.4.10. lambda 예약어(☆)"
   ]
  },
  {
   "cell_type": "code",
   "execution_count": 52,
   "id": "3de8f83b-543b-4330-ae98-48f601a5a88b",
   "metadata": {},
   "outputs": [
    {
     "name": "stdout",
     "output_type": "stream",
     "text": [
      "7\n"
     ]
    }
   ],
   "source": [
    "add = lambda a, b : a+b\n",
    "result = add(3,4)\n",
    "print(result)"
   ]
  },
  {
   "cell_type": "markdown",
   "id": "f79a5429-e2b4-4e9e-8805-61ca1551eea4",
   "metadata": {},
   "source": [
    "## 3.5. 사용자 입출력"
   ]
  },
  {
   "cell_type": "markdown",
   "id": "9dd8110c-bc1d-4222-83b4-632ed2e7a3dc",
   "metadata": {},
   "source": [
    "### 3.5.1. 사용자 입력 활용하기"
   ]
  },
  {
   "cell_type": "markdown",
   "id": "b0e8462d-7469-4856-8230-aa3ea351db2d",
   "metadata": {},
   "source": [
    "#### 3.5.1.1. input 사용하기(☆) \n",
    "- 주의 : input은 사용자가 키보드로 저장한 모든 것을 문자열로 저장한다."
   ]
  },
  {
   "cell_type": "code",
   "execution_count": 60,
   "id": "5147268c-7130-4008-befe-22dbdfe8c688",
   "metadata": {},
   "outputs": [
    {
     "name": "stdin",
     "output_type": "stream",
     "text": [
      "안내문구 111\n"
     ]
    }
   ],
   "source": [
    "a = input('안내문구') # 숫자를 입력받기 원할 때는 int()를 사용"
   ]
  },
  {
   "cell_type": "markdown",
   "id": "39248875-8b9d-46fa-a94e-3ec986c8914c",
   "metadata": {},
   "source": [
    "#### 3.5.1.2. 프롬프트를 띄워 사용자 입력받기"
   ]
  },
  {
   "cell_type": "code",
   "execution_count": 65,
   "id": "13addf49-7176-46e2-9a03-74e3f441d698",
   "metadata": {},
   "outputs": [
    {
     "name": "stdin",
     "output_type": "stream",
     "text": [
      "숫자를 입력하세요 565\n"
     ]
    },
    {
     "name": "stdout",
     "output_type": "stream",
     "text": [
      "565 <class 'int'>\n"
     ]
    }
   ],
   "source": [
    "a = int(input('숫자를 입력하세요') or 1234) \n",
    "print(a, type(a))"
   ]
  },
  {
   "cell_type": "markdown",
   "id": "c3b97a5b-2981-41a1-a2e1-662e2f2f5e81",
   "metadata": {},
   "source": [
    "### 3.5.2. print 자세히 알기"
   ]
  },
  {
   "cell_type": "markdown",
   "id": "0d19f030-5325-4078-830a-4c5496a5f510",
   "metadata": {},
   "source": [
    "#### 3.5.2.1. 큰 따옴표로 둘러싸인 문자열은 + 연산과 동일하다."
   ]
  },
  {
   "cell_type": "code",
   "execution_count": 69,
   "id": "6dac966c-97c5-42c2-ba68-7e69af739a42",
   "metadata": {},
   "outputs": [
    {
     "name": "stdout",
     "output_type": "stream",
     "text": [
      "life is too short\n",
      "life is too short\n",
      "life is too short\n"
     ]
    }
   ],
   "source": [
    "print(\"life \" \"is \" \"too short\") #1번\n",
    "print(\"life \"+\"is \"+\"too short\") #2번\n",
    "print(\"life\",\"is\",\"too short\") #3번"
   ]
  },
  {
   "cell_type": "code",
   "execution_count": 77,
   "id": "9941a654-14dc-4f5a-bc75-6a2208ee5045",
   "metadata": {},
   "outputs": [
    {
     "name": "stdout",
     "output_type": "stream",
     "text": [
      "0 1 2 3 4 5 6 7 8 9 \n",
      "====================\n",
      "9\r"
     ]
    }
   ],
   "source": [
    "for i in range(10):\n",
    "    print(i, end=\" \") #이어쓰기\n",
    "print(f'\\n{\"=\"*20}') #기본 end 값은 \\n 앤터(캐리지 리턴)\n",
    "for j in range(10):\n",
    "    print(j, end=\"\\r\")   # 덮어쓰기"
   ]
  },
  {
   "cell_type": "markdown",
   "id": "85fdc8ec-9ef5-4f6d-a2d0-24bcf0a419f3",
   "metadata": {},
   "source": [
    "## 3.6. 파일 읽고 쓰기 (☆☆)\r\n",
    "</tbody>\r\n",
    "</taeble>"
   ]
  },
  {
   "cell_type": "markdown",
   "id": "7680915a-8954-4fbc-8838-4c043024ec9c",
   "metadata": {},
   "source": [
    "<table>\n",
    "<thead>\n",
    "<tr>\n",
    "<th>파일열기모드</th>\n",
    "<th>설명</th>\n",
    "</tr>\n",
    "</thead>\n",
    "<tbody>\n",
    "<tr>\n",
    "<td>r</td>\n",
    "<td>읽기 모드: 파일을 읽기만 할 때 사용한다.</td>\n",
    "</tr>\n",
    "<tr>\n",
    "<td>w</td>\n",
    "<td>쓰기 모드: 파일에 내용을 쓸 때 사용한다.</td>\n",
    "</tr>\n",
    "<tr>\n",
    "<td>a</td>\n",
    "<td>추가 모드: 파일의 마지막에 새로운 내용을 추가할 때 사용한다.</td>\n",
    "</tr>\n",
    "</tbody>\n",
    "</table>\n",
    "<pre><B>파일 경로와 슬래시(/)</B>\r\n",
    "파이썬 코드에서 파일 경로를 표시할 때 \"C:/doit/새파일.txt\"처럼 슬래시(/)를 사용할 수 있다. 만약 역슬래시(\\)를 사용한다면 \"C:\\\\doit\\\\새파일.txt\"처럼 역슬래시를 2개 사용하거나 r\"C:\\doit\\새파일.txt\"와 같이 문자열 앞에 r 문자(raw string)를 덧붙여 사용해야 한다. 왜냐하면 \"C:\\note\\test.txt\"처럼 파일 경로에 \\n과 같은 이스케이프 문자가 있을 경우, 줄바꿈 문자로 해석되어 의도했던 파일 경로와 달라지기 때문이다.</pre>"
   ]
  },
  {
   "cell_type": "markdown",
   "id": "958cf574-265c-4df0-8c4a-ceb937633bca",
   "metadata": {},
   "source": [
    "### 3.6.1. 파일 생성하기"
   ]
  },
  {
   "cell_type": "code",
   "execution_count": 80,
   "id": "368502ce-c9d0-4d16-8e3b-1286b2f43d0f",
   "metadata": {},
   "outputs": [],
   "source": [
    "f = open(\"새파일.txt\", \"w\") # w : 덮어쓰기(주의해야함)\n",
    "f.close()"
   ]
  },
  {
   "cell_type": "markdown",
   "id": "b1198618-9367-43ac-9bdd-c715b7902fe5",
   "metadata": {},
   "source": [
    "### 3.6.2. 파일을 쓰기 모드로 열어 내용 쓰기"
   ]
  },
  {
   "cell_type": "code",
   "execution_count": 86,
   "id": "6564563b-6db4-4514-852b-ca9443c1229e",
   "metadata": {},
   "outputs": [],
   "source": [
    "f = open(\"새파일.txt\", \"w\")\n",
    "for i in range(1,11):\n",
    "    data = f'{i}번째 줄입니다.\\n'\n",
    "    f.write(data)\n",
    "f.close()"
   ]
  },
  {
   "cell_type": "markdown",
   "id": "c872ac9e-84df-41f9-a14f-b514d77a11c6",
   "metadata": {},
   "source": [
    "### 3.6.3. 파일을 읽는 여러 가지 방법"
   ]
  },
  {
   "cell_type": "markdown",
   "id": "02c2e17e-ce69-453f-89e7-19322eecef0c",
   "metadata": {},
   "source": [
    "#### 3.6.3.1. readline 함수 이용하기"
   ]
  },
  {
   "cell_type": "code",
   "execution_count": 89,
   "id": "5a0da897-b1b0-4c6b-b18c-5bbaeed2886d",
   "metadata": {},
   "outputs": [
    {
     "name": "stdout",
     "output_type": "stream",
     "text": [
      "1번째 줄입니다.\n",
      "\n",
      "2번째 줄입니다.\n",
      "\n",
      "3번째 줄입니다.\n",
      "\n",
      "4번째 줄입니다.\n",
      "\n",
      "5번째 줄입니다.\n",
      "\n",
      "6번째 줄입니다.\n",
      "\n",
      "7번째 줄입니다.\n",
      "\n",
      "8번째 줄입니다.\n",
      "\n",
      "9번째 줄입니다.\n",
      "\n",
      "10번째 줄입니다.\n",
      "\n"
     ]
    }
   ],
   "source": [
    "f = open(\"새파일.txt\", \"r\")\n",
    "while 1:\n",
    "    line = f.readline()\n",
    "    if not line : break\n",
    "    print(line)\n",
    "f.close()"
   ]
  },
  {
   "cell_type": "markdown",
   "id": "392a5239-d49c-42d0-bc50-13846473967f",
   "metadata": {},
   "source": [
    "#### 3.6.3.2. readlines 함수 사용하기"
   ]
  },
  {
   "cell_type": "code",
   "execution_count": 94,
   "id": "2ba73468-a58c-4f3b-8370-b824e428168a",
   "metadata": {},
   "outputs": [
    {
     "name": "stdout",
     "output_type": "stream",
     "text": [
      "1번째 줄입니다.\n",
      "2번째 줄입니다.\n",
      "3번째 줄입니다.\n",
      "4번째 줄입니다.\n",
      "5번째 줄입니다.\n",
      "6번째 줄입니다.\n",
      "7번째 줄입니다.\n",
      "8번째 줄입니다.\n",
      "9번째 줄입니다.\n",
      "10번째 줄입니다.\n"
     ]
    }
   ],
   "source": [
    "f = open(\"새파일.txt\", \"r\")\n",
    "lines = f.readlines()\n",
    "for line in lines:\n",
    "    line = line.strip()\n",
    "    print(line)\n",
    "f.close()"
   ]
  },
  {
   "cell_type": "markdown",
   "id": "d8f34149-fb4c-4479-b48c-9e136986f2f5",
   "metadata": {},
   "source": [
    "+ 응용 : newfile.txt에다가 1024까지 2의 배수만 쓰고 또 읽어오기\n",
    "+ - 예시) 1번째 줄 데이터는 2입니다.. \n",
    "          x번째 줄 데이터는 1024입니다.."
   ]
  },
  {
   "cell_type": "code",
   "execution_count": 106,
   "id": "a1a6825f-c619-4ac7-b595-66390efa3c64",
   "metadata": {},
   "outputs": [],
   "source": [
    "f = open(\"newfile.txt\", \"w\")\n",
    "for i in range(1,11):\n",
    "    data = f'{i}번째 줄 데이터는 math.pow(2,{i}) 입니다.\\n'\n",
    "    f.write(data)\n",
    "f.close()"
   ]
  },
  {
   "cell_type": "markdown",
   "id": "5a9f5337-916b-4047-a109-4d13c55796c1",
   "metadata": {},
   "source": [
    "#### 3.6.3.3. read 함수 사용하기"
   ]
  },
  {
   "cell_type": "code",
   "execution_count": 1,
   "id": "e8986a38-5d8e-49aa-b361-47ba5930a2eb",
   "metadata": {},
   "outputs": [
    {
     "name": "stdout",
     "output_type": "stream",
     "text": [
      "1번째 줄입니다.\n",
      "2번째 줄입니다.\n",
      "3번째 줄입니다.\n",
      "4번째 줄입니다.\n",
      "5번째 줄입니다.\n",
      "6번째 줄입니다.\n",
      "7번째 줄입니다.\n",
      "8번째 줄입니다.\n",
      "9번째 줄입니다.\n",
      "10번째 줄입니다.\n",
      "\n"
     ]
    },
    {
     "data": {
      "text/plain": [
       "<function TextIOWrapper.close()>"
      ]
     },
     "execution_count": 1,
     "metadata": {},
     "output_type": "execute_result"
    }
   ],
   "source": [
    "f = open(\"새파일.txt\", \"r\")\n",
    "data = f.read()\n",
    "print(data)\n",
    "f.close"
   ]
  },
  {
   "cell_type": "markdown",
   "id": "a09c98f2-0739-409a-b9cd-0ba0a0c7cf4f",
   "metadata": {},
   "source": [
    "#### 3.6.3.4. 파일 객체를 for문과 함께 사용하기"
   ]
  },
  {
   "cell_type": "code",
   "execution_count": 3,
   "id": "697ad1e9-6f6d-4174-abf2-4adc972fdc3a",
   "metadata": {},
   "outputs": [
    {
     "name": "stdout",
     "output_type": "stream",
     "text": [
      "<_io.TextIOWrapper name='새파일.txt' mode='r' encoding='UTF-8'>\n",
      "1번째 줄입니다.\n",
      "\n",
      "2번째 줄입니다.\n",
      "\n",
      "3번째 줄입니다.\n",
      "\n",
      "4번째 줄입니다.\n",
      "\n",
      "5번째 줄입니다.\n",
      "\n",
      "6번째 줄입니다.\n",
      "\n",
      "7번째 줄입니다.\n",
      "\n",
      "8번째 줄입니다.\n",
      "\n",
      "9번째 줄입니다.\n",
      "\n",
      "10번째 줄입니다.\n",
      "\n"
     ]
    }
   ],
   "source": [
    "f = open(\"새파일.txt\",\"r\")\n",
    "print(f)\n",
    "for line in f:\n",
    "    print(line)\n",
    "f.close()"
   ]
  },
  {
   "cell_type": "markdown",
   "id": "6fe073ca-24a0-489b-96f1-9abd51df4ebc",
   "metadata": {},
   "source": [
    "### 3.6.4. 파일에 새로운 내용 추가하기"
   ]
  },
  {
   "cell_type": "code",
   "execution_count": 10,
   "id": "34553e87-e4ee-4962-8ad3-cb0a59d68a3d",
   "metadata": {},
   "outputs": [
    {
     "name": "stdout",
     "output_type": "stream",
     "text": [
      "1번째 줄입니다.\n",
      "2번째 줄입니다.\n",
      "3번째 줄입니다.\n",
      "4번째 줄입니다.\n",
      "5번째 줄입니다.\n",
      "6번째 줄입니다.\n",
      "7번째 줄입니다.\n",
      "8번째 줄입니다.\n",
      "9번째 줄입니다.\n",
      "10번째 줄입니다.\n",
      "\n",
      "==============================\n",
      "1번째 줄입니다.\n",
      "2번째 줄입니다.\n",
      "3번째 줄입니다.\n",
      "4번째 줄입니다.\n",
      "5번째 줄입니다.\n",
      "6번째 줄입니다.\n",
      "7번째 줄입니다.\n",
      "8번째 줄입니다.\n",
      "9번째 줄입니다.\n",
      "10번째 줄입니다.\n",
      "11번째 줄입니다.\n",
      "12번째 줄입니다.\n",
      "13번째 줄입니다.\n",
      "14번째 줄입니다.\n",
      "15번째 줄입니다.\n",
      "16번째 줄입니다.\n",
      "17번째 줄입니다.\n",
      "18번째 줄입니다.\n",
      "19번째 줄입니다.\n",
      "20번째 줄입니다.\n",
      "\n"
     ]
    }
   ],
   "source": [
    "fr = open(\"새파일.txt\",\"r\")\n",
    "print(fr.read())\n",
    "fr.close()\n",
    "\n",
    "print(f'{\"=\"*30}')\n",
    "\n",
    "fa = open(\"새파일.txt\",\"a\")\n",
    "for i in range(11,21):\n",
    "    data = \"{0}번째 줄입니다.\\n\".format(i)\n",
    "    fa.write(data)\n",
    "fa.close()\n",
    "\n",
    "fr = open(\"새파일.txt\",\"r\")\n",
    "print(fr.read())\n",
    "fr.close()"
   ]
  },
  {
   "cell_type": "markdown",
   "id": "91a82ecc-0626-49b9-b7c2-6afa291b5f3d",
   "metadata": {},
   "source": [
    "### 3.6.5. with문과 함께 사용하기"
   ]
  },
  {
   "cell_type": "code",
   "execution_count": 12,
   "id": "f3437c03-2930-44d4-a23f-41b54fe14349",
   "metadata": {},
   "outputs": [
    {
     "name": "stdout",
     "output_type": "stream",
     "text": [
      "<_io.TextIOWrapper name='새파일.txt' mode='r' encoding='UTF-8'>\n",
      "1번째 줄입니다.\n",
      "\n",
      "2번째 줄입니다.\n",
      "\n",
      "3번째 줄입니다.\n",
      "\n",
      "4번째 줄입니다.\n",
      "\n",
      "5번째 줄입니다.\n",
      "\n",
      "6번째 줄입니다.\n",
      "\n",
      "7번째 줄입니다.\n",
      "\n",
      "8번째 줄입니다.\n",
      "\n",
      "9번째 줄입니다.\n",
      "\n",
      "10번째 줄입니다.\n",
      "\n",
      "11번째 줄입니다.\n",
      "\n",
      "12번째 줄입니다.\n",
      "\n",
      "13번째 줄입니다.\n",
      "\n",
      "14번째 줄입니다.\n",
      "\n",
      "15번째 줄입니다.\n",
      "\n",
      "16번째 줄입니다.\n",
      "\n",
      "17번째 줄입니다.\n",
      "\n",
      "18번째 줄입니다.\n",
      "\n",
      "19번째 줄입니다.\n",
      "\n",
      "20번째 줄입니다.\n",
      "\n"
     ]
    }
   ],
   "source": [
    "with open(\"새파일.txt\",\"r\") as f: \n",
    "    print(f)\n",
    "    for line in f:\n",
    "        print(line)"
   ]
  },
  {
   "cell_type": "markdown",
   "id": "123024b9-9674-4400-89b5-533663ce2167",
   "metadata": {},
   "source": [
    "## 3.7. 프로그램의 입출력"
   ]
  },
  {
   "cell_type": "code",
   "execution_count": 13,
   "id": "7153f028-3f8d-42b7-9e2e-88d203ac77c5",
   "metadata": {},
   "outputs": [
    {
     "name": "stdout",
     "output_type": "stream",
     "text": [
      "['/home/pi02/venv/lib/python3.11/site-packages/ipykernel_launcher.py', '-f', '/home/pi02/.local/share/jupyter/runtime/kernel-5236030d-b3ac-4c62-8026-667cd0ea5e4c.json']\n"
     ]
    }
   ],
   "source": [
    "import sys\n",
    "args = sys.argv\n",
    "print(args)"
   ]
  },
  {
   "cell_type": "code",
   "execution_count": 4,
   "id": "b7adce15-4678-4551-a7a3-d6ae05ace081",
   "metadata": {},
   "outputs": [
    {
     "name": "stdout",
     "output_type": "stream",
     "text": [
      "생성완료\n"
     ]
    }
   ],
   "source": [
    "with open(\"sys1.py\", \"w\") as f:\n",
    "    data ='''import sys\n",
    "args = sys.argv\n",
    "print(args)\n",
    "for i in args:\n",
    "    print(i)\n",
    "'''\n",
    "    f.write(data)\n",
    "print('생성완료')"
   ]
  },
  {
   "cell_type": "code",
   "execution_count": 5,
   "id": "331b7427-b394-4f57-897a-79423ce049a1",
   "metadata": {},
   "outputs": [
    {
     "name": "stdout",
     "output_type": "stream",
     "text": [
      "['sys1.py', 'aa', 'bb', 'cc']\n",
      "sys1.py\n",
      "aa\n",
      "bb\n",
      "cc\n"
     ]
    }
   ],
   "source": [
    "!python sys1.py aa bb cc"
   ]
  },
  {
   "cell_type": "code",
   "execution_count": 7,
   "id": "6ea49184-d5f0-42d4-bfbf-6543f73aa8f5",
   "metadata": {},
   "outputs": [
    {
     "name": "stdout",
     "output_type": "stream",
     "text": [
      "생성완료\n"
     ]
    }
   ],
   "source": [
    "f = open(\"newfile.txt\", \"w\")\n",
    "    data ='''import sys \n",
    "args = sys.argv[1:]     \n",
    "print(args) \n",
    "for i in args:\n",
    "    print(i.upper(), end=' ')\n",
    "'''\n",
    "    f.write(data)\n",
    "print('생성완료')"
   ]
  },
  {
   "cell_type": "code",
   "execution_count": 8,
   "id": "4a36f4ed-b79d-49e6-b9e4-9801f8cf0390",
   "metadata": {},
   "outputs": [
    {
     "name": "stdout",
     "output_type": "stream",
     "text": [
      "['life', 'is', 'too', 'short,', 'you', 'need', 'ptython!']\n",
      "LIFE IS TOO SHORT, YOU NEED PTYTHON! "
     ]
    }
   ],
   "source": [
    "!python sys2.py life is too short, you need ptython!"
   ]
  },
  {
   "cell_type": "markdown",
   "id": "f0187600-5bb8-461c-9458-1db58cd9ef47",
   "metadata": {},
   "source": [
    "#### + 응용문제(메모장 만들기)"
   ]
  },
  {
   "cell_type": "code",
   "execution_count": 11,
   "id": "400e1e3f-75a4-4fc9-80c5-6360d3794243",
   "metadata": {},
   "outputs": [
    {
     "name": "stdout",
     "output_type": "stream",
     "text": [
      "생성완료\n"
     ]
    }
   ],
   "source": [
    "'''\n",
    "메모장 만들기\n",
    "0) jupyter lab에서만 memo.py이름으로 파일 생성하기\n",
    "1) python memo.py memo.txt -w \"Life is too short\"\n",
    "을 작성하면\n",
    "memo.txt 파일에 \"Life is too short\" 의 내용이 저장됨\n",
    "2) python memo.py memo.txt -a \"This is my Memo App!\"\n",
    "을 작성하면\n",
    "memo.txt 파일에 \"This is my Memo App!\" 의 내용이 추가됨\n",
    "3)  python memo.py memo.txt -r을 치면 내용을 읽어옴\n",
    "'''\n",
    "with open(\"memo.py\", \"w\") as f:\n",
    "    data ='''\n",
    "python memo.py memo.txt -w \"Life is too short\"\n",
    "'''\n",
    "    f.write(data)\n",
    "print('생성완료')"
   ]
  },
  {
   "cell_type": "code",
   "execution_count": 17,
   "id": "d50d27fd-b174-4a5b-8eaa-d4bfe27f27f6",
   "metadata": {},
   "outputs": [
    {
     "name": "stdout",
     "output_type": "stream",
     "text": [
      "생성완료\n",
      "생성완료\n",
      "생성완료2\n",
      "생성완료2\n",
      "<_io.TextIOWrapper name='memo.py' mode='r' encoding='UTF-8'>\n",
      "\"Life is too short\"\"This is my Memo App!\"\n",
      "읽기완료\n",
      "<_io.TextIOWrapper name='memo.txt' mode='r' encoding='UTF-8'>\n",
      "\"Life is too short\"\"This is my Memo App!\"\n",
      "읽기완료\n"
     ]
    }
   ],
   "source": [
    "with open(\"memo.py\", \"w\") as f:\n",
    "    data ='''\"Life is too short\"'''\n",
    "    f.write(data)\n",
    "print('생성완료')\n",
    "\n",
    "with open(\"memo.txt\", \"w\") as f:\n",
    "    data ='''\"Life is too short\"'''\n",
    "    f.write(data)\n",
    "print('생성완료')\n",
    "\n",
    "fa = open(\"memo.py\",\"a\")\n",
    "for i in range(2,3):\n",
    "    data = '''\"This is my Memo App!\"'''\n",
    "    fa.write(data)\n",
    "fa.close()\n",
    "print('생성완료2')\n",
    "\n",
    "fa = open(\"memo.txt\",\"a\")\n",
    "for i in range(2,3):\n",
    "    data = '''\"This is my Memo App!\"'''\n",
    "    fa.write(data)\n",
    "fa.close()\n",
    "print('생성완료2')\n",
    "\n",
    "with open(\"memo.py\",\"r\") as fr: \n",
    "    print(fr)\n",
    "    for line in fr:\n",
    "        print(line)\n",
    "print('읽기완료')\n",
    "\n",
    "with open(\"memo.txt\",\"r\") as fr: \n",
    "    print(fr)\n",
    "    for line in fr:\n",
    "        print(line)\n",
    "print('읽기완료')"
   ]
  },
  {
   "cell_type": "markdown",
   "id": "3e18a2e3-ff10-4d1d-b110-b16008296ff2",
   "metadata": {},
   "source": [
    "# 파이썬의 확장"
   ]
  },
  {
   "cell_type": "markdown",
   "id": "ec46e85d-1c70-4eac-aab6-241be7ed5413",
   "metadata": {},
   "source": [
    "## 3.8. 클래스(☆☆)"
   ]
  },
  {
   "cell_type": "markdown",
   "id": "06bdd09f-7df8-44e2-9b82-e932f6a430f7",
   "metadata": {},
   "source": [
    "### 3.8.1. 클래스와 객체\n",
    "- 과자 틀 : 클래스\n",
    "- 과자틀로 찍어 낸 과자 = 객체"
   ]
  },
  {
   "cell_type": "markdown",
   "id": "7d891fac-4a4e-4c99-847d-c84a3cab86d6",
   "metadata": {},
   "source": [
    "<fieldset><legend>점프 투 파이썬</legend>\n",
    "<strong>객체와 인스턴스의 차이</strong><p></p>\n",
    "<p>클래스로 만든 객체를 ‘인스턴스’라고도 한다. 그렇다면 객체와 인스턴스의 차이는 무엇일까? 이렇게 생각해 보자. <code>a = Cookie()</code>로 만든 a는 객체이다. 그리고 a 객체는 Cookie의 인스턴스이다. 즉, 인스턴스라는 말은 특정 객체(a)가 어떤 클래스(Cookie)의 객체인지를 관계 위주로 설명할 때 사용한다. ‘a는 인스턴스’보다 ‘a는 객체’라는 표현이 어울리며 ‘a는 Cookie의 객체’보다 ‘a는 Cookie의 인스턴스’라는 표현이 훨씬 잘 어울린다.\n",
    "</p></fieldset>"
   ]
  },
  {
   "cell_type": "code",
   "execution_count": 20,
   "id": "6d377061-12b4-4304-8d68-dddde0ffc8a6",
   "metadata": {},
   "outputs": [],
   "source": [
    "class Cookie:\n",
    "    pass"
   ]
  },
  {
   "cell_type": "markdown",
   "id": "e9fe2076-dbeb-4f5c-91cd-0ecac3766850",
   "metadata": {},
   "source": [
    "### 3.8.2. 사칙연산 클래스 만들기"
   ]
  },
  {
   "cell_type": "markdown",
   "id": "9d0f0ecf-4df2-49af-ae49-2944682d31a1",
   "metadata": {},
   "source": [
    "#### 3.8.2.1. 어떻게 만들지 먼저 구상하기"
   ]
  },
  {
   "attachments": {
    "f67bd069-a994-4b92-bda4-e0edddf2ebef.png": {
     "image/png": "[encoded data removed]"
    }
   },
   "cell_type": "markdown",
   "id": "182bdff4-9698-47ce-b548-2e06c45ebfd0",
   "metadata": {},
   "source": [
    "![image.png](attachment:f67bd069-a994-4b92-bda4-e0edddf2ebef.png)"
   ]
  },
  {
   "cell_type": "markdown",
   "id": "87150dd2-7418-48aa-96aa-e95a68afb2a9",
   "metadata": {},
   "source": [
    "#### 3.8.2.2. 클래스 구조 만들기"
   ]
  },
  {
   "cell_type": "code",
   "execution_count": 23,
   "id": "4fa19e6d-5cc8-4f14-a1c0-41b1478e9c6c",
   "metadata": {},
   "outputs": [
    {
     "name": "stdout",
     "output_type": "stream",
     "text": [
      "<class '__main__.FourCal'>\n"
     ]
    }
   ],
   "source": [
    "class FourCal:\n",
    "    pass\n",
    "a = FourCal()\n",
    "print(type(a)) # 객체a가 FourCal 클래스의 인스턴스"
   ]
  },
  {
   "cell_type": "markdown",
   "id": "585deffa-218b-4aa3-ace0-2878bb773758",
   "metadata": {},
   "source": [
    "#### 3.8.2.3. 객체에 연산할 숫자 지정하기"
   ]
  },
  {
   "cell_type": "code",
   "execution_count": 51,
   "id": "021d37fe-cad2-42c9-93cb-ca6709bca8a2",
   "metadata": {},
   "outputs": [],
   "source": [
    "class FourCal:\n",
    "    def setdata(selfID, first, second):\n",
    "        selfID.first = first\n",
    "        selfID.second = second"
   ]
  },
  {
   "cell_type": "markdown",
   "id": "c7c24779-88c0-4e0a-b620-fc33c2b51999",
   "metadata": {},
   "source": [
    "#### 3.8.2.4. 더하기 기능 만들기"
   ]
  },
  {
   "cell_type": "code",
   "execution_count": 52,
   "id": "a4f0bf29-b75c-4034-890c-bec4bbf01233",
   "metadata": {},
   "outputs": [],
   "source": [
    "class FourCal:\n",
    "    def setdata(selfID, first, second):\n",
    "        selfID.first = first\n",
    "        selfID.second = second\n",
    "    def add(selfID): \n",
    "        result = selfID.first + selfID.second\n",
    "        return result"
   ]
  },
  {
   "cell_type": "code",
   "execution_count": 31,
   "id": "4bca6a7a-a30c-497f-ba93-31e5b40a1d59",
   "metadata": {},
   "outputs": [
    {
     "data": {
      "text/plain": [
       "6"
      ]
     },
     "execution_count": 31,
     "metadata": {},
     "output_type": "execute_result"
    }
   ],
   "source": [
    "a = FourCal()\n",
    "a.setdata(4,2)\n",
    "a.add()"
   ]
  },
  {
   "cell_type": "code",
   "execution_count": 53,
   "id": "83ce0e29-471f-4151-8efa-aed78f9c5bb4",
   "metadata": {},
   "outputs": [
    {
     "name": "stdout",
     "output_type": "stream",
     "text": [
      "14\n"
     ]
    }
   ],
   "source": [
    "지훈 = FourCal()\n",
    "지훈.setdata(5,9)\n",
    "print(지훈.add())"
   ]
  },
  {
   "cell_type": "code",
   "execution_count": 61,
   "id": "3455a88b-a55f-47ae-b958-b36e2367670a",
   "metadata": {},
   "outputs": [],
   "source": [
    "class Bexco:\n",
    "    def my(selfID, won, ea):\n",
    "        selfID.won = won\n",
    "        selfID.ea = ea\n",
    "    def dduk(selfID):\n",
    "        result = selfID.won * selfID.ea \n",
    "        print(\"떡볶이집에서 %d치 먹었다\" %result)\n",
    "   # def man(selfID):\n",
    "      #  result = selfID.won * selfID.won\n",
    "     #   print(\"만두집에서 %d치 먹었다\" %result)"
   ]
  },
  {
   "cell_type": "code",
   "execution_count": 55,
   "id": "6d8bf39b-79fb-4ee0-8102-ceb991aa320e",
   "metadata": {},
   "outputs": [],
   "source": [
    "도준 = Bexco()\n",
    "승훈 = Bexco()\n",
    "지훈 = Bexco()"
   ]
  },
  {
   "cell_type": "code",
   "execution_count": 56,
   "id": "cd6c9430-a25d-4403-a465-7ef0b67fa39c",
   "metadata": {},
   "outputs": [],
   "source": [
    "도준.my(24000,44)\n",
    "승훈.my(18000,22)\n",
    "지훈.my(13000,15)"
   ]
  },
  {
   "cell_type": "code",
   "execution_count": 60,
   "id": "40228010-25ce-467b-b001-9706b854f0e4",
   "metadata": {},
   "outputs": [
    {
     "name": "stdout",
     "output_type": "stream",
     "text": [
      "떡볶이집에서 1056000치 먹었다\n",
      "떡볶이집에서 396000치 먹었다\n",
      "떡볶이집에서 195000치 먹었다\n"
     ]
    }
   ],
   "source": [
    "도준.dduk()\n",
    "승훈.dduk()\n",
    "지훈.dduk()"
   ]
  },
  {
   "cell_type": "markdown",
   "id": "91b9a131-c144-4416-baaf-45081a4fa7db",
   "metadata": {},
   "source": [
    "#### 3.8.2.5. 곱하기, 빼기, 나누기, mod 기능 만들기"
   ]
  },
  {
   "cell_type": "code",
   "execution_count": 2,
   "id": "cded0462-397d-47b9-8339-ba0c6d4777de",
   "metadata": {},
   "outputs": [],
   "source": [
    "class FourCal:\n",
    "     def setdata(self, first, second):\n",
    "         self.first = first\n",
    "         self.second = second\n",
    "     def add(self):\n",
    "         result = self.first + self.second\n",
    "         return result\n",
    "     def mul(self):\n",
    "         result = self.first * self.second\n",
    "         return result\n",
    "     def sub(self):\n",
    "         result = self.first - self.second\n",
    "         return result\n",
    "     def div(self):\n",
    "         result = self.first / self.second\n",
    "         return result\n",
    "     def mod(self):\n",
    "         result = self.first % self.second\n",
    "         return result"
   ]
  },
  {
   "cell_type": "code",
   "execution_count": 6,
   "id": "fc9798f5-4359-4d28-969c-0aeb5b4a9961",
   "metadata": {},
   "outputs": [
    {
     "name": "stdout",
     "output_type": "stream",
     "text": [
      "6\n",
      "8\n",
      "2\n",
      "2.0\n",
      "0\n"
     ]
    }
   ],
   "source": [
    "a = FourCal()\n",
    "b = FourCal()\n",
    "a.setdata(4,2)\n",
    "b.setdata(1,8)\n",
    "print(a.add())\n",
    "print(a.mul())\n",
    "print(a.sub())\n",
    "print(a.div())\n",
    "print(a.mod())"
   ]
  },
  {
   "cell_type": "markdown",
   "id": "4bf19fad-6881-40df-ac9a-8cb92c8ae085",
   "metadata": {},
   "source": [
    "### 3.8.3. 생성자(☆)"
   ]
  },
  {
   "cell_type": "code",
   "execution_count": 7,
   "id": "7bbf8b78-fa8e-4144-9aed-16ab37d064f5",
   "metadata": {},
   "outputs": [],
   "source": [
    "class FiveCal:\n",
    "     def __init__(self, first, second):\n",
    "         self.first = first\n",
    "         self.second = second\n",
    "     def setdata(self, first, second):\n",
    "         self.first = first\n",
    "         self.second = second\n",
    "     def add(self):\n",
    "         result = self.first + self.second\n",
    "         return result\n",
    "     def mul(self):\n",
    "         result = self.first * self.second\n",
    "         return result\n",
    "     def sub(self):\n",
    "         result = self.first - self.second\n",
    "         return result\n",
    "     def div(self):\n",
    "         result = self.first / self.second\n",
    "         return result\n",
    "     def mod(self):\n",
    "         result = self.first % self.second\n",
    "         return result"
   ]
  },
  {
   "cell_type": "code",
   "execution_count": 9,
   "id": "6438a912-29fc-4b6f-8c7e-4cf78f34af6d",
   "metadata": {},
   "outputs": [],
   "source": [
    "a = FiveCal(5,3)"
   ]
  },
  {
   "cell_type": "code",
   "execution_count": 10,
   "id": "faab243d-f999-4b6f-9151-e8ffc0cde7c1",
   "metadata": {},
   "outputs": [
    {
     "data": {
      "text/plain": [
       "8"
      ]
     },
     "execution_count": 10,
     "metadata": {},
     "output_type": "execute_result"
    }
   ],
   "source": [
    "a.add()"
   ]
  },
  {
   "attachments": {
    "9472d244-ac64-4bd6-a623-01f716baf54f.png": {
     "image/png": "[encoded data removed]"
    }
   },
   "cell_type": "markdown",
   "id": "47f1c4fa-ccfe-4a07-b07f-9aa82273c3e5",
   "metadata": {},
   "source": [
    "![image.png](attachment:9472d244-ac64-4bd6-a623-01f716baf54f.png) </br>\n",
    "초기값 안넣어주면 에러남"
   ]
  },
  {
   "cell_type": "code",
   "execution_count": 11,
   "id": "2b2fbdc4-45bd-4bb1-acea-e3f03e9314e1",
   "metadata": {},
   "outputs": [
    {
     "data": {
      "text/plain": [
       "10"
      ]
     },
     "execution_count": 11,
     "metadata": {},
     "output_type": "execute_result"
    }
   ],
   "source": [
    "a.setdata(3,7)\n",
    "a.add()"
   ]
  },
  {
   "cell_type": "code",
   "execution_count": 12,
   "id": "8908fc78-861d-4009-b030-ca884de481ca",
   "metadata": {},
   "outputs": [
    {
     "data": {
      "text/plain": [
       "8"
      ]
     },
     "execution_count": 12,
     "metadata": {},
     "output_type": "execute_result"
    }
   ],
   "source": [
    "a.__init__(4,4)\n",
    "a.add()"
   ]
  },
  {
   "cell_type": "markdown",
   "id": "40b4fa06-85c8-4784-ba6e-655f57094117",
   "metadata": {},
   "source": [
    "### 3.8.4. 클래스의 상속(☆)"
   ]
  },
  {
   "cell_type": "code",
   "execution_count": 13,
   "id": "91ce7288-9380-4892-a47a-b9b37055a275",
   "metadata": {},
   "outputs": [],
   "source": [
    "class SixCal(FiveCal):\n",
    "    pass"
   ]
  },
  {
   "cell_type": "code",
   "execution_count": 15,
   "id": "49c4e6f3-f753-4471-881f-1ee52ab998c6",
   "metadata": {},
   "outputs": [
    {
     "data": {
      "text/plain": [
       "1"
      ]
     },
     "execution_count": 15,
     "metadata": {},
     "output_type": "execute_result"
    }
   ],
   "source": [
    "aa = SixCal(7,3)\n",
    "aa.mod()"
   ]
  },
  {
   "cell_type": "markdown",
   "id": "56885a78-ce95-4d23-9841-ff0d80080d9b",
   "metadata": {},
   "source": [
    "#### + 기능추가(pow)"
   ]
  },
  {
   "cell_type": "code",
   "execution_count": 16,
   "id": "db4451d6-9b36-48e8-a192-a5f2e1a2cd1d",
   "metadata": {},
   "outputs": [],
   "source": [
    "class SixCal(FiveCal):\n",
    "    def pow(self):\n",
    "        result = self.first ** self.second\n",
    "        return result"
   ]
  },
  {
   "cell_type": "code",
   "execution_count": 18,
   "id": "88ed6f3f-dbc3-4cd9-9552-ff7b6883e731",
   "metadata": {},
   "outputs": [
    {
     "data": {
      "text/plain": [
       "65536"
      ]
     },
     "execution_count": 18,
     "metadata": {},
     "output_type": "execute_result"
    }
   ],
   "source": [
    "aa = SixCal(2,16)\n",
    "aa.pow()"
   ]
  },
  {
   "cell_type": "markdown",
   "id": "4821eac8-0d86-41e1-8b05-2165ceb7e899",
   "metadata": {},
   "source": [
    "### 3.8.5. 메서드 오버라이딩(☆)\n",
    "- 이름이 같을 경우 내용을 업데이트"
   ]
  },
  {
   "cell_type": "code",
   "execution_count": 19,
   "id": "669be590-3a49-4035-89b0-cb30a3ad7223",
   "metadata": {},
   "outputs": [],
   "source": [
    "class NewCal(SixCal):\n",
    "    def div(self):\n",
    "        if self.second ==0:\n",
    "            return 0\n",
    "        else: \n",
    "            return self.first / self.second"
   ]
  },
  {
   "cell_type": "markdown",
   "id": "c0a6977d-1a62-4989-b078-c59fb36f775d",
   "metadata": {},
   "source": [
    "### 3.8.6. 클래스 변수(☆)\n",
    "- 클래스의 필드에 변수를 작성"
   ]
  },
  {
   "cell_type": "code",
   "execution_count": 20,
   "id": "da619c4a-3303-46d3-94ab-9c4124c8bb0e",
   "metadata": {},
   "outputs": [],
   "source": [
    "class Student:\n",
    "    name = \"지훈\""
   ]
  },
  {
   "cell_type": "code",
   "execution_count": 21,
   "id": "2005307e-4de9-4f70-b8c2-89b68a67b5b9",
   "metadata": {},
   "outputs": [
    {
     "data": {
      "text/plain": [
       "'지훈'"
      ]
     },
     "execution_count": 21,
     "metadata": {},
     "output_type": "execute_result"
    }
   ],
   "source": [
    "Student.name"
   ]
  },
  {
   "cell_type": "code",
   "execution_count": 22,
   "id": "dbefa9d9-e928-45b8-8667-7f0f5ae9d8ff",
   "metadata": {},
   "outputs": [
    {
     "name": "stdout",
     "output_type": "stream",
     "text": [
      "지훈\n",
      "지훈\n"
     ]
    }
   ],
   "source": [
    "a = Student()\n",
    "b = Student()\n",
    "print(a.name)\n",
    "print(b.name)"
   ]
  },
  {
   "cell_type": "code",
   "execution_count": 23,
   "id": "b1861ba6-2c9b-4300-b04a-ef23ca3b2d48",
   "metadata": {},
   "outputs": [
    {
     "name": "stdout",
     "output_type": "stream",
     "text": [
      "도준\n",
      "도준\n"
     ]
    }
   ],
   "source": [
    "Student.name = \"도준\"\n",
    "a = Student()\n",
    "b = Student()\n",
    "print(a.name)\n",
    "print(b.name)"
   ]
  },
  {
   "cell_type": "markdown",
   "id": "9b4b3005-e21c-41e8-96ab-b8a13f545ea3",
   "metadata": {},
   "source": [
    "### 3.8.7. 클래스 응용"
   ]
  },
  {
   "cell_type": "code",
   "execution_count": 60,
   "id": "5b234783-ee8f-4dd8-ba2b-716ffeb6dcfb",
   "metadata": {},
   "outputs": [],
   "source": [
    "# 기본 클래스 형태\n",
    "class Basic: #괄호는 상속할때만 넣는다!\n",
    "    def __init__(self, level):\n",
    "        self.level = level\n",
    "    def eat(self):\n",
    "        print('잘먹어요')\n",
    "    def say(self):\n",
    "        print(f'레벨은 {self.level} 입니다.')\n",
    "    def move(self):\n",
    "        print('이동을 합니다')"
   ]
  },
  {
   "cell_type": "code",
   "execution_count": 61,
   "id": "89a2c905-6403-4cea-bc9f-f2642d3c53d8",
   "metadata": {},
   "outputs": [],
   "source": [
    "a = Basic(1)\n",
    "b = Basic(8)\n",
    "c = Basic(20)"
   ]
  },
  {
   "cell_type": "code",
   "execution_count": 62,
   "id": "0082e40b-2e54-4d45-9b4d-d9f2469b959d",
   "metadata": {},
   "outputs": [
    {
     "name": "stdout",
     "output_type": "stream",
     "text": [
      "잘먹어요\n",
      "레벨은 1 입니다.\n",
      "이동을 합니다\n",
      "잘먹어요\n",
      "레벨은 8 입니다.\n",
      "이동을 합니다\n",
      "잘먹어요\n",
      "레벨은 20 입니다.\n",
      "이동을 합니다\n"
     ]
    },
    {
     "data": {
      "text/plain": [
       "(None, None, None)"
      ]
     },
     "execution_count": 62,
     "metadata": {},
     "output_type": "execute_result"
    }
   ],
   "source": [
    "a.eat(), a.say(), a.move()\n",
    "b.eat(), b.say(), b.move()\n",
    "c.eat(), c.say(), c.move()"
   ]
  },
  {
   "cell_type": "code",
   "execution_count": 43,
   "id": "570535d3-615a-417a-b3ab-0c69b8bda4df",
   "metadata": {},
   "outputs": [],
   "source": [
    "#상속\n",
    "class Warrior(Basic):\n",
    "    def skill(self):\n",
    "        print(f'1초에 {self.level}번 휘두릅니다.')"
   ]
  },
  {
   "cell_type": "code",
   "execution_count": 44,
   "id": "e911166a-5af2-4996-b631-64b51d7200f5",
   "metadata": {},
   "outputs": [
    {
     "name": "stdout",
     "output_type": "stream",
     "text": [
      "레벨은 7 입니다.\n",
      "1초에 7번 휘두릅니다.\n"
     ]
    }
   ],
   "source": [
    "war = Warrior(7)\n",
    "war.say()\n",
    "war.skill()"
   ]
  },
  {
   "cell_type": "code",
   "execution_count": 50,
   "id": "8d1c6d1b-4de4-4a41-9b27-647a45294489",
   "metadata": {},
   "outputs": [],
   "source": [
    "# 오버라이딩\n",
    "class Sor(Warrior):\n",
    "    def skill(self):\n",
    "        if self.level < 6:\n",
    "            print('당신의 레벨은 %d 레벨, 아직 스킬레벨이 부족합니다.' %self.level)\n",
    "        else:\n",
    "            print(f'{self.level}개의 메테오를 던집니다.')"
   ]
  },
  {
   "cell_type": "code",
   "execution_count": 51,
   "id": "590fc289-e47e-43f8-8cbb-2edec4f4b7f6",
   "metadata": {},
   "outputs": [
    {
     "name": "stdout",
     "output_type": "stream",
     "text": [
      "레벨은 3 입니다.\n",
      "당신의 레벨은 3 레벨, 아직 스킬레벨이 부족합니다.\n",
      "레벨은 17 입니다.\n",
      "17개의 메테오를 던집니다.\n"
     ]
    }
   ],
   "source": [
    "sor = Sor(3)\n",
    "sor2 = Sor(17)\n",
    "sor.say()\n",
    "sor.skill()\n",
    "sor2.say()\n",
    "sor2.skill()"
   ]
  },
  {
   "cell_type": "code",
   "execution_count": 89,
   "id": "1fe223ce-dcd3-441e-aeaa-359e327fdaa7",
   "metadata": {},
   "outputs": [],
   "source": [
    "'''# class Phone: #괄호는 상속할때만 넣는다!\n",
    "    def __init__(s24, speed):\n",
    "        s24.speed = speed\n",
    "    def call(s24):\n",
    "        print('전화기능 :  여보세요')\n",
    "    def msg(s24):\n",
    "        print('문자기능 : 카카오톡')\n",
    "    def speed(s24):\n",
    "        print(f'속도가 {s24.speed} 배 빠릅니다.')\n",
    "'''"
   ]
  },
  {
   "cell_type": "code",
   "execution_count": 91,
   "id": "d8c47996-32cf-4f04-afc1-2ed9fcfbd774",
   "metadata": {},
   "outputs": [
    {
     "data": {
      "text/plain": [
       "'\\ns24 = Phone(24)\\ns24.call()\\ns24.msg()\\ns24.speed()\\n'"
      ]
     },
     "execution_count": 91,
     "metadata": {},
     "output_type": "execute_result"
    }
   ],
   "source": [
    "'''\n",
    "s24 = Phone(24)\n",
    "s24.call()\n",
    "s24.msg()\n",
    "s24.speed()\n",
    "'''"
   ]
  },
  {
   "cell_type": "markdown",
   "id": "faec8bef-1859-4269-ab0d-220bee7405d3",
   "metadata": {},
   "source": [
    "## 3.9. 모듈(☆☆)"
   ]
  },
  {
   "cell_type": "markdown",
   "id": "c09c6827-76a8-4ff9-8820-ecce9cd4b81b",
   "metadata": {},
   "source": [
    "<fieldset><legend>점프 투 파이썬</legend>\r\n",
    "<strong><code>__name__</code> 변수란?</strong><p></p>\r\n",
    "<p>파이썬의 <code>__name__</code> 변수는 파이썬이 내부적으로 사용하는 특별한 변수 이름이다. 만약 <code>C:\\doit&gt;python mod1.py</code>처럼 직접 mod1.py 파일을 실행할 경우, mod1.py의 <code>__name__</code> 변수에는 <code>__main__</code> 값이 저장된다. 하지만 파이썬 셸이나 다른 파이썬 모듈에서 mod1을 import할 경우에는 mod1.py의 <code>__name__</code> 변수에 mod1.py의 모듈 이름인 mod1이 저장된다.</p>\r\n",
    "<pre><code class=\"language-python hljs md-csc-wrap\"><button class=\"md-csc-button btn btn-xs btn-default\"><span class=\"copymsg\">Copy</span></button><span class=\"hljs-meta\">&gt;&gt;&gt; </span><span class=\"hljs-keyword\">import</span> mod1\r\n",
    "<span class=\"hljs-meta\">&gt;&gt;&gt; </span>mod1.__name__\r\n",
    "<span class=\"hljs-string\">'mod1'</span>\r\n",
    "</code></pre>\r\n",
    "<p></p></fieldset>"
   ]
  },
  {
   "cell_type": "code",
   "execution_count": 96,
   "id": "b1c3fdd7-9505-4c1e-bf7f-bdcf8fc66916",
   "metadata": {},
   "outputs": [],
   "source": [
    "with open('mod1.py', 'w') as f:\n",
    "    data='''def add(a,b):\n",
    "    return a+b\n",
    "def sub(a,b): \n",
    "    return a-b'''\n",
    "    f.write(data)"
   ]
  },
  {
   "cell_type": "code",
   "execution_count": 98,
   "id": "32663af9-b6b3-432e-99fb-fb0af8c33d21",
   "metadata": {},
   "outputs": [
    {
     "name": "stdout",
     "output_type": "stream",
     "text": [
      "7\n",
      "4\n"
     ]
    }
   ],
   "source": [
    "import mod1\n",
    "print(mod1.add(3,4))\n",
    "print(mod1.sub(7,3))"
   ]
  },
  {
   "cell_type": "code",
   "execution_count": 102,
   "id": "45eedf63-1320-4a12-a16f-4a95ec5e8d56",
   "metadata": {},
   "outputs": [
    {
     "name": "stdout",
     "output_type": "stream",
     "text": [
      "7\n",
      "4\n"
     ]
    }
   ],
   "source": [
    "#축약형\n",
    "from mod1 import add, sub #from mod1 import *(전체)\n",
    "print(add(3,4))\n",
    "print(sub(7,3))"
   ]
  },
  {
   "cell_type": "code",
   "execution_count": 103,
   "id": "c06a36a0-eabf-4887-8644-5d45d1285044",
   "metadata": {},
   "outputs": [
    {
     "data": {
      "text/plain": [
       "'__main__'"
      ]
     },
     "execution_count": 103,
     "metadata": {},
     "output_type": "execute_result"
    }
   ],
   "source": [
    "__name__"
   ]
  },
  {
   "cell_type": "code",
   "execution_count": 110,
   "id": "43ccd38b-893f-4a15-abc0-6806b1cf27ee",
   "metadata": {},
   "outputs": [],
   "source": [
    "with open('mod1.py', 'a') as f:\n",
    "    data='''\n",
    "print(add(1,4))\n",
    "print(sub(4,2))'''\n",
    "    f.write(data)"
   ]
  },
  {
   "cell_type": "code",
   "execution_count": 106,
   "id": "7c8b0f38-ab21-40cd-acfd-b48a12ebc632",
   "metadata": {},
   "outputs": [],
   "source": [
    "import mod1"
   ]
  },
  {
   "cell_type": "code",
   "execution_count": 111,
   "id": "46aa1433-fea9-4179-80c7-b18e989b0be9",
   "metadata": {},
   "outputs": [],
   "source": [
    "with open('mod1.py', 'a') as f:\n",
    "    data='''\n",
    "print(__name__)'''\n",
    "    f.write(data)"
   ]
  },
  {
   "cell_type": "code",
   "execution_count": 112,
   "id": "72e6800d-64c2-44f7-9bbb-3061b7fd4126",
   "metadata": {},
   "outputs": [
    {
     "name": "stdout",
     "output_type": "stream",
     "text": [
      "5\n",
      "2\n",
      "__main__\n"
     ]
    }
   ],
   "source": [
    "!python mod1.py"
   ]
  },
  {
   "cell_type": "code",
   "execution_count": 113,
   "id": "d798c19e-e85b-4dcd-b6bc-fc8791d59d7f",
   "metadata": {},
   "outputs": [],
   "source": [
    "with open('mod1.py', 'a') as f:\n",
    "    data='''\n",
    "if __name__ == \"__main__\":\n",
    "print(add(1,4))\n",
    "print(sub(4,2))'''\n",
    "    f.write(data)"
   ]
  },
  {
   "cell_type": "markdown",
   "id": "cccb3b47-f583-43dc-92ab-268dcbb6288e",
   "metadata": {},
   "source": [
    "### 3.9.1. 클래스나 변수 등을 포함한 모듈"
   ]
  },
  {
   "cell_type": "code",
   "execution_count": 116,
   "id": "6047467e-77b4-4037-a732-e39b4229500f",
   "metadata": {},
   "outputs": [],
   "source": [
    "f = open('mod2.py', 'w')\n",
    "data = '''PI = 3.141592\n",
    "class Math: \n",
    "    def solv(self, r): \n",
    "        return PI * (r ** 2) \n",
    "def add(a, b): \n",
    "    return a+b'''\n",
    "f.write(data)\n",
    "f.close()"
   ]
  },
  {
   "cell_type": "code",
   "execution_count": 2,
   "id": "a22b05cd-657b-4de2-8566-13b2b5e6144f",
   "metadata": {},
   "outputs": [
    {
     "name": "stdout",
     "output_type": "stream",
     "text": [
      "PI = 3.141592\n",
      "class Math: \n",
      "    def solv(self, r): \n",
      "        return PI * (r ** 2) \n",
      "def add(a, b): \n",
      "    return a+b\n",
      "\n",
      "class Math2:\n",
      "    def __init__(self, r=3):\n",
      "        self.r = r\n",
      "    def solv(self, r):\n",
      "        return PI * (r**2)\n"
     ]
    }
   ],
   "source": [
    "f = open('mod2.py', 'r')\n",
    "print(f.read())\n",
    "f.close()"
   ]
  },
  {
   "cell_type": "code",
   "execution_count": 118,
   "id": "2e05fc4c-cf5f-496c-9eeb-3f9a4b591505",
   "metadata": {},
   "outputs": [
    {
     "name": "stdout",
     "output_type": "stream",
     "text": [
      "3.141592\n"
     ]
    }
   ],
   "source": [
    "import mod2\n",
    "print(mod2.PI) # 변수 로드"
   ]
  },
  {
   "cell_type": "code",
   "execution_count": 119,
   "id": "211f013d-918f-445b-8cc6-a811b54fe7e9",
   "metadata": {},
   "outputs": [
    {
     "name": "stdout",
     "output_type": "stream",
     "text": [
      "12.566368\n"
     ]
    }
   ],
   "source": [
    "a = mod2.Math() # 클래스로부터 인스턴스 만들기\n",
    "print(a.solv(2))"
   ]
  },
  {
   "cell_type": "code",
   "execution_count": 120,
   "id": "0f76f234-63bd-4253-b1d6-1611768f1bbe",
   "metadata": {},
   "outputs": [
    {
     "name": "stdout",
     "output_type": "stream",
     "text": [
      "7.5415920000000005\n"
     ]
    }
   ],
   "source": [
    "print(mod2.add(mod2.PI, 4.4))"
   ]
  },
  {
   "cell_type": "code",
   "execution_count": 1,
   "id": "fcdb23dc-ee3f-4379-9818-c331b85b6a82",
   "metadata": {},
   "outputs": [],
   "source": [
    "f = open('mod2.py', 'a')\n",
    "data = '''\n",
    "class Math2:\n",
    "    def __init__(self, r=3):\n",
    "        self.r = r\n",
    "    def solv(self, r):\n",
    "        return PI * (r**2)'''\n",
    "f.write(data)\n",
    "f.close()"
   ]
  },
  {
   "cell_type": "code",
   "execution_count": 124,
   "id": "dc20e967-8653-4546-a2b5-cabf73cd47d3",
   "metadata": {},
   "outputs": [],
   "source": [
    "#import mod2\n",
    "#a = mod.Math()\n",
    "#b = mod.Math2()\n",
    "#print(a.solv(2))\n",
    "#print(b)"
   ]
  },
  {
   "cell_type": "markdown",
   "id": "2984c422-281b-4922-b41e-0a339f90b206",
   "metadata": {},
   "source": [
    "### 3.9.2. 다른 파일에서 모듈 불러오기 \n",
    "- 파일이 동일한 디렉터리에 있어야 한다."
   ]
  },
  {
   "cell_type": "markdown",
   "id": "6ab20aeb-757e-452b-8df4-3c30aa4ecfe9",
   "metadata": {},
   "source": [
    "### 3.9.3. 다른 디렉터리에 있는 모듈을 불러오는 방법"
   ]
  },
  {
   "cell_type": "markdown",
   "id": "9cef5796-886f-4094-956f-16c5e566b833",
   "metadata": {},
   "source": [
    "#### 3.9.3.1. sys.path.append 사용하기"
   ]
  },
  {
   "cell_type": "code",
   "execution_count": 126,
   "id": "73173771-989b-4be6-8bb6-1f243bd883ae",
   "metadata": {},
   "outputs": [
    {
     "data": {
      "text/plain": [
       "['/home/pi02/py_data',\n",
       " '/usr/lib/python311.zip',\n",
       " '/usr/lib/python3.11',\n",
       " '/usr/lib/python3.11/lib-dynload',\n",
       " '',\n",
       " '/home/pi02/venv/lib/python3.11/site-packages']"
      ]
     },
     "execution_count": 126,
     "metadata": {},
     "output_type": "execute_result"
    }
   ],
   "source": [
    "import sys  #경로찾기\n",
    "sys.path"
   ]
  },
  {
   "cell_type": "markdown",
   "id": "93b1c2ef-3073-48c4-9f85-aaf854220a52",
   "metadata": {},
   "source": [
    "#### 3.9.3.2. PYTHONPATH 환경 변수 사용하기(즉석)"
   ]
  },
  {
   "cell_type": "markdown",
   "id": "f7c26ce0-d9e5-44e5-b91d-4cc7bd4c4e4d",
   "metadata": {},
   "source": [
    "## 3.10. 패키지(☆☆)\n",
    "- 파이썬에서 패키지(packages)란 관련 있는 모듈의 집합을 말한다. 패키지는 파이썬 모듈들을 계층적(디렉터리 구조)으로 관리할 수 있게 해준다.\n",
    "- 파이썬에서 모듈은 하나의 .py 파일이다."
   ]
  },
  {
   "cell_type": "markdown",
   "id": "9df508ce-b197-4994-a52b-8c4d7e2d9fcc",
   "metadata": {},
   "source": [
    "### 3.10.1. 패키지 만들기"
   ]
  },
  {
   "cell_type": "code",
   "execution_count": 15,
   "id": "a132c8ae-03f4-43ea-a932-9829c1118c50",
   "metadata": {},
   "outputs": [
    {
     "data": {
      "text/plain": [
       "'/home/pi02/py_data'"
      ]
     },
     "execution_count": 15,
     "metadata": {},
     "output_type": "execute_result"
    }
   ],
   "source": [
    "import os\n",
    "os.getcwd() # 경로 표시\n",
    "# os.mkdir('pkg') #경로상에 폴더 생성\n",
    "# os.mkdir('pkg/sound') # 경로 내에 폴더 생성\n",
    "# os.makedirs(\"pkg/sound\", exist_ok=True) #exist_ok로 인해 덮어쓰기 가능\n",
    "# os.makedirs('1/2/3/4/5/6/7') #연속경로 생성"
   ]
  },
  {
   "cell_type": "code",
   "execution_count": 17,
   "id": "9777c4c8-4aa2-4a61-a85c-ec8906ae7bc5",
   "metadata": {},
   "outputs": [],
   "source": [
    "# os.makedirs(\"pkg/sound\", exist_ok=True)\n",
    "# os.makedirs(\"pkg/graphic\", exist_ok=True)"
   ]
  },
  {
   "cell_type": "code",
   "execution_count": 20,
   "id": "f34e6c39-87f2-4e8e-bde7-58c3958d8234",
   "metadata": {},
   "outputs": [],
   "source": [
    "with open('pkg/__init__.py','w'):\n",
    "    pass\n",
    "with open('pkg/sound/__init__.py','w'):\n",
    "    pass\n",
    "with open('pkg/graphic/__init__.py','w'):\n",
    "    pass"
   ]
  },
  {
   "cell_type": "code",
   "execution_count": 4,
   "id": "db845193-a80b-4f09-9e5e-888afa91998e",
   "metadata": {},
   "outputs": [],
   "source": [
    "f = open('pkg/sound/echo.py','w')\n",
    "data = '''\n",
    "def echo_test():\n",
    "    print(\"소리테스트\")'''\n",
    "f.write(data)\n",
    "f.close()\n",
    "f = open('pkg/graphic/render.py','w')\n",
    "data = '''\n",
    "def render_test():\n",
    "    print(\"화면테스트\")'''\n",
    "f.write(data)\n",
    "f.close()"
   ]
  },
  {
   "cell_type": "code",
   "execution_count": 23,
   "id": "8bc27f90-51bb-4639-b677-bec2b80736a9",
   "metadata": {},
   "outputs": [
    {
     "name": "stdout",
     "output_type": "stream",
     "text": [
      "/home/pi02/py_data\n"
     ]
    }
   ],
   "source": [
    "!pwd"
   ]
  },
  {
   "cell_type": "code",
   "execution_count": 25,
   "id": "6f359742-9445-46b0-b27a-31f03c56d639",
   "metadata": {},
   "outputs": [],
   "source": [
    "!export PYTHONPATH=/home/pi02/py_data"
   ]
  },
  {
   "cell_type": "markdown",
   "id": "22f43220-0d7d-42db-9ea8-175f946f797a",
   "metadata": {},
   "source": [
    "### 3.10.2. 패키지 안의 함수 실행하기"
   ]
  },
  {
   "cell_type": "markdown",
   "id": "3ad137d3-70ab-4119-930d-16d0a8125966",
   "metadata": {},
   "source": [
    "#### 3.10.2.1. echo 모듈을 import하여 실행"
   ]
  },
  {
   "cell_type": "code",
   "execution_count": 26,
   "id": "af147ff3-6503-4388-94fa-af00781261ee",
   "metadata": {},
   "outputs": [
    {
     "name": "stdout",
     "output_type": "stream",
     "text": [
      "소리테스트\n"
     ]
    }
   ],
   "source": [
    "import pkg.sound.echo\n",
    "pkg.sound.echo.echo_test()"
   ]
  },
  {
   "cell_type": "markdown",
   "id": "d5a95a73-08e0-4943-bd56-4ddfea5074e7",
   "metadata": {},
   "source": [
    "#### 3.10.2.2. echo 모듈이 있는 디렉터리까지를 from.import하여 실행"
   ]
  },
  {
   "cell_type": "code",
   "execution_count": 27,
   "id": "6c9b29ea-f7ba-46e6-8c80-f63729d7bf3b",
   "metadata": {},
   "outputs": [
    {
     "name": "stdout",
     "output_type": "stream",
     "text": [
      "소리테스트\n"
     ]
    }
   ],
   "source": [
    "from pkg.sound import echo\n",
    "echo.echo_test()"
   ]
  },
  {
   "cell_type": "markdown",
   "id": "9b8003ec-76a2-4c90-a3d5-0cd12e8aac12",
   "metadata": {},
   "source": [
    "#### 3.10.2.3. echo 모듈의 echo_test 함수를 직접 import하여 실행"
   ]
  },
  {
   "cell_type": "code",
   "execution_count": 1,
   "id": "f30dfcdc-6f03-467c-a6fa-721a5256fec4",
   "metadata": {},
   "outputs": [
    {
     "name": "stdout",
     "output_type": "stream",
     "text": [
      "소리테스트\n"
     ]
    }
   ],
   "source": [
    "from pkg.sound.echo import echo_test\n",
    "echo_test()"
   ]
  },
  {
   "cell_type": "markdown",
   "id": "0e4c68dd-578a-4611-93bf-dc98558602e6",
   "metadata": {},
   "source": [
    "<span style=\"color:red\"><B>- 도트 연산자(,)를 사용해서 import a.b.c처럼 import할 때 <MARK style=\"color:Purple\">가장 마지막 항목인 c는 반드시 모듈 또는 패키지</MARK>여야만 한다.</B></span>"
   ]
  },
  {
   "cell_type": "markdown",
   "id": "90a1bb4d-3351-4b14-b741-d2d3ab3014b9",
   "metadata": {},
   "source": [
    "### \\_\\_init\\_\\_.py의 용도\r\n",
    "- <b>\\_\\_init\\_\\_.py</b> 파일은 해당 디렉터리가 패키지의 일부임을 알려 주는 역할을 한다. 만약 game, sound, graphic 등 패키지에 포함된 디렉터리에 <b>\\_\\_init\\_\\_.py</b> 파일이 없다면 패키지로 인식되지 않는다.\r\n",
    "<blockquote>\r\n",
    "<p>python 3.3 버전부터는 <code>init.py</code> 파일이 없어도 패키지로 인식한다(<a class=\"wiki_link\" data-title=\"PEP\" data-wiki=\"/page/wiki/PEP\" href=\"javascript:void(0)\">PEP</a> 420). 하지만 하위 버전 호환을 위해 <code>init.py</code> 파일을 생성하는 것이 안전한 방법이다.</p>\r\n",
    "</blockquote>\r\n",
    "- <b>\\_\\_init\\_\\_.py</b> 파일은 패키지와 관련된 설정이나 초기화 코드를 포함할 수 있다. 다양한 방법으로 활용할 수 있는데, 몇 가지 예를 들어 살펴보자.펴보자.>"
   ]
  },
  {
   "cell_type": "markdown",
   "id": "e0238bb8-900b-4e28-9686-7d6819693b27",
   "metadata": {},
   "source": [
    "#### 3.10.3.1. 패키지 변수 및 함수 정의"
   ]
  },
  {
   "cell_type": "code",
   "execution_count": 4,
   "id": "e10dd783-8b6d-406a-97cc-76bed1d6b260",
   "metadata": {},
   "outputs": [],
   "source": [
    "with open('pkg/__init__.py','w') as f:\n",
    "    data = '''VERSION = 3.11\n",
    "\n",
    "def print_version_info():\n",
    "    print(f'The version of this pkg is {VERSION}.')'''\n",
    "    f.write(data)"
   ]
  },
  {
   "cell_type": "code",
   "execution_count": 5,
   "id": "4490401f-2798-4d1d-a7ce-4d3f070cbb7d",
   "metadata": {},
   "outputs": [
    {
     "name": "stdout",
     "output_type": "stream",
     "text": [
      "3.11\n",
      "The version of this pkg is 3.11.\n"
     ]
    }
   ],
   "source": [
    "import pkg\n",
    "print(pkg.VERSION)\n",
    "pkg.print_version_info()"
   ]
  },
  {
   "cell_type": "markdown",
   "id": "a1c9a6b1-f6c0-42e9-a21b-12e82e3e357d",
   "metadata": {},
   "source": [
    "#### 3.10.3.2. 패키지 내 모듈을 미리 import"
   ]
  },
  {
   "cell_type": "code",
   "execution_count": 1,
   "id": "684c3e1b-68f7-4354-916a-ad73774d22e1",
   "metadata": {},
   "outputs": [],
   "source": [
    "with open('pkg/__init__.py','w') as f:\n",
    "    data = '''from .graphic.render import render_test\n",
    "VERSION = 3.11\n",
    "\n",
    "def print_version_info():\n",
    "    print(f'The version of this pkg is {VERSION}.')'''\n",
    "    f.write(data)"
   ]
  },
  {
   "cell_type": "code",
   "execution_count": 2,
   "id": "65202ef4-a2eb-4190-b06a-93b6606d7d44",
   "metadata": {},
   "outputs": [
    {
     "name": "stdout",
     "output_type": "stream",
     "text": [
      "화면테스트\n"
     ]
    }
   ],
   "source": [
    "import pkg\n",
    "pkg.render_test()"
   ]
  },
  {
   "cell_type": "markdown",
   "id": "b8169ba1-155e-41d7-bb5f-e3d4e6e4d28c",
   "metadata": {},
   "source": [
    "#### 3.10.3.3. 패키지 초기화"
   ]
  },
  {
   "cell_type": "code",
   "execution_count": 2,
   "id": "4cba5be7-d28d-4674-bcea-b135da7fef78",
   "metadata": {},
   "outputs": [],
   "source": [
    "with open('pkg/__init__.py','a') as f:\n",
    "   data = '''\n",
    "# 여기에 패키지 초기화 코드를 작성한다.\n",
    "print(\"Initializing game ... \")'''\n",
    "   f.write(data)"
   ]
  },
  {
   "cell_type": "code",
   "execution_count": 3,
   "id": "94068d78-ecc8-4538-aee3-e07ce3145781",
   "metadata": {},
   "outputs": [
    {
     "name": "stdout",
     "output_type": "stream",
     "text": [
      "from .graphic.render import render_test\n",
      "VERSION = 3.11\n",
      "\n",
      "def print_version_info():\n",
      "    print(f'The version of this pkg is {VERSION}.')\n",
      "# 여기에 패키지 초기화 코드를 작성한다.\n",
      "print(\"Initializing game ... \")\n",
      "# 여기에 패키지 초기화 코드를 작성한다.\n",
      "print(\"Initializing game ... \")\n"
     ]
    }
   ],
   "source": [
    "with open('pkg/__init__.py','r') as f:\n",
    "    print(f.read())"
   ]
  },
  {
   "cell_type": "code",
   "execution_count": 1,
   "id": "bac4fd91-6456-431d-9773-f227a5d8490e",
   "metadata": {},
   "outputs": [
    {
     "name": "stdout",
     "output_type": "stream",
     "text": [
      "Initializing game ... \n",
      "Initializing game ... \n"
     ]
    }
   ],
   "source": [
    "import pkg"
   ]
  },
  {
   "cell_type": "code",
   "execution_count": 2,
   "id": "fb8c0d1f-f53f-4fc6-acaf-ed7035f89dc2",
   "metadata": {},
   "outputs": [],
   "source": [
    "from pkg.graphic.render import render_test"
   ]
  },
  {
   "cell_type": "markdown",
   "id": "2a7d14d6-0341-440d-9ec4-30ed8687dcba",
   "metadata": {},
   "source": [
    "#### 3.10.3.4. <b>\\_\\_all\\_\\_</b>"
   ]
  },
  {
   "cell_type": "code",
   "execution_count": 5,
   "id": "e27cca23-7144-4bd7-b84a-be675c608690",
   "metadata": {},
   "outputs": [],
   "source": [
    "with open('pkg/sound/__init__.py', 'w') as f:\n",
    "    data = '''__all__ = ['echo']'''\n",
    "    f.write(data)"
   ]
  },
  {
   "cell_type": "code",
   "execution_count": 6,
   "id": "195790bc-a571-47bd-b2cc-f5cb7476302f",
   "metadata": {},
   "outputs": [],
   "source": [
    "from pkg.sound import * "
   ]
  },
  {
   "cell_type": "code",
   "execution_count": 8,
   "id": "1ab9255e-cf38-4b47-990d-593e441144f5",
   "metadata": {},
   "outputs": [
    {
     "name": "stdout",
     "output_type": "stream",
     "text": [
      "소리테스트\n"
     ]
    }
   ],
   "source": [
    "echo.echo_test()"
   ]
  },
  {
   "cell_type": "markdown",
   "id": "2c7f8a9e-b051-4b60-afe1-3e266b0529da",
   "metadata": {},
   "source": [
    "### 3.10.4. relative 패키지\n",
    "<table>\r\n",
    "<thead>\r\n",
    "<tr>\r\n",
    "<th>접근자</th>\r\n",
    "<th>설명</th>\r\n",
    "</tr>\r\n",
    "</thead>\r\n",
    "<tbody>\r\n",
    "<tr>\r\n",
    "<td><code>..</code></td>\r\n",
    "<td>부모 디렉터리</td>\r\n",
    "</tr>\r\n",
    "<tr>\r\n",
    "<td><code>.</code></td>\r\n",
    "<td>현재 디렉터리</td>\r\n",
    "</tr>\r\n",
    "</tbody>\r\n",
    "</table>"
   ]
  },
  {
   "cell_type": "code",
   "execution_count": 1,
   "id": "1c8d26e2-be92-43ef-aad9-5fa8aec9ee1f",
   "metadata": {},
   "outputs": [],
   "source": [
    "with open('pkg/graphic/render.py', 'w') as f:\n",
    "    data = '''from pkg.sound.echo import echo_test\n",
    "def render_test():\n",
    "    print('화면짱')\n",
    "    echo_test()'''\n",
    "    f.write(data)"
   ]
  },
  {
   "cell_type": "code",
   "execution_count": 2,
   "id": "3e3eb8ef-a1b2-48f6-a5e4-52dd4d1790f5",
   "metadata": {},
   "outputs": [
    {
     "name": "stdout",
     "output_type": "stream",
     "text": [
      "Initializing game ... \n",
      "화면짱\n",
      "소리테스트\n"
     ]
    }
   ],
   "source": [
    "from pkg.graphic.render import render_test\n",
    "render_test()"
   ]
  },
  {
   "cell_type": "code",
   "execution_count": 3,
   "id": "5cc1b1af-b413-4923-98a2-77310f9074cd",
   "metadata": {},
   "outputs": [],
   "source": [
    "with open('pkg/graphic/render.py', 'w') as f:\n",
    "    data = '''from ..sound.echo import echo_test\n",
    "def render_test():\n",
    "    print('화면짱')\n",
    "    echo_test()'''\n",
    "    f.write(data)"
   ]
  },
  {
   "cell_type": "code",
   "execution_count": 1,
   "id": "41b3f7ae-b8e6-4977-84a6-5df93761839a",
   "metadata": {},
   "outputs": [
    {
     "name": "stdout",
     "output_type": "stream",
     "text": [
      "Initializing game ... \n",
      "화면짱\n",
      "소리테스트\n"
     ]
    }
   ],
   "source": [
    "from pkg.graphic.render import render_test\n",
    "render_test()"
   ]
  },
  {
   "cell_type": "markdown",
   "id": "3cec4060-633d-415c-9932-f6039f37fa69",
   "metadata": {},
   "source": [
    "## 예외처리"
   ]
  },
  {
   "cell_type": "markdown",
   "id": "0f24c534-27c7-4347-be5f-7c95b2134522",
   "metadata": {},
   "source": [
    "### 오류발생\n",
    "- 오타\n",
    "- 존재하지 않는 파일을 사용\n",
    "- 수학적 오류\n",
    "- 인덱스 오류"
   ]
  },
  {
   "cell_type": "markdown",
   "id": "d6074afe-6156-46f7-84dd-c5c9b9520c8f",
   "metadata": {},
   "source": [
    "### 오류 예외 처리 기법\n",
    "- try-except 문\n",
    "- try-finally 문\n",
    "- 여러 개의 오류 처리하기\n",
    "- try-else 문"
   ]
  },
  {
   "cell_type": "markdown",
   "id": "b6c85bda-d87c-4210-a4d0-9bbdb4383fee",
   "metadata": {},
   "source": [
    "#### try-except문"
   ]
  },
  {
   "cell_type": "code",
   "execution_count": 4,
   "id": "bd8e645d-b912-4f52-8c42-4ff679d2bca6",
   "metadata": {},
   "outputs": [],
   "source": [
    "# 일반적 에러\n",
    "# 4/0\n",
    "# 발생 : division by zero"
   ]
  },
  {
   "attachments": {
    "fcd87444-3592-4c1a-a378-f9e4d221be66.png": {
     "image/png": "[encoded data removed]"
    }
   },
   "cell_type": "markdown",
   "id": "42ea8a73-e915-461f-9bc3-31bb494f1580",
   "metadata": {},
   "source": [
    "![image.png](attachment:fcd87444-3592-4c1a-a378-f9e4d221be66.png)"
   ]
  },
  {
   "cell_type": "code",
   "execution_count": 12,
   "id": "5222fa62-da76-4628-bfbf-aacae4121f74",
   "metadata": {},
   "outputs": [
    {
     "name": "stdout",
     "output_type": "stream",
     "text": [
      "3\n",
      "에러남\n"
     ]
    }
   ],
   "source": [
    "# Try-except(모든 에러 발생 시)\n",
    "try:\n",
    "    4/0\n",
    "except:\n",
    "    a=1\n",
    "    b=2\n",
    "    print(a+b)\n",
    "    print('에러남')"
   ]
  },
  {
   "cell_type": "code",
   "execution_count": 16,
   "id": "18c97093-ff55-4b28-b344-24f06e1025df",
   "metadata": {},
   "outputs": [
    {
     "name": "stdout",
     "output_type": "stream",
     "text": [
      "종료되면 안돼\n",
      "에러남\n"
     ]
    }
   ],
   "source": [
    "# Try-except2(발생 오류만 포함한 except 문)\n",
    "try:\n",
    "    print('종료되면 안돼')\n",
    "    4/0\n",
    "    for i in 3:\n",
    "        pass\n",
    "except ZeroDivisionError:\n",
    "    print('에러남')"
   ]
  },
  {
   "cell_type": "code",
   "execution_count": 29,
   "id": "7effc355-5727-4acb-bdec-c9cd627d93b9",
   "metadata": {},
   "outputs": [
    {
     "name": "stdout",
     "output_type": "stream",
     "text": [
      "division by zero\n"
     ]
    }
   ],
   "source": [
    "# Try-except2(발생 오류와 오류변수를 포함한 except문)\n",
    "try:\n",
    "    4/0\n",
    "    for i in 3:\n",
    "        pass\n",
    "except ZeroDivisionError as e:\n",
    "    print(e)"
   ]
  },
  {
   "cell_type": "markdown",
   "id": "42f00045-2fe4-4ddc-a490-b2b7395c7f29",
   "metadata": {},
   "source": [
    "#### try-finally 문"
   ]
  },
  {
   "cell_type": "code",
   "execution_count": 27,
   "id": "96c3efc8-8c16-4892-81ed-056644bcefdd",
   "metadata": {},
   "outputs": [
    {
     "name": "stdout",
     "output_type": "stream",
     "text": [
      "열은 파일 닫음\n"
     ]
    },
    {
     "ename": "TypeError",
     "evalue": "'int' object is not iterable",
     "output_type": "error",
     "traceback": [
      "\u001b[0;31m---------------------------------------------------------------------------\u001b[0m",
      "\u001b[0;31mTypeError\u001b[0m                                 Traceback (most recent call last)",
      "Cell \u001b[0;32mIn[27], line 5\u001b[0m\n\u001b[1;32m      3\u001b[0m     f \u001b[38;5;241m=\u001b[39m \u001b[38;5;28mopen\u001b[39m(\u001b[38;5;124m'\u001b[39m\u001b[38;5;124mfoo.txt\u001b[39m\u001b[38;5;124m'\u001b[39m, \u001b[38;5;124m'\u001b[39m\u001b[38;5;124mw\u001b[39m\u001b[38;5;124m'\u001b[39m)\n\u001b[1;32m      4\u001b[0m     \u001b[38;5;66;03m# 무언가 수정함\u001b[39;00m\n\u001b[0;32m----> 5\u001b[0m \u001b[43m    \u001b[49m\u001b[38;5;28;43;01mfor\u001b[39;49;00m\u001b[43m \u001b[49m\u001b[43mi\u001b[49m\u001b[43m \u001b[49m\u001b[38;5;129;43;01min\u001b[39;49;00m\u001b[43m \u001b[49m\u001b[38;5;241;43m3\u001b[39;49m\u001b[43m:\u001b[49m\n\u001b[1;32m      6\u001b[0m \u001b[43m        \u001b[49m\u001b[43mf\u001b[49m\u001b[38;5;241;43m.\u001b[39;49m\u001b[43mwrite\u001b[49m\u001b[43m(\u001b[49m\u001b[43mi\u001b[49m\u001b[43m)\u001b[49m\n\u001b[1;32m      7\u001b[0m \u001b[38;5;28;01mfinally\u001b[39;00m:\n",
      "\u001b[0;31mTypeError\u001b[0m: 'int' object is not iterable"
     ]
    }
   ],
   "source": [
    "# try-finally 구문(무조건 실행)\n",
    "try:\n",
    "    f = open('foo.txt', 'w')\n",
    "    # 무언가 수정함\n",
    "    for i in 3:\n",
    "        f.write(i)\n",
    "finally:\n",
    "    f.close()\n",
    "    print('열은 파일 닫음')"
   ]
  },
  {
   "cell_type": "markdown",
   "id": "46698a08-c604-43d0-ab5b-85d56f99d7fa",
   "metadata": {},
   "source": [
    "#### 여러 개의 오류 처리하기"
   ]
  },
  {
   "cell_type": "code",
   "execution_count": 32,
   "id": "0ffe1b31-1905-4ced-94bb-ce6370685ed3",
   "metadata": {},
   "outputs": [
    {
     "name": "stdout",
     "output_type": "stream",
     "text": [
      "list index out of range\n"
     ]
    }
   ],
   "source": [
    "# Try-except 여러개 1 (먼저 발생 에러만 표현)\n",
    "try: \n",
    "    a = [1,2]\n",
    "    print(a[3])\n",
    "    4/0\n",
    "except IndexError as e:\n",
    "    print(e)\n",
    "except ZeroDivisionError as j:\n",
    "    print(j)"
   ]
  },
  {
   "cell_type": "code",
   "execution_count": null,
   "id": "3067f8ab-282a-4a48-a32b-1aca0760e5e1",
   "metadata": {},
   "outputs": [],
   "source": [
    "# Try-except 여러개 2(먼저 발생 에러만 표현)\n",
    "try: \n",
    "    a = [1,2]\n",
    "    print(a[3])\n",
    "    4/0\n",
    "except InderError as e:\n",
    "    print(e)"
   ]
  },
  {
   "cell_type": "markdown",
   "id": "e239d7ab-9a27-4ffd-b74b-131c705c358f",
   "metadata": {},
   "source": [
    "#### try-else 문"
   ]
  },
  {
   "cell_type": "code",
   "execution_count": 34,
   "id": "62fbcfe6-04d5-4d0c-860f-87be8dea3f37",
   "metadata": {},
   "outputs": [
    {
     "name": "stdin",
     "output_type": "stream",
     "text": [
      "나이를 입력하세요 :  3\n"
     ]
    },
    {
     "name": "stdout",
     "output_type": "stream",
     "text": [
      "미성년자는 출입금지입니다.\n"
     ]
    }
   ],
   "source": [
    "# try-else문(오류가 없을때 else문 실행)\n",
    "try:\n",
    "    age=int(input('나이를 입력하세요 : '))\n",
    "except:\n",
    "    print('입력이 정확하지 않습니다.')\n",
    "else:\n",
    "    if age <= 18:\n",
    "        print('미성년자는 출입금지입니다.')\n",
    "    else:\n",
    "        print('환영합니다.')"
   ]
  },
  {
   "cell_type": "markdown",
   "id": "4c52bca0-67ab-4bab-be84-a368f3ce228d",
   "metadata": {},
   "source": [
    "### 오류 회피하기"
   ]
  },
  {
   "cell_type": "code",
   "execution_count": 36,
   "id": "418dc3f9-b8be-4aeb-9edc-6e0a9cd598ed",
   "metadata": {},
   "outputs": [],
   "source": [
    "try:\n",
    "    f = open(\"나없는파일\", 'r')\n",
    "except FileNotFoundError as e:\n",
    "    # print(e)\n",
    "    pass"
   ]
  },
  {
   "cell_type": "markdown",
   "id": "f6e08e72-9c83-46e0-9820-03c1f16a10bc",
   "metadata": {},
   "source": [
    "### 오류 일부러 발생시키기 : raise(☆)"
   ]
  },
  {
   "cell_type": "code",
   "execution_count": 37,
   "id": "343ce23e-b7be-49e8-bdf5-99f1bc83b870",
   "metadata": {},
   "outputs": [],
   "source": [
    "class Bird:\n",
    "    def fly(self):\n",
    "        raise NotImplementedError"
   ]
  },
  {
   "cell_type": "code",
   "execution_count": 39,
   "id": "0a1a5268-25dc-4427-a679-27d552e849ca",
   "metadata": {},
   "outputs": [
    {
     "name": "stdout",
     "output_type": "stream",
     "text": [
      "very fast\n"
     ]
    }
   ],
   "source": [
    "class Eagle(Bird):\n",
    "    # pass\n",
    "    def fly(self):\n",
    "        print(\"very fast\")\n",
    "eagle = Eagle()\n",
    "eagle.fly()"
   ]
  },
  {
   "cell_type": "markdown",
   "id": "0b800e3a-a26f-40ef-85c0-bc7379604c95",
   "metadata": {},
   "source": [
    "### 예외 만들기(☆)"
   ]
  },
  {
   "cell_type": "code",
   "execution_count": 44,
   "id": "f1d27696-0032-45ab-aeed-863fd46a4152",
   "metadata": {},
   "outputs": [],
   "source": [
    "class MyError(Exception):\n",
    "    # pass\n",
    "    def __str__(self):\n",
    "        return \"허용되지 않는 별명입니다.\""
   ]
  },
  {
   "cell_type": "code",
   "execution_count": 45,
   "id": "2c3e148a-2373-48ff-9acf-6a6ad2b48ecd",
   "metadata": {},
   "outputs": [],
   "source": [
    "def say_nick(nick):\n",
    "    if nick == '바보':\n",
    "        raise MyError()\n",
    "    print(nick)"
   ]
  },
  {
   "cell_type": "code",
   "execution_count": 46,
   "id": "182884f2-6ce0-4f24-a112-8a0d0ea565f8",
   "metadata": {},
   "outputs": [
    {
     "name": "stdout",
     "output_type": "stream",
     "text": [
      "천사\n",
      "허용되지 않는 별명입니다.\n"
     ]
    }
   ],
   "source": [
    "try:\n",
    "    say_nick(\"천사\")\n",
    "    say_nick(\"바보\")\n",
    "except MyError as e:\n",
    "    print(e)"
   ]
  },
  {
   "cell_type": "markdown",
   "id": "323f4a89-c38f-4c47-915f-01918008f522",
   "metadata": {},
   "source": [
    "## 내장함수"
   ]
  },
  {
   "cell_type": "markdown",
   "id": "d51ea86c-d2a2-4948-a0c0-5e76438da588",
   "metadata": {},
   "source": [
    "### all : 모두가 참"
   ]
  },
  {
   "cell_type": "code",
   "execution_count": 48,
   "id": "9f20e161-a9c9-455f-8878-4ed350664a8e",
   "metadata": {},
   "outputs": [
    {
     "data": {
      "text/plain": [
       "False"
      ]
     },
     "execution_count": 48,
     "metadata": {},
     "output_type": "execute_result"
    }
   ],
   "source": [
    "all([1,2,3,0,5,6])"
   ]
  },
  {
   "cell_type": "markdown",
   "id": "220f5994-1649-4196-ba3a-191ca8ffd046",
   "metadata": {},
   "source": [
    "### any : 하나라도 참이면 참"
   ]
  },
  {
   "cell_type": "code",
   "execution_count": 50,
   "id": "e45ce4ff-6b70-4bbf-a808-71f2394ffb70",
   "metadata": {},
   "outputs": [
    {
     "data": {
      "text/plain": [
       "True"
      ]
     },
     "execution_count": 50,
     "metadata": {},
     "output_type": "execute_result"
    }
   ],
   "source": [
    "any([1,0,3,0,5,0,0])"
   ]
  },
  {
   "cell_type": "markdown",
   "id": "d15f2f84-b5c8-4a86-880c-6a987b1e0f15",
   "metadata": {},
   "source": [
    "### chr : 유니코드를 입력받아 해당하는 문자 리턴"
   ]
  },
  {
   "attachments": {
    "588ada59-ffa4-4f74-a75d-0cd2b935c888.png": {
     "image/png": "[encoded data removed]"
    }
   },
   "cell_type": "markdown",
   "id": "a8e67bc8-9c11-402e-a4ea-6c037f6b8913",
   "metadata": {},
   "source": [
    "![image.png](attachment:588ada59-ffa4-4f74-a75d-0cd2b935c888.png)"
   ]
  },
  {
   "cell_type": "code",
   "execution_count": 62,
   "id": "b60b0ed2-e102-4275-9cef-05f7c9692225",
   "metadata": {},
   "outputs": [
    {
     "data": {
      "text/plain": [
       "'A'"
      ]
     },
     "execution_count": 62,
     "metadata": {},
     "output_type": "execute_result"
    }
   ],
   "source": [
    "chr(65)"
   ]
  },
  {
   "cell_type": "code",
   "execution_count": 64,
   "id": "8e7fe9d6-2468-4826-b08a-ac487387b86b",
   "metadata": {},
   "outputs": [
    {
     "name": "stdout",
     "output_type": "stream",
     "text": [
      "A,B,C,D,E,F,G,H,I,J,K,L,M,N,O,P,Q,R,S,T,U,V,W,X,Y,Z,"
     ]
    }
   ],
   "source": [
    "for i in range(65,91):\n",
    "    print(chr(i),end=\",\")"
   ]
  },
  {
   "cell_type": "code",
   "execution_count": 73,
   "id": "aba1af66-df29-40de-8cd4-25d9ab48ba51",
   "metadata": {},
   "outputs": [],
   "source": [
    "def dn(text):\n",
    "    print(chr(ord(text)+32))"
   ]
  },
  {
   "cell_type": "code",
   "execution_count": 74,
   "id": "441217e9-25ee-4832-b9ee-147d8dad7750",
   "metadata": {},
   "outputs": [
    {
     "name": "stdout",
     "output_type": "stream",
     "text": [
      "h\n"
     ]
    }
   ],
   "source": [
    "dn('H')"
   ]
  },
  {
   "cell_type": "markdown",
   "id": "2e960a13-018d-411c-8ac4-a29caf5a8871",
   "metadata": {},
   "source": [
    "### dir : 객체가 지닌 변수나 함수를 보여준다."
   ]
  },
  {
   "cell_type": "code",
   "execution_count": 75,
   "id": "3b7080d4-6341-4cd9-ab9a-6b3b9fc022ef",
   "metadata": {
    "scrolled": true
   },
   "outputs": [
    {
     "data": {
      "text/plain": [
       "['__add__',\n",
       " '__class__',\n",
       " '__class_getitem__',\n",
       " '__contains__',\n",
       " '__delattr__',\n",
       " '__delitem__',\n",
       " '__dir__',\n",
       " '__doc__',\n",
       " '__eq__',\n",
       " '__format__',\n",
       " '__ge__',\n",
       " '__getattribute__',\n",
       " '__getitem__',\n",
       " '__getstate__',\n",
       " '__gt__',\n",
       " '__hash__',\n",
       " '__iadd__',\n",
       " '__imul__',\n",
       " '__init__',\n",
       " '__init_subclass__',\n",
       " '__iter__',\n",
       " '__le__',\n",
       " '__len__',\n",
       " '__lt__',\n",
       " '__mul__',\n",
       " '__ne__',\n",
       " '__new__',\n",
       " '__reduce__',\n",
       " '__reduce_ex__',\n",
       " '__repr__',\n",
       " '__reversed__',\n",
       " '__rmul__',\n",
       " '__setattr__',\n",
       " '__setitem__',\n",
       " '__sizeof__',\n",
       " '__str__',\n",
       " '__subclasshook__',\n",
       " 'append',\n",
       " 'clear',\n",
       " 'copy',\n",
       " 'count',\n",
       " 'extend',\n",
       " 'index',\n",
       " 'insert',\n",
       " 'pop',\n",
       " 'remove',\n",
       " 'reverse',\n",
       " 'sort']"
      ]
     },
     "execution_count": 75,
     "metadata": {},
     "output_type": "execute_result"
    }
   ],
   "source": [
    "dir([])"
   ]
  },
  {
   "cell_type": "markdown",
   "id": "39102a76-19ed-4730-ba0e-70a94c6334a3",
   "metadata": {},
   "source": [
    "### enumerate "
   ]
  },
  {
   "cell_type": "code",
   "execution_count": 77,
   "id": "bdb920bc-b143-40e0-9ffc-8e3299717b2b",
   "metadata": {},
   "outputs": [
    {
     "name": "stdout",
     "output_type": "stream",
     "text": [
      "0 a\n",
      "1 b\n",
      "2 c\n"
     ]
    }
   ],
   "source": [
    "for i, v in enumerate(['a','b','c']):\n",
    "    print(i,v)"
   ]
  },
  {
   "cell_type": "code",
   "execution_count": 78,
   "id": "eabc810d-f189-495b-a09d-a740efe2f5f3",
   "metadata": {},
   "outputs": [
    {
     "name": "stdout",
     "output_type": "stream",
     "text": [
      "a 0\n",
      "b 1\n",
      "c 2\n"
     ]
    }
   ],
   "source": [
    "arr = ['a','b','c']\n",
    "for (v,i) in zip(arr,range(len(arr))):\n",
    "    print(v,i)"
   ]
  },
  {
   "cell_type": "markdown",
   "id": "08078583-d6fb-4043-9a9e-d25fd2c48b44",
   "metadata": {},
   "source": [
    "### filter : 리턴값이 참인 것만 리턴"
   ]
  },
  {
   "cell_type": "code",
   "execution_count": 91,
   "id": "5ff9976b-7321-42b0-9981-e37927777024",
   "metadata": {},
   "outputs": [
    {
     "name": "stdout",
     "output_type": "stream",
     "text": [
      "[1, 2, 6]\n"
     ]
    }
   ],
   "source": [
    "# 사용 전\n",
    "def positive(l):\n",
    "    result=[]\n",
    "    for i in l:\n",
    "        if i > 0:\n",
    "            result.append(i)\n",
    "    return result\n",
    "print(positive([1,-3,2,0,-5,6]))"
   ]
  },
  {
   "cell_type": "code",
   "execution_count": 98,
   "id": "1113713c-59ae-493a-aed8-2803066a2c76",
   "metadata": {},
   "outputs": [],
   "source": [
    "# 사용 후\n",
    "def positive(x):\n",
    "    return x > 0"
   ]
  },
  {
   "cell_type": "code",
   "execution_count": 99,
   "id": "89a1b79d-1337-4365-9a89-386907ff53fc",
   "metadata": {},
   "outputs": [
    {
     "name": "stdout",
     "output_type": "stream",
     "text": [
      "[1, 2, 6]\n"
     ]
    }
   ],
   "source": [
    "print(list(filter(positive, [1,-3,2,0,-5,6])))"
   ]
  },
  {
   "cell_type": "code",
   "execution_count": 100,
   "id": "75c0d69e-8cdf-421c-8c7d-38054d90be41",
   "metadata": {},
   "outputs": [
    {
     "data": {
      "text/plain": [
       "[1, 2, 6]"
      ]
     },
     "execution_count": 100,
     "metadata": {},
     "output_type": "execute_result"
    }
   ],
   "source": [
    "list(filter(lambda x : x > 0 ,[1,-3,2,0,-5,6]))"
   ]
  },
  {
   "cell_type": "markdown",
   "id": "e39ded5b-29fd-4b9b-9895-8dd7f524bcef",
   "metadata": {},
   "source": [
    "### map : 요소에 함수 f를 적용한 결과를 리턴하는 함수"
   ]
  },
  {
   "cell_type": "code",
   "execution_count": 101,
   "id": "7a12cb17-27f5-4be1-80e0-3ab464d914b1",
   "metadata": {},
   "outputs": [
    {
     "name": "stdout",
     "output_type": "stream",
     "text": [
      "[2, 4, 6, 8]\n"
     ]
    }
   ],
   "source": [
    "# 사용 전\n",
    "def two_times(numberList):\n",
    "    result=[]\n",
    "    for number in numberList:\n",
    "        result.append(number*2)\n",
    "    return result\n",
    "result = two_times([1,2,3,4])\n",
    "print(result)"
   ]
  },
  {
   "cell_type": "code",
   "execution_count": 102,
   "id": "24a2557e-dce1-46a5-a68b-cd63d3675aca",
   "metadata": {},
   "outputs": [
    {
     "data": {
      "text/plain": [
       "[2, 4, 6, 8]"
      ]
     },
     "execution_count": 102,
     "metadata": {},
     "output_type": "execute_result"
    }
   ],
   "source": [
    "# 사용 후\n",
    "def two_times(x):\n",
    "    return x*2\n",
    "list(map(two_times,[1,2,3,4]))"
   ]
  },
  {
   "cell_type": "markdown",
   "id": "cfa51a90-e6cb-47bb-9679-ab204d01a39e",
   "metadata": {},
   "source": [
    "### round : 반올림"
   ]
  },
  {
   "cell_type": "code",
   "execution_count": 103,
   "id": "5ab948fc-2583-46d5-a9fd-41c9b048fdc7",
   "metadata": {},
   "outputs": [
    {
     "data": {
      "text/plain": [
       "3"
      ]
     },
     "execution_count": 103,
     "metadata": {},
     "output_type": "execute_result"
    }
   ],
   "source": [
    "round(3.14)"
   ]
  },
  {
   "cell_type": "markdown",
   "id": "6e840aa0-f182-4c12-a182-f0e8c9443779",
   "metadata": {},
   "source": [
    "### sorted : 입력 데이터를 정렬한 후 그 결과를 리스트로 리턴"
   ]
  },
  {
   "cell_type": "code",
   "execution_count": 104,
   "id": "9d6fc1a5-4d43-428e-87de-45cccb486ecd",
   "metadata": {},
   "outputs": [
    {
     "data": {
      "text/plain": [
       "[1, 2, 4, 4, 6, 7, 22, 43, 434, 32312332]"
      ]
     },
     "execution_count": 104,
     "metadata": {},
     "output_type": "execute_result"
    }
   ],
   "source": [
    "sorted([4,1,22,4,6,2,32312332,434,43,7])"
   ]
  },
  {
   "cell_type": "markdown",
   "id": "2a6d5e2d-8efe-4487-877a-a9ccc3be20ab",
   "metadata": {},
   "source": [
    "## 표준 라이브러리"
   ]
  },
  {
   "cell_type": "markdown",
   "id": "156540e8-e869-4f4f-a742-4aa8b06a4214",
   "metadata": {},
   "source": [
    "### datetime.date"
   ]
  },
  {
   "cell_type": "code",
   "execution_count": 105,
   "id": "7d774310-b696-46d0-9cc7-b9bc14ffa0ca",
   "metadata": {},
   "outputs": [
    {
     "data": {
      "text/plain": [
       "124"
      ]
     },
     "execution_count": 105,
     "metadata": {},
     "output_type": "execute_result"
    }
   ],
   "source": [
    "import datetime\n",
    "day1 = datetime.date(2023,9,20)\n",
    "day2 = datetime.date(2024,1,22)\n",
    "diff = day2 - day1\n",
    "diff.days"
   ]
  },
  {
   "cell_type": "markdown",
   "id": "8e56c3f9-8e89-46e3-9d29-cb61d2eba4e5",
   "metadata": {},
   "source": [
    "### time"
   ]
  },
  {
   "cell_type": "markdown",
   "id": "faf9568e-fd1a-40c2-8351-021504806b2c",
   "metadata": {},
   "source": [
    "#### time.time : 초로 계산"
   ]
  },
  {
   "cell_type": "code",
   "execution_count": 113,
   "id": "9db2cb35-f0cf-45ad-97c0-95f875e422d1",
   "metadata": {},
   "outputs": [
    {
     "data": {
      "text/plain": [
       "1705894287.8041954"
      ]
     },
     "execution_count": 113,
     "metadata": {},
     "output_type": "execute_result"
    }
   ],
   "source": [
    "import time as t\n",
    "t.time()"
   ]
  },
  {
   "cell_type": "code",
   "execution_count": 114,
   "id": "547a9948-2893-47cd-9bd1-9870086a025d",
   "metadata": {},
   "outputs": [
    {
     "data": {
      "text/plain": [
       "time.struct_time(tm_year=2024, tm_mon=1, tm_mday=22, tm_hour=12, tm_min=31, tm_sec=32, tm_wday=0, tm_yday=22, tm_isdst=0)"
      ]
     },
     "execution_count": 114,
     "metadata": {},
     "output_type": "execute_result"
    }
   ],
   "source": [
    "time.localtime(t.time())"
   ]
  },
  {
   "cell_type": "code",
   "execution_count": 115,
   "id": "b3d588c4-b7b1-4c21-955a-a94fd5d7eaf6",
   "metadata": {},
   "outputs": [
    {
     "data": {
      "text/plain": [
       "'Mon Jan 22 12:31:43 2024'"
      ]
     },
     "execution_count": 115,
     "metadata": {},
     "output_type": "execute_result"
    }
   ],
   "source": [
    "t.ctime()"
   ]
  },
  {
   "cell_type": "code",
   "execution_count": 116,
   "id": "3165d051-c2e6-4b2e-b361-96f71768e1ec",
   "metadata": {
    "scrolled": true
   },
   "outputs": [
    {
     "data": {
      "text/plain": [
       "<function time.sleep>"
      ]
     },
     "execution_count": 116,
     "metadata": {},
     "output_type": "execute_result"
    }
   ],
   "source": [
    "t.sleep"
   ]
  },
  {
   "cell_type": "markdown",
   "id": "3acd2b81-0a7d-4367-9382-1bb0f909e5f2",
   "metadata": {},
   "source": [
    "### random : 규칙이 없는 임의의 수"
   ]
  },
  {
   "cell_type": "code",
   "execution_count": 118,
   "id": "b3a4f568-0b17-4388-87f3-e79466ecb279",
   "metadata": {},
   "outputs": [
    {
     "name": "stdout",
     "output_type": "stream",
     "text": [
      "3\n",
      "1\n",
      "5\n",
      "4\n",
      "2\n"
     ]
    }
   ],
   "source": [
    "import random\n",
    "def random_pop(data):\n",
    "    number = random.randint(0, len(data)-1)\n",
    "    return data.pop(number)\n",
    "\n",
    "if __name__ == \"__main__\":\n",
    "    data = [1,2,3,4,5]\n",
    "    while data:\n",
    "        print(random_pop(data))"
   ]
  },
  {
   "cell_type": "code",
   "execution_count": 121,
   "id": "0ca0badc-f412-416b-9715-e7932a15cf85",
   "metadata": {},
   "outputs": [
    {
     "name": "stdout",
     "output_type": "stream",
     "text": [
      "3.3ms : [332776, 332571, 333439, 334091, 333704, 333419]\n"
     ]
    }
   ],
   "source": [
    "#random, randint\n",
    "import random as r\n",
    "import time as t\n",
    "list=[0]*6\n",
    "start = t.time()\n",
    "for i in range(2000000):\n",
    "    ran = r.randint(1,6)\n",
    "    list[ran-1]+=1\n",
    "end = t.time()-start\n",
    "print(f'{round(end,2)}ms : {list}')"
   ]
  },
  {
   "cell_type": "markdown",
   "id": "23038e3b-b7d0-40f7-acef-f295e3acf180",
   "metadata": {},
   "source": [
    "### itertools.permutation, itertools.combination @(☆)"
   ]
  },
  {
   "cell_type": "markdown",
   "id": "6eb01ff7-0a29-4677-8756-13eec93499fb",
   "metadata": {},
   "source": [
    "### functools.reduce @(☆)"
   ]
  },
  {
   "cell_type": "markdown",
   "id": "fd33328f-f005-49b2-b46c-92464588f8a8",
   "metadata": {},
   "source": [
    "### operator.itemgetter @(☆)"
   ]
  },
  {
   "cell_type": "markdown",
   "id": "e9fdd712-89af-4ba9-ab19-e771e6835e4a",
   "metadata": {},
   "source": [
    "### shutil(☆☆) : 파일을 복사(copy)하거나 이동(move)할 때 사용하는 모듈"
   ]
  },
  {
   "cell_type": "markdown",
   "id": "a6e0ea74-c579-4deb-abfd-6a3110afd486",
   "metadata": {},
   "source": [
    "### glob (☆)"
   ]
  },
  {
   "cell_type": "markdown",
   "id": "e3140c60-f1d0-4a14-b0af-7c4e34fa7d1c",
   "metadata": {},
   "source": [
    "### pickle @(☆)"
   ]
  },
  {
   "cell_type": "markdown",
   "id": "9ad5e307-ed37-4e91-810b-3bf4a608fa4d",
   "metadata": {},
   "source": [
    "### OS"
   ]
  },
  {
   "cell_type": "markdown",
   "id": "c6b20c16-3815-424b-b83a-104875a23b28",
   "metadata": {},
   "source": [
    "### zipfile @(☆)"
   ]
  },
  {
   "cell_type": "markdown",
   "id": "7673564f-40fa-4db5-92dd-ff89155a2185",
   "metadata": {},
   "source": [
    "### threading @(☆☆)"
   ]
  },
  {
   "cell_type": "markdown",
   "id": "26d3d0b6-f98f-4db1-af1d-f1a294459dbb",
   "metadata": {},
   "source": [
    "### tempfile @"
   ]
  },
  {
   "cell_type": "markdown",
   "id": "b4d09160-bc20-4499-84df-13b8ff53ecdc",
   "metadata": {},
   "source": [
    "### traceback @"
   ]
  },
  {
   "cell_type": "markdown",
   "id": "1ea13462-4222-4ae2-b285-f79393d4b3ed",
   "metadata": {},
   "source": [
    "### JSON (☆☆)"
   ]
  },
  {
   "cell_type": "markdown",
   "id": "4e400ff5-311f-4712-8804-d9d2f021d497",
   "metadata": {},
   "source": [
    "### urllib @"
   ]
  },
  {
   "cell_type": "code",
   "execution_count": null,
   "id": "d27e99cf-7e6c-49ea-9091-3344c27c3449",
   "metadata": {},
   "outputs": [],
   "source": []
  }
 ],
 "metadata": {
  "kernelspec": {
   "display_name": "Python 3 (ipykernel)",
   "language": "python",
   "name": "python3"
  },
  "language_info": {
   "codemirror_mode": {
    "name": "ipython",
    "version": 3
   },
   "file_extension": ".py",
   "mimetype": "text/x-python",
   "name": "python",
   "nbconvert_exporter": "python",
   "pygments_lexer": "ipython3",
   "version": "3.11.2"
  }
 },
 "nbformat": 4,
 "nbformat_minor": 5
}
